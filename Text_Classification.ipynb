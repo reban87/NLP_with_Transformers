{
  "nbformat": 4,
  "nbformat_minor": 0,
  "metadata": {
    "colab": {
      "provenance": []
    },
    "kernelspec": {
      "name": "python3",
      "display_name": "Python 3"
    },
    "language_info": {
      "name": "python"
    },
    "widgets": {
      "application/vnd.jupyter.widget-state+json": {
        "a30052e0c5d346999708f12fcd587a44": {
          "model_module": "@jupyter-widgets/controls",
          "model_name": "HBoxModel",
          "model_module_version": "1.5.0",
          "state": {
            "_dom_classes": [],
            "_model_module": "@jupyter-widgets/controls",
            "_model_module_version": "1.5.0",
            "_model_name": "HBoxModel",
            "_view_count": null,
            "_view_module": "@jupyter-widgets/controls",
            "_view_module_version": "1.5.0",
            "_view_name": "HBoxView",
            "box_style": "",
            "children": [
              "IPY_MODEL_bc87fb1a45de4e4095a5fa7a250fdc02",
              "IPY_MODEL_b0305340853e4fad8511f53ea39430a6",
              "IPY_MODEL_8ac31caccf674c67bc050da2315bff5a"
            ],
            "layout": "IPY_MODEL_2979c7dc5de94d44b959cb8bd3c8c4c6"
          }
        },
        "bc87fb1a45de4e4095a5fa7a250fdc02": {
          "model_module": "@jupyter-widgets/controls",
          "model_name": "HTMLModel",
          "model_module_version": "1.5.0",
          "state": {
            "_dom_classes": [],
            "_model_module": "@jupyter-widgets/controls",
            "_model_module_version": "1.5.0",
            "_model_name": "HTMLModel",
            "_view_count": null,
            "_view_module": "@jupyter-widgets/controls",
            "_view_module_version": "1.5.0",
            "_view_name": "HTMLView",
            "description": "",
            "description_tooltip": null,
            "layout": "IPY_MODEL_318c7024539f4ffaae814163bd208ab6",
            "placeholder": "​",
            "style": "IPY_MODEL_060c378fa6e749cda9c9cb36c38b47d1",
            "value": "100%"
          }
        },
        "b0305340853e4fad8511f53ea39430a6": {
          "model_module": "@jupyter-widgets/controls",
          "model_name": "FloatProgressModel",
          "model_module_version": "1.5.0",
          "state": {
            "_dom_classes": [],
            "_model_module": "@jupyter-widgets/controls",
            "_model_module_version": "1.5.0",
            "_model_name": "FloatProgressModel",
            "_view_count": null,
            "_view_module": "@jupyter-widgets/controls",
            "_view_module_version": "1.5.0",
            "_view_name": "ProgressView",
            "bar_style": "success",
            "description": "",
            "description_tooltip": null,
            "layout": "IPY_MODEL_d51f14049be84de4ab007f7ee79ef1d4",
            "max": 3,
            "min": 0,
            "orientation": "horizontal",
            "style": "IPY_MODEL_e44de5c35799429e9c1cec87e030d691",
            "value": 3
          }
        },
        "8ac31caccf674c67bc050da2315bff5a": {
          "model_module": "@jupyter-widgets/controls",
          "model_name": "HTMLModel",
          "model_module_version": "1.5.0",
          "state": {
            "_dom_classes": [],
            "_model_module": "@jupyter-widgets/controls",
            "_model_module_version": "1.5.0",
            "_model_name": "HTMLModel",
            "_view_count": null,
            "_view_module": "@jupyter-widgets/controls",
            "_view_module_version": "1.5.0",
            "_view_name": "HTMLView",
            "description": "",
            "description_tooltip": null,
            "layout": "IPY_MODEL_eb49c741065b40aab449f8cfe5bce31b",
            "placeholder": "​",
            "style": "IPY_MODEL_f0bce90a5b2948a78356dd7888e8b525",
            "value": " 3/3 [00:00&lt;00:00, 86.97it/s]"
          }
        },
        "2979c7dc5de94d44b959cb8bd3c8c4c6": {
          "model_module": "@jupyter-widgets/base",
          "model_name": "LayoutModel",
          "model_module_version": "1.2.0",
          "state": {
            "_model_module": "@jupyter-widgets/base",
            "_model_module_version": "1.2.0",
            "_model_name": "LayoutModel",
            "_view_count": null,
            "_view_module": "@jupyter-widgets/base",
            "_view_module_version": "1.2.0",
            "_view_name": "LayoutView",
            "align_content": null,
            "align_items": null,
            "align_self": null,
            "border": null,
            "bottom": null,
            "display": null,
            "flex": null,
            "flex_flow": null,
            "grid_area": null,
            "grid_auto_columns": null,
            "grid_auto_flow": null,
            "grid_auto_rows": null,
            "grid_column": null,
            "grid_gap": null,
            "grid_row": null,
            "grid_template_areas": null,
            "grid_template_columns": null,
            "grid_template_rows": null,
            "height": null,
            "justify_content": null,
            "justify_items": null,
            "left": null,
            "margin": null,
            "max_height": null,
            "max_width": null,
            "min_height": null,
            "min_width": null,
            "object_fit": null,
            "object_position": null,
            "order": null,
            "overflow": null,
            "overflow_x": null,
            "overflow_y": null,
            "padding": null,
            "right": null,
            "top": null,
            "visibility": null,
            "width": null
          }
        },
        "318c7024539f4ffaae814163bd208ab6": {
          "model_module": "@jupyter-widgets/base",
          "model_name": "LayoutModel",
          "model_module_version": "1.2.0",
          "state": {
            "_model_module": "@jupyter-widgets/base",
            "_model_module_version": "1.2.0",
            "_model_name": "LayoutModel",
            "_view_count": null,
            "_view_module": "@jupyter-widgets/base",
            "_view_module_version": "1.2.0",
            "_view_name": "LayoutView",
            "align_content": null,
            "align_items": null,
            "align_self": null,
            "border": null,
            "bottom": null,
            "display": null,
            "flex": null,
            "flex_flow": null,
            "grid_area": null,
            "grid_auto_columns": null,
            "grid_auto_flow": null,
            "grid_auto_rows": null,
            "grid_column": null,
            "grid_gap": null,
            "grid_row": null,
            "grid_template_areas": null,
            "grid_template_columns": null,
            "grid_template_rows": null,
            "height": null,
            "justify_content": null,
            "justify_items": null,
            "left": null,
            "margin": null,
            "max_height": null,
            "max_width": null,
            "min_height": null,
            "min_width": null,
            "object_fit": null,
            "object_position": null,
            "order": null,
            "overflow": null,
            "overflow_x": null,
            "overflow_y": null,
            "padding": null,
            "right": null,
            "top": null,
            "visibility": null,
            "width": null
          }
        },
        "060c378fa6e749cda9c9cb36c38b47d1": {
          "model_module": "@jupyter-widgets/controls",
          "model_name": "DescriptionStyleModel",
          "model_module_version": "1.5.0",
          "state": {
            "_model_module": "@jupyter-widgets/controls",
            "_model_module_version": "1.5.0",
            "_model_name": "DescriptionStyleModel",
            "_view_count": null,
            "_view_module": "@jupyter-widgets/base",
            "_view_module_version": "1.2.0",
            "_view_name": "StyleView",
            "description_width": ""
          }
        },
        "d51f14049be84de4ab007f7ee79ef1d4": {
          "model_module": "@jupyter-widgets/base",
          "model_name": "LayoutModel",
          "model_module_version": "1.2.0",
          "state": {
            "_model_module": "@jupyter-widgets/base",
            "_model_module_version": "1.2.0",
            "_model_name": "LayoutModel",
            "_view_count": null,
            "_view_module": "@jupyter-widgets/base",
            "_view_module_version": "1.2.0",
            "_view_name": "LayoutView",
            "align_content": null,
            "align_items": null,
            "align_self": null,
            "border": null,
            "bottom": null,
            "display": null,
            "flex": null,
            "flex_flow": null,
            "grid_area": null,
            "grid_auto_columns": null,
            "grid_auto_flow": null,
            "grid_auto_rows": null,
            "grid_column": null,
            "grid_gap": null,
            "grid_row": null,
            "grid_template_areas": null,
            "grid_template_columns": null,
            "grid_template_rows": null,
            "height": null,
            "justify_content": null,
            "justify_items": null,
            "left": null,
            "margin": null,
            "max_height": null,
            "max_width": null,
            "min_height": null,
            "min_width": null,
            "object_fit": null,
            "object_position": null,
            "order": null,
            "overflow": null,
            "overflow_x": null,
            "overflow_y": null,
            "padding": null,
            "right": null,
            "top": null,
            "visibility": null,
            "width": null
          }
        },
        "e44de5c35799429e9c1cec87e030d691": {
          "model_module": "@jupyter-widgets/controls",
          "model_name": "ProgressStyleModel",
          "model_module_version": "1.5.0",
          "state": {
            "_model_module": "@jupyter-widgets/controls",
            "_model_module_version": "1.5.0",
            "_model_name": "ProgressStyleModel",
            "_view_count": null,
            "_view_module": "@jupyter-widgets/base",
            "_view_module_version": "1.2.0",
            "_view_name": "StyleView",
            "bar_color": null,
            "description_width": ""
          }
        },
        "eb49c741065b40aab449f8cfe5bce31b": {
          "model_module": "@jupyter-widgets/base",
          "model_name": "LayoutModel",
          "model_module_version": "1.2.0",
          "state": {
            "_model_module": "@jupyter-widgets/base",
            "_model_module_version": "1.2.0",
            "_model_name": "LayoutModel",
            "_view_count": null,
            "_view_module": "@jupyter-widgets/base",
            "_view_module_version": "1.2.0",
            "_view_name": "LayoutView",
            "align_content": null,
            "align_items": null,
            "align_self": null,
            "border": null,
            "bottom": null,
            "display": null,
            "flex": null,
            "flex_flow": null,
            "grid_area": null,
            "grid_auto_columns": null,
            "grid_auto_flow": null,
            "grid_auto_rows": null,
            "grid_column": null,
            "grid_gap": null,
            "grid_row": null,
            "grid_template_areas": null,
            "grid_template_columns": null,
            "grid_template_rows": null,
            "height": null,
            "justify_content": null,
            "justify_items": null,
            "left": null,
            "margin": null,
            "max_height": null,
            "max_width": null,
            "min_height": null,
            "min_width": null,
            "object_fit": null,
            "object_position": null,
            "order": null,
            "overflow": null,
            "overflow_x": null,
            "overflow_y": null,
            "padding": null,
            "right": null,
            "top": null,
            "visibility": null,
            "width": null
          }
        },
        "f0bce90a5b2948a78356dd7888e8b525": {
          "model_module": "@jupyter-widgets/controls",
          "model_name": "DescriptionStyleModel",
          "model_module_version": "1.5.0",
          "state": {
            "_model_module": "@jupyter-widgets/controls",
            "_model_module_version": "1.5.0",
            "_model_name": "DescriptionStyleModel",
            "_view_count": null,
            "_view_module": "@jupyter-widgets/base",
            "_view_module_version": "1.2.0",
            "_view_name": "StyleView",
            "description_width": ""
          }
        },
        "7e6b7b97facb40ffa29ff6e1ab120dc0": {
          "model_module": "@jupyter-widgets/controls",
          "model_name": "HBoxModel",
          "model_module_version": "1.5.0",
          "state": {
            "_dom_classes": [],
            "_model_module": "@jupyter-widgets/controls",
            "_model_module_version": "1.5.0",
            "_model_name": "HBoxModel",
            "_view_count": null,
            "_view_module": "@jupyter-widgets/controls",
            "_view_module_version": "1.5.0",
            "_view_name": "HBoxView",
            "box_style": "",
            "children": [
              "IPY_MODEL_f410e545c91045feae1197a7b7ebf641",
              "IPY_MODEL_b7d40262ea6148e1b30be6442a1a8fba",
              "IPY_MODEL_6e0fe249f01d4438be45f3d047384895"
            ],
            "layout": "IPY_MODEL_9b39b64d35fb459baaf493d12d3668a0"
          }
        },
        "f410e545c91045feae1197a7b7ebf641": {
          "model_module": "@jupyter-widgets/controls",
          "model_name": "HTMLModel",
          "model_module_version": "1.5.0",
          "state": {
            "_dom_classes": [],
            "_model_module": "@jupyter-widgets/controls",
            "_model_module_version": "1.5.0",
            "_model_name": "HTMLModel",
            "_view_count": null,
            "_view_module": "@jupyter-widgets/controls",
            "_view_module_version": "1.5.0",
            "_view_name": "HTMLView",
            "description": "",
            "description_tooltip": null,
            "layout": "IPY_MODEL_249d3ff31aed46aba6c6fa6af90c0281",
            "placeholder": "​",
            "style": "IPY_MODEL_246498e0e1f540cf9192ac2a2148ecbe",
            "value": "100%"
          }
        },
        "b7d40262ea6148e1b30be6442a1a8fba": {
          "model_module": "@jupyter-widgets/controls",
          "model_name": "FloatProgressModel",
          "model_module_version": "1.5.0",
          "state": {
            "_dom_classes": [],
            "_model_module": "@jupyter-widgets/controls",
            "_model_module_version": "1.5.0",
            "_model_name": "FloatProgressModel",
            "_view_count": null,
            "_view_module": "@jupyter-widgets/controls",
            "_view_module_version": "1.5.0",
            "_view_name": "ProgressView",
            "bar_style": "success",
            "description": "",
            "description_tooltip": null,
            "layout": "IPY_MODEL_f02a7cf820834f168e26526aa74dd5dd",
            "max": 1,
            "min": 0,
            "orientation": "horizontal",
            "style": "IPY_MODEL_d478ce31362d42a58a06a2713bc13873",
            "value": 1
          }
        },
        "6e0fe249f01d4438be45f3d047384895": {
          "model_module": "@jupyter-widgets/controls",
          "model_name": "HTMLModel",
          "model_module_version": "1.5.0",
          "state": {
            "_dom_classes": [],
            "_model_module": "@jupyter-widgets/controls",
            "_model_module_version": "1.5.0",
            "_model_name": "HTMLModel",
            "_view_count": null,
            "_view_module": "@jupyter-widgets/controls",
            "_view_module_version": "1.5.0",
            "_view_name": "HTMLView",
            "description": "",
            "description_tooltip": null,
            "layout": "IPY_MODEL_4797237b757e4108901687632c88954a",
            "placeholder": "​",
            "style": "IPY_MODEL_69e6f52031fc4cc3b06c1e2edb33fba2",
            "value": " 1/1 [00:00&lt;00:00, 32.82it/s]"
          }
        },
        "9b39b64d35fb459baaf493d12d3668a0": {
          "model_module": "@jupyter-widgets/base",
          "model_name": "LayoutModel",
          "model_module_version": "1.2.0",
          "state": {
            "_model_module": "@jupyter-widgets/base",
            "_model_module_version": "1.2.0",
            "_model_name": "LayoutModel",
            "_view_count": null,
            "_view_module": "@jupyter-widgets/base",
            "_view_module_version": "1.2.0",
            "_view_name": "LayoutView",
            "align_content": null,
            "align_items": null,
            "align_self": null,
            "border": null,
            "bottom": null,
            "display": null,
            "flex": null,
            "flex_flow": null,
            "grid_area": null,
            "grid_auto_columns": null,
            "grid_auto_flow": null,
            "grid_auto_rows": null,
            "grid_column": null,
            "grid_gap": null,
            "grid_row": null,
            "grid_template_areas": null,
            "grid_template_columns": null,
            "grid_template_rows": null,
            "height": null,
            "justify_content": null,
            "justify_items": null,
            "left": null,
            "margin": null,
            "max_height": null,
            "max_width": null,
            "min_height": null,
            "min_width": null,
            "object_fit": null,
            "object_position": null,
            "order": null,
            "overflow": null,
            "overflow_x": null,
            "overflow_y": null,
            "padding": null,
            "right": null,
            "top": null,
            "visibility": null,
            "width": null
          }
        },
        "249d3ff31aed46aba6c6fa6af90c0281": {
          "model_module": "@jupyter-widgets/base",
          "model_name": "LayoutModel",
          "model_module_version": "1.2.0",
          "state": {
            "_model_module": "@jupyter-widgets/base",
            "_model_module_version": "1.2.0",
            "_model_name": "LayoutModel",
            "_view_count": null,
            "_view_module": "@jupyter-widgets/base",
            "_view_module_version": "1.2.0",
            "_view_name": "LayoutView",
            "align_content": null,
            "align_items": null,
            "align_self": null,
            "border": null,
            "bottom": null,
            "display": null,
            "flex": null,
            "flex_flow": null,
            "grid_area": null,
            "grid_auto_columns": null,
            "grid_auto_flow": null,
            "grid_auto_rows": null,
            "grid_column": null,
            "grid_gap": null,
            "grid_row": null,
            "grid_template_areas": null,
            "grid_template_columns": null,
            "grid_template_rows": null,
            "height": null,
            "justify_content": null,
            "justify_items": null,
            "left": null,
            "margin": null,
            "max_height": null,
            "max_width": null,
            "min_height": null,
            "min_width": null,
            "object_fit": null,
            "object_position": null,
            "order": null,
            "overflow": null,
            "overflow_x": null,
            "overflow_y": null,
            "padding": null,
            "right": null,
            "top": null,
            "visibility": null,
            "width": null
          }
        },
        "246498e0e1f540cf9192ac2a2148ecbe": {
          "model_module": "@jupyter-widgets/controls",
          "model_name": "DescriptionStyleModel",
          "model_module_version": "1.5.0",
          "state": {
            "_model_module": "@jupyter-widgets/controls",
            "_model_module_version": "1.5.0",
            "_model_name": "DescriptionStyleModel",
            "_view_count": null,
            "_view_module": "@jupyter-widgets/base",
            "_view_module_version": "1.2.0",
            "_view_name": "StyleView",
            "description_width": ""
          }
        },
        "f02a7cf820834f168e26526aa74dd5dd": {
          "model_module": "@jupyter-widgets/base",
          "model_name": "LayoutModel",
          "model_module_version": "1.2.0",
          "state": {
            "_model_module": "@jupyter-widgets/base",
            "_model_module_version": "1.2.0",
            "_model_name": "LayoutModel",
            "_view_count": null,
            "_view_module": "@jupyter-widgets/base",
            "_view_module_version": "1.2.0",
            "_view_name": "LayoutView",
            "align_content": null,
            "align_items": null,
            "align_self": null,
            "border": null,
            "bottom": null,
            "display": null,
            "flex": null,
            "flex_flow": null,
            "grid_area": null,
            "grid_auto_columns": null,
            "grid_auto_flow": null,
            "grid_auto_rows": null,
            "grid_column": null,
            "grid_gap": null,
            "grid_row": null,
            "grid_template_areas": null,
            "grid_template_columns": null,
            "grid_template_rows": null,
            "height": null,
            "justify_content": null,
            "justify_items": null,
            "left": null,
            "margin": null,
            "max_height": null,
            "max_width": null,
            "min_height": null,
            "min_width": null,
            "object_fit": null,
            "object_position": null,
            "order": null,
            "overflow": null,
            "overflow_x": null,
            "overflow_y": null,
            "padding": null,
            "right": null,
            "top": null,
            "visibility": null,
            "width": null
          }
        },
        "d478ce31362d42a58a06a2713bc13873": {
          "model_module": "@jupyter-widgets/controls",
          "model_name": "ProgressStyleModel",
          "model_module_version": "1.5.0",
          "state": {
            "_model_module": "@jupyter-widgets/controls",
            "_model_module_version": "1.5.0",
            "_model_name": "ProgressStyleModel",
            "_view_count": null,
            "_view_module": "@jupyter-widgets/base",
            "_view_module_version": "1.2.0",
            "_view_name": "StyleView",
            "bar_color": null,
            "description_width": ""
          }
        },
        "4797237b757e4108901687632c88954a": {
          "model_module": "@jupyter-widgets/base",
          "model_name": "LayoutModel",
          "model_module_version": "1.2.0",
          "state": {
            "_model_module": "@jupyter-widgets/base",
            "_model_module_version": "1.2.0",
            "_model_name": "LayoutModel",
            "_view_count": null,
            "_view_module": "@jupyter-widgets/base",
            "_view_module_version": "1.2.0",
            "_view_name": "LayoutView",
            "align_content": null,
            "align_items": null,
            "align_self": null,
            "border": null,
            "bottom": null,
            "display": null,
            "flex": null,
            "flex_flow": null,
            "grid_area": null,
            "grid_auto_columns": null,
            "grid_auto_flow": null,
            "grid_auto_rows": null,
            "grid_column": null,
            "grid_gap": null,
            "grid_row": null,
            "grid_template_areas": null,
            "grid_template_columns": null,
            "grid_template_rows": null,
            "height": null,
            "justify_content": null,
            "justify_items": null,
            "left": null,
            "margin": null,
            "max_height": null,
            "max_width": null,
            "min_height": null,
            "min_width": null,
            "object_fit": null,
            "object_position": null,
            "order": null,
            "overflow": null,
            "overflow_x": null,
            "overflow_y": null,
            "padding": null,
            "right": null,
            "top": null,
            "visibility": null,
            "width": null
          }
        },
        "69e6f52031fc4cc3b06c1e2edb33fba2": {
          "model_module": "@jupyter-widgets/controls",
          "model_name": "DescriptionStyleModel",
          "model_module_version": "1.5.0",
          "state": {
            "_model_module": "@jupyter-widgets/controls",
            "_model_module_version": "1.5.0",
            "_model_name": "DescriptionStyleModel",
            "_view_count": null,
            "_view_module": "@jupyter-widgets/base",
            "_view_module_version": "1.2.0",
            "_view_name": "StyleView",
            "description_width": ""
          }
        },
        "f4464004f8004139a4e8b45a0b46f512": {
          "model_module": "@jupyter-widgets/controls",
          "model_name": "HBoxModel",
          "model_module_version": "1.5.0",
          "state": {
            "_dom_classes": [],
            "_model_module": "@jupyter-widgets/controls",
            "_model_module_version": "1.5.0",
            "_model_name": "HBoxModel",
            "_view_count": null,
            "_view_module": "@jupyter-widgets/controls",
            "_view_module_version": "1.5.0",
            "_view_name": "HBoxView",
            "box_style": "",
            "children": [
              "IPY_MODEL_c850a2a5b3d34519bdde2fc425278603",
              "IPY_MODEL_0e44aac2a4264d839ef823b1b9e55314",
              "IPY_MODEL_03a6d2b36d7047929be6a568c0cc72de"
            ],
            "layout": "IPY_MODEL_909386346e134146b7ea59b0484ae29c"
          }
        },
        "c850a2a5b3d34519bdde2fc425278603": {
          "model_module": "@jupyter-widgets/controls",
          "model_name": "HTMLModel",
          "model_module_version": "1.5.0",
          "state": {
            "_dom_classes": [],
            "_model_module": "@jupyter-widgets/controls",
            "_model_module_version": "1.5.0",
            "_model_name": "HTMLModel",
            "_view_count": null,
            "_view_module": "@jupyter-widgets/controls",
            "_view_module_version": "1.5.0",
            "_view_name": "HTMLView",
            "description": "",
            "description_tooltip": null,
            "layout": "IPY_MODEL_cb506dc848424e499ceeee599ba0eea1",
            "placeholder": "​",
            "style": "IPY_MODEL_13b61bbd9fd24c4a8bb445a2ad326f06",
            "value": "100%"
          }
        },
        "0e44aac2a4264d839ef823b1b9e55314": {
          "model_module": "@jupyter-widgets/controls",
          "model_name": "FloatProgressModel",
          "model_module_version": "1.5.0",
          "state": {
            "_dom_classes": [],
            "_model_module": "@jupyter-widgets/controls",
            "_model_module_version": "1.5.0",
            "_model_name": "FloatProgressModel",
            "_view_count": null,
            "_view_module": "@jupyter-widgets/controls",
            "_view_module_version": "1.5.0",
            "_view_name": "ProgressView",
            "bar_style": "success",
            "description": "",
            "description_tooltip": null,
            "layout": "IPY_MODEL_786aa5749ba343d5856d8ecd0743a222",
            "max": 1,
            "min": 0,
            "orientation": "horizontal",
            "style": "IPY_MODEL_4f42231b1a43459fb97af90ac616e16c",
            "value": 1
          }
        },
        "03a6d2b36d7047929be6a568c0cc72de": {
          "model_module": "@jupyter-widgets/controls",
          "model_name": "HTMLModel",
          "model_module_version": "1.5.0",
          "state": {
            "_dom_classes": [],
            "_model_module": "@jupyter-widgets/controls",
            "_model_module_version": "1.5.0",
            "_model_name": "HTMLModel",
            "_view_count": null,
            "_view_module": "@jupyter-widgets/controls",
            "_view_module_version": "1.5.0",
            "_view_name": "HTMLView",
            "description": "",
            "description_tooltip": null,
            "layout": "IPY_MODEL_1cf5688b8be74a2ca022c2765cd2abaa",
            "placeholder": "​",
            "style": "IPY_MODEL_717a32285b62482c90b95156de171719",
            "value": " 1/1 [00:00&lt;00:00, 28.88it/s]"
          }
        },
        "909386346e134146b7ea59b0484ae29c": {
          "model_module": "@jupyter-widgets/base",
          "model_name": "LayoutModel",
          "model_module_version": "1.2.0",
          "state": {
            "_model_module": "@jupyter-widgets/base",
            "_model_module_version": "1.2.0",
            "_model_name": "LayoutModel",
            "_view_count": null,
            "_view_module": "@jupyter-widgets/base",
            "_view_module_version": "1.2.0",
            "_view_name": "LayoutView",
            "align_content": null,
            "align_items": null,
            "align_self": null,
            "border": null,
            "bottom": null,
            "display": null,
            "flex": null,
            "flex_flow": null,
            "grid_area": null,
            "grid_auto_columns": null,
            "grid_auto_flow": null,
            "grid_auto_rows": null,
            "grid_column": null,
            "grid_gap": null,
            "grid_row": null,
            "grid_template_areas": null,
            "grid_template_columns": null,
            "grid_template_rows": null,
            "height": null,
            "justify_content": null,
            "justify_items": null,
            "left": null,
            "margin": null,
            "max_height": null,
            "max_width": null,
            "min_height": null,
            "min_width": null,
            "object_fit": null,
            "object_position": null,
            "order": null,
            "overflow": null,
            "overflow_x": null,
            "overflow_y": null,
            "padding": null,
            "right": null,
            "top": null,
            "visibility": null,
            "width": null
          }
        },
        "cb506dc848424e499ceeee599ba0eea1": {
          "model_module": "@jupyter-widgets/base",
          "model_name": "LayoutModel",
          "model_module_version": "1.2.0",
          "state": {
            "_model_module": "@jupyter-widgets/base",
            "_model_module_version": "1.2.0",
            "_model_name": "LayoutModel",
            "_view_count": null,
            "_view_module": "@jupyter-widgets/base",
            "_view_module_version": "1.2.0",
            "_view_name": "LayoutView",
            "align_content": null,
            "align_items": null,
            "align_self": null,
            "border": null,
            "bottom": null,
            "display": null,
            "flex": null,
            "flex_flow": null,
            "grid_area": null,
            "grid_auto_columns": null,
            "grid_auto_flow": null,
            "grid_auto_rows": null,
            "grid_column": null,
            "grid_gap": null,
            "grid_row": null,
            "grid_template_areas": null,
            "grid_template_columns": null,
            "grid_template_rows": null,
            "height": null,
            "justify_content": null,
            "justify_items": null,
            "left": null,
            "margin": null,
            "max_height": null,
            "max_width": null,
            "min_height": null,
            "min_width": null,
            "object_fit": null,
            "object_position": null,
            "order": null,
            "overflow": null,
            "overflow_x": null,
            "overflow_y": null,
            "padding": null,
            "right": null,
            "top": null,
            "visibility": null,
            "width": null
          }
        },
        "13b61bbd9fd24c4a8bb445a2ad326f06": {
          "model_module": "@jupyter-widgets/controls",
          "model_name": "DescriptionStyleModel",
          "model_module_version": "1.5.0",
          "state": {
            "_model_module": "@jupyter-widgets/controls",
            "_model_module_version": "1.5.0",
            "_model_name": "DescriptionStyleModel",
            "_view_count": null,
            "_view_module": "@jupyter-widgets/base",
            "_view_module_version": "1.2.0",
            "_view_name": "StyleView",
            "description_width": ""
          }
        },
        "786aa5749ba343d5856d8ecd0743a222": {
          "model_module": "@jupyter-widgets/base",
          "model_name": "LayoutModel",
          "model_module_version": "1.2.0",
          "state": {
            "_model_module": "@jupyter-widgets/base",
            "_model_module_version": "1.2.0",
            "_model_name": "LayoutModel",
            "_view_count": null,
            "_view_module": "@jupyter-widgets/base",
            "_view_module_version": "1.2.0",
            "_view_name": "LayoutView",
            "align_content": null,
            "align_items": null,
            "align_self": null,
            "border": null,
            "bottom": null,
            "display": null,
            "flex": null,
            "flex_flow": null,
            "grid_area": null,
            "grid_auto_columns": null,
            "grid_auto_flow": null,
            "grid_auto_rows": null,
            "grid_column": null,
            "grid_gap": null,
            "grid_row": null,
            "grid_template_areas": null,
            "grid_template_columns": null,
            "grid_template_rows": null,
            "height": null,
            "justify_content": null,
            "justify_items": null,
            "left": null,
            "margin": null,
            "max_height": null,
            "max_width": null,
            "min_height": null,
            "min_width": null,
            "object_fit": null,
            "object_position": null,
            "order": null,
            "overflow": null,
            "overflow_x": null,
            "overflow_y": null,
            "padding": null,
            "right": null,
            "top": null,
            "visibility": null,
            "width": null
          }
        },
        "4f42231b1a43459fb97af90ac616e16c": {
          "model_module": "@jupyter-widgets/controls",
          "model_name": "ProgressStyleModel",
          "model_module_version": "1.5.0",
          "state": {
            "_model_module": "@jupyter-widgets/controls",
            "_model_module_version": "1.5.0",
            "_model_name": "ProgressStyleModel",
            "_view_count": null,
            "_view_module": "@jupyter-widgets/base",
            "_view_module_version": "1.2.0",
            "_view_name": "StyleView",
            "bar_color": null,
            "description_width": ""
          }
        },
        "1cf5688b8be74a2ca022c2765cd2abaa": {
          "model_module": "@jupyter-widgets/base",
          "model_name": "LayoutModel",
          "model_module_version": "1.2.0",
          "state": {
            "_model_module": "@jupyter-widgets/base",
            "_model_module_version": "1.2.0",
            "_model_name": "LayoutModel",
            "_view_count": null,
            "_view_module": "@jupyter-widgets/base",
            "_view_module_version": "1.2.0",
            "_view_name": "LayoutView",
            "align_content": null,
            "align_items": null,
            "align_self": null,
            "border": null,
            "bottom": null,
            "display": null,
            "flex": null,
            "flex_flow": null,
            "grid_area": null,
            "grid_auto_columns": null,
            "grid_auto_flow": null,
            "grid_auto_rows": null,
            "grid_column": null,
            "grid_gap": null,
            "grid_row": null,
            "grid_template_areas": null,
            "grid_template_columns": null,
            "grid_template_rows": null,
            "height": null,
            "justify_content": null,
            "justify_items": null,
            "left": null,
            "margin": null,
            "max_height": null,
            "max_width": null,
            "min_height": null,
            "min_width": null,
            "object_fit": null,
            "object_position": null,
            "order": null,
            "overflow": null,
            "overflow_x": null,
            "overflow_y": null,
            "padding": null,
            "right": null,
            "top": null,
            "visibility": null,
            "width": null
          }
        },
        "717a32285b62482c90b95156de171719": {
          "model_module": "@jupyter-widgets/controls",
          "model_name": "DescriptionStyleModel",
          "model_module_version": "1.5.0",
          "state": {
            "_model_module": "@jupyter-widgets/controls",
            "_model_module_version": "1.5.0",
            "_model_name": "DescriptionStyleModel",
            "_view_count": null,
            "_view_module": "@jupyter-widgets/base",
            "_view_module_version": "1.2.0",
            "_view_name": "StyleView",
            "description_width": ""
          }
        },
        "a795951faad5484fb9163fc6501d2293": {
          "model_module": "@jupyter-widgets/controls",
          "model_name": "HBoxModel",
          "model_module_version": "1.5.0",
          "state": {
            "_dom_classes": [],
            "_model_module": "@jupyter-widgets/controls",
            "_model_module_version": "1.5.0",
            "_model_name": "HBoxModel",
            "_view_count": null,
            "_view_module": "@jupyter-widgets/controls",
            "_view_module_version": "1.5.0",
            "_view_name": "HBoxView",
            "box_style": "",
            "children": [
              "IPY_MODEL_93344d5f69fb4983822b488ffd7e49c3",
              "IPY_MODEL_d374bd283aa2460aab1506088376f701",
              "IPY_MODEL_3142bd45fada451facc44ac9d12757ae"
            ],
            "layout": "IPY_MODEL_41953ab5ae6047698ae42f1c9d75baa5"
          }
        },
        "93344d5f69fb4983822b488ffd7e49c3": {
          "model_module": "@jupyter-widgets/controls",
          "model_name": "HTMLModel",
          "model_module_version": "1.5.0",
          "state": {
            "_dom_classes": [],
            "_model_module": "@jupyter-widgets/controls",
            "_model_module_version": "1.5.0",
            "_model_name": "HTMLModel",
            "_view_count": null,
            "_view_module": "@jupyter-widgets/controls",
            "_view_module_version": "1.5.0",
            "_view_name": "HTMLView",
            "description": "",
            "description_tooltip": null,
            "layout": "IPY_MODEL_02b80aa353f841559088ee50421dccb5",
            "placeholder": "​",
            "style": "IPY_MODEL_09dcf2b56f47407985a53c3bd76a77f6",
            "value": "Downloading: 100%"
          }
        },
        "d374bd283aa2460aab1506088376f701": {
          "model_module": "@jupyter-widgets/controls",
          "model_name": "FloatProgressModel",
          "model_module_version": "1.5.0",
          "state": {
            "_dom_classes": [],
            "_model_module": "@jupyter-widgets/controls",
            "_model_module_version": "1.5.0",
            "_model_name": "FloatProgressModel",
            "_view_count": null,
            "_view_module": "@jupyter-widgets/controls",
            "_view_module_version": "1.5.0",
            "_view_name": "ProgressView",
            "bar_style": "success",
            "description": "",
            "description_tooltip": null,
            "layout": "IPY_MODEL_d344b48734e74731a36392df39a23158",
            "max": 28,
            "min": 0,
            "orientation": "horizontal",
            "style": "IPY_MODEL_120f48c3c34248c39048caa8cbfb571e",
            "value": 28
          }
        },
        "3142bd45fada451facc44ac9d12757ae": {
          "model_module": "@jupyter-widgets/controls",
          "model_name": "HTMLModel",
          "model_module_version": "1.5.0",
          "state": {
            "_dom_classes": [],
            "_model_module": "@jupyter-widgets/controls",
            "_model_module_version": "1.5.0",
            "_model_name": "HTMLModel",
            "_view_count": null,
            "_view_module": "@jupyter-widgets/controls",
            "_view_module_version": "1.5.0",
            "_view_name": "HTMLView",
            "description": "",
            "description_tooltip": null,
            "layout": "IPY_MODEL_080a4adbf1ff4797aaea79c1a0ea5106",
            "placeholder": "​",
            "style": "IPY_MODEL_2b6c367391d24b4188150d1959d12f49",
            "value": " 28.0/28.0 [00:00&lt;00:00, 967B/s]"
          }
        },
        "41953ab5ae6047698ae42f1c9d75baa5": {
          "model_module": "@jupyter-widgets/base",
          "model_name": "LayoutModel",
          "model_module_version": "1.2.0",
          "state": {
            "_model_module": "@jupyter-widgets/base",
            "_model_module_version": "1.2.0",
            "_model_name": "LayoutModel",
            "_view_count": null,
            "_view_module": "@jupyter-widgets/base",
            "_view_module_version": "1.2.0",
            "_view_name": "LayoutView",
            "align_content": null,
            "align_items": null,
            "align_self": null,
            "border": null,
            "bottom": null,
            "display": null,
            "flex": null,
            "flex_flow": null,
            "grid_area": null,
            "grid_auto_columns": null,
            "grid_auto_flow": null,
            "grid_auto_rows": null,
            "grid_column": null,
            "grid_gap": null,
            "grid_row": null,
            "grid_template_areas": null,
            "grid_template_columns": null,
            "grid_template_rows": null,
            "height": null,
            "justify_content": null,
            "justify_items": null,
            "left": null,
            "margin": null,
            "max_height": null,
            "max_width": null,
            "min_height": null,
            "min_width": null,
            "object_fit": null,
            "object_position": null,
            "order": null,
            "overflow": null,
            "overflow_x": null,
            "overflow_y": null,
            "padding": null,
            "right": null,
            "top": null,
            "visibility": null,
            "width": null
          }
        },
        "02b80aa353f841559088ee50421dccb5": {
          "model_module": "@jupyter-widgets/base",
          "model_name": "LayoutModel",
          "model_module_version": "1.2.0",
          "state": {
            "_model_module": "@jupyter-widgets/base",
            "_model_module_version": "1.2.0",
            "_model_name": "LayoutModel",
            "_view_count": null,
            "_view_module": "@jupyter-widgets/base",
            "_view_module_version": "1.2.0",
            "_view_name": "LayoutView",
            "align_content": null,
            "align_items": null,
            "align_self": null,
            "border": null,
            "bottom": null,
            "display": null,
            "flex": null,
            "flex_flow": null,
            "grid_area": null,
            "grid_auto_columns": null,
            "grid_auto_flow": null,
            "grid_auto_rows": null,
            "grid_column": null,
            "grid_gap": null,
            "grid_row": null,
            "grid_template_areas": null,
            "grid_template_columns": null,
            "grid_template_rows": null,
            "height": null,
            "justify_content": null,
            "justify_items": null,
            "left": null,
            "margin": null,
            "max_height": null,
            "max_width": null,
            "min_height": null,
            "min_width": null,
            "object_fit": null,
            "object_position": null,
            "order": null,
            "overflow": null,
            "overflow_x": null,
            "overflow_y": null,
            "padding": null,
            "right": null,
            "top": null,
            "visibility": null,
            "width": null
          }
        },
        "09dcf2b56f47407985a53c3bd76a77f6": {
          "model_module": "@jupyter-widgets/controls",
          "model_name": "DescriptionStyleModel",
          "model_module_version": "1.5.0",
          "state": {
            "_model_module": "@jupyter-widgets/controls",
            "_model_module_version": "1.5.0",
            "_model_name": "DescriptionStyleModel",
            "_view_count": null,
            "_view_module": "@jupyter-widgets/base",
            "_view_module_version": "1.2.0",
            "_view_name": "StyleView",
            "description_width": ""
          }
        },
        "d344b48734e74731a36392df39a23158": {
          "model_module": "@jupyter-widgets/base",
          "model_name": "LayoutModel",
          "model_module_version": "1.2.0",
          "state": {
            "_model_module": "@jupyter-widgets/base",
            "_model_module_version": "1.2.0",
            "_model_name": "LayoutModel",
            "_view_count": null,
            "_view_module": "@jupyter-widgets/base",
            "_view_module_version": "1.2.0",
            "_view_name": "LayoutView",
            "align_content": null,
            "align_items": null,
            "align_self": null,
            "border": null,
            "bottom": null,
            "display": null,
            "flex": null,
            "flex_flow": null,
            "grid_area": null,
            "grid_auto_columns": null,
            "grid_auto_flow": null,
            "grid_auto_rows": null,
            "grid_column": null,
            "grid_gap": null,
            "grid_row": null,
            "grid_template_areas": null,
            "grid_template_columns": null,
            "grid_template_rows": null,
            "height": null,
            "justify_content": null,
            "justify_items": null,
            "left": null,
            "margin": null,
            "max_height": null,
            "max_width": null,
            "min_height": null,
            "min_width": null,
            "object_fit": null,
            "object_position": null,
            "order": null,
            "overflow": null,
            "overflow_x": null,
            "overflow_y": null,
            "padding": null,
            "right": null,
            "top": null,
            "visibility": null,
            "width": null
          }
        },
        "120f48c3c34248c39048caa8cbfb571e": {
          "model_module": "@jupyter-widgets/controls",
          "model_name": "ProgressStyleModel",
          "model_module_version": "1.5.0",
          "state": {
            "_model_module": "@jupyter-widgets/controls",
            "_model_module_version": "1.5.0",
            "_model_name": "ProgressStyleModel",
            "_view_count": null,
            "_view_module": "@jupyter-widgets/base",
            "_view_module_version": "1.2.0",
            "_view_name": "StyleView",
            "bar_color": null,
            "description_width": ""
          }
        },
        "080a4adbf1ff4797aaea79c1a0ea5106": {
          "model_module": "@jupyter-widgets/base",
          "model_name": "LayoutModel",
          "model_module_version": "1.2.0",
          "state": {
            "_model_module": "@jupyter-widgets/base",
            "_model_module_version": "1.2.0",
            "_model_name": "LayoutModel",
            "_view_count": null,
            "_view_module": "@jupyter-widgets/base",
            "_view_module_version": "1.2.0",
            "_view_name": "LayoutView",
            "align_content": null,
            "align_items": null,
            "align_self": null,
            "border": null,
            "bottom": null,
            "display": null,
            "flex": null,
            "flex_flow": null,
            "grid_area": null,
            "grid_auto_columns": null,
            "grid_auto_flow": null,
            "grid_auto_rows": null,
            "grid_column": null,
            "grid_gap": null,
            "grid_row": null,
            "grid_template_areas": null,
            "grid_template_columns": null,
            "grid_template_rows": null,
            "height": null,
            "justify_content": null,
            "justify_items": null,
            "left": null,
            "margin": null,
            "max_height": null,
            "max_width": null,
            "min_height": null,
            "min_width": null,
            "object_fit": null,
            "object_position": null,
            "order": null,
            "overflow": null,
            "overflow_x": null,
            "overflow_y": null,
            "padding": null,
            "right": null,
            "top": null,
            "visibility": null,
            "width": null
          }
        },
        "2b6c367391d24b4188150d1959d12f49": {
          "model_module": "@jupyter-widgets/controls",
          "model_name": "DescriptionStyleModel",
          "model_module_version": "1.5.0",
          "state": {
            "_model_module": "@jupyter-widgets/controls",
            "_model_module_version": "1.5.0",
            "_model_name": "DescriptionStyleModel",
            "_view_count": null,
            "_view_module": "@jupyter-widgets/base",
            "_view_module_version": "1.2.0",
            "_view_name": "StyleView",
            "description_width": ""
          }
        },
        "fd6933e3a0f44e17b796da2060695a71": {
          "model_module": "@jupyter-widgets/controls",
          "model_name": "HBoxModel",
          "model_module_version": "1.5.0",
          "state": {
            "_dom_classes": [],
            "_model_module": "@jupyter-widgets/controls",
            "_model_module_version": "1.5.0",
            "_model_name": "HBoxModel",
            "_view_count": null,
            "_view_module": "@jupyter-widgets/controls",
            "_view_module_version": "1.5.0",
            "_view_name": "HBoxView",
            "box_style": "",
            "children": [
              "IPY_MODEL_c9ec186f55bd42fb9f869f887ef6e990",
              "IPY_MODEL_e85e7d6990aa4e9bbc871a349bdfa8f4",
              "IPY_MODEL_0da852b749ec40a2b0b8295ad496b703"
            ],
            "layout": "IPY_MODEL_b3d1db9684d94b128be806e0a6408a81"
          }
        },
        "c9ec186f55bd42fb9f869f887ef6e990": {
          "model_module": "@jupyter-widgets/controls",
          "model_name": "HTMLModel",
          "model_module_version": "1.5.0",
          "state": {
            "_dom_classes": [],
            "_model_module": "@jupyter-widgets/controls",
            "_model_module_version": "1.5.0",
            "_model_name": "HTMLModel",
            "_view_count": null,
            "_view_module": "@jupyter-widgets/controls",
            "_view_module_version": "1.5.0",
            "_view_name": "HTMLView",
            "description": "",
            "description_tooltip": null,
            "layout": "IPY_MODEL_5050522e0ac940ba881b2cd650a55fa5",
            "placeholder": "​",
            "style": "IPY_MODEL_3e326a81dffd4c3cb595f947ebc25ffd",
            "value": "Downloading: 100%"
          }
        },
        "e85e7d6990aa4e9bbc871a349bdfa8f4": {
          "model_module": "@jupyter-widgets/controls",
          "model_name": "FloatProgressModel",
          "model_module_version": "1.5.0",
          "state": {
            "_dom_classes": [],
            "_model_module": "@jupyter-widgets/controls",
            "_model_module_version": "1.5.0",
            "_model_name": "FloatProgressModel",
            "_view_count": null,
            "_view_module": "@jupyter-widgets/controls",
            "_view_module_version": "1.5.0",
            "_view_name": "ProgressView",
            "bar_style": "success",
            "description": "",
            "description_tooltip": null,
            "layout": "IPY_MODEL_a6a66195e5184bb8b69e71a5c006c925",
            "max": 483,
            "min": 0,
            "orientation": "horizontal",
            "style": "IPY_MODEL_8f8f48e0b37e4eb3a9b5ea7a8c04cd3f",
            "value": 483
          }
        },
        "0da852b749ec40a2b0b8295ad496b703": {
          "model_module": "@jupyter-widgets/controls",
          "model_name": "HTMLModel",
          "model_module_version": "1.5.0",
          "state": {
            "_dom_classes": [],
            "_model_module": "@jupyter-widgets/controls",
            "_model_module_version": "1.5.0",
            "_model_name": "HTMLModel",
            "_view_count": null,
            "_view_module": "@jupyter-widgets/controls",
            "_view_module_version": "1.5.0",
            "_view_name": "HTMLView",
            "description": "",
            "description_tooltip": null,
            "layout": "IPY_MODEL_9040c023796540c89b942fa614feb511",
            "placeholder": "​",
            "style": "IPY_MODEL_45d3f4ddc91148daa1fa47df548a8505",
            "value": " 483/483 [00:00&lt;00:00, 8.49kB/s]"
          }
        },
        "b3d1db9684d94b128be806e0a6408a81": {
          "model_module": "@jupyter-widgets/base",
          "model_name": "LayoutModel",
          "model_module_version": "1.2.0",
          "state": {
            "_model_module": "@jupyter-widgets/base",
            "_model_module_version": "1.2.0",
            "_model_name": "LayoutModel",
            "_view_count": null,
            "_view_module": "@jupyter-widgets/base",
            "_view_module_version": "1.2.0",
            "_view_name": "LayoutView",
            "align_content": null,
            "align_items": null,
            "align_self": null,
            "border": null,
            "bottom": null,
            "display": null,
            "flex": null,
            "flex_flow": null,
            "grid_area": null,
            "grid_auto_columns": null,
            "grid_auto_flow": null,
            "grid_auto_rows": null,
            "grid_column": null,
            "grid_gap": null,
            "grid_row": null,
            "grid_template_areas": null,
            "grid_template_columns": null,
            "grid_template_rows": null,
            "height": null,
            "justify_content": null,
            "justify_items": null,
            "left": null,
            "margin": null,
            "max_height": null,
            "max_width": null,
            "min_height": null,
            "min_width": null,
            "object_fit": null,
            "object_position": null,
            "order": null,
            "overflow": null,
            "overflow_x": null,
            "overflow_y": null,
            "padding": null,
            "right": null,
            "top": null,
            "visibility": null,
            "width": null
          }
        },
        "5050522e0ac940ba881b2cd650a55fa5": {
          "model_module": "@jupyter-widgets/base",
          "model_name": "LayoutModel",
          "model_module_version": "1.2.0",
          "state": {
            "_model_module": "@jupyter-widgets/base",
            "_model_module_version": "1.2.0",
            "_model_name": "LayoutModel",
            "_view_count": null,
            "_view_module": "@jupyter-widgets/base",
            "_view_module_version": "1.2.0",
            "_view_name": "LayoutView",
            "align_content": null,
            "align_items": null,
            "align_self": null,
            "border": null,
            "bottom": null,
            "display": null,
            "flex": null,
            "flex_flow": null,
            "grid_area": null,
            "grid_auto_columns": null,
            "grid_auto_flow": null,
            "grid_auto_rows": null,
            "grid_column": null,
            "grid_gap": null,
            "grid_row": null,
            "grid_template_areas": null,
            "grid_template_columns": null,
            "grid_template_rows": null,
            "height": null,
            "justify_content": null,
            "justify_items": null,
            "left": null,
            "margin": null,
            "max_height": null,
            "max_width": null,
            "min_height": null,
            "min_width": null,
            "object_fit": null,
            "object_position": null,
            "order": null,
            "overflow": null,
            "overflow_x": null,
            "overflow_y": null,
            "padding": null,
            "right": null,
            "top": null,
            "visibility": null,
            "width": null
          }
        },
        "3e326a81dffd4c3cb595f947ebc25ffd": {
          "model_module": "@jupyter-widgets/controls",
          "model_name": "DescriptionStyleModel",
          "model_module_version": "1.5.0",
          "state": {
            "_model_module": "@jupyter-widgets/controls",
            "_model_module_version": "1.5.0",
            "_model_name": "DescriptionStyleModel",
            "_view_count": null,
            "_view_module": "@jupyter-widgets/base",
            "_view_module_version": "1.2.0",
            "_view_name": "StyleView",
            "description_width": ""
          }
        },
        "a6a66195e5184bb8b69e71a5c006c925": {
          "model_module": "@jupyter-widgets/base",
          "model_name": "LayoutModel",
          "model_module_version": "1.2.0",
          "state": {
            "_model_module": "@jupyter-widgets/base",
            "_model_module_version": "1.2.0",
            "_model_name": "LayoutModel",
            "_view_count": null,
            "_view_module": "@jupyter-widgets/base",
            "_view_module_version": "1.2.0",
            "_view_name": "LayoutView",
            "align_content": null,
            "align_items": null,
            "align_self": null,
            "border": null,
            "bottom": null,
            "display": null,
            "flex": null,
            "flex_flow": null,
            "grid_area": null,
            "grid_auto_columns": null,
            "grid_auto_flow": null,
            "grid_auto_rows": null,
            "grid_column": null,
            "grid_gap": null,
            "grid_row": null,
            "grid_template_areas": null,
            "grid_template_columns": null,
            "grid_template_rows": null,
            "height": null,
            "justify_content": null,
            "justify_items": null,
            "left": null,
            "margin": null,
            "max_height": null,
            "max_width": null,
            "min_height": null,
            "min_width": null,
            "object_fit": null,
            "object_position": null,
            "order": null,
            "overflow": null,
            "overflow_x": null,
            "overflow_y": null,
            "padding": null,
            "right": null,
            "top": null,
            "visibility": null,
            "width": null
          }
        },
        "8f8f48e0b37e4eb3a9b5ea7a8c04cd3f": {
          "model_module": "@jupyter-widgets/controls",
          "model_name": "ProgressStyleModel",
          "model_module_version": "1.5.0",
          "state": {
            "_model_module": "@jupyter-widgets/controls",
            "_model_module_version": "1.5.0",
            "_model_name": "ProgressStyleModel",
            "_view_count": null,
            "_view_module": "@jupyter-widgets/base",
            "_view_module_version": "1.2.0",
            "_view_name": "StyleView",
            "bar_color": null,
            "description_width": ""
          }
        },
        "9040c023796540c89b942fa614feb511": {
          "model_module": "@jupyter-widgets/base",
          "model_name": "LayoutModel",
          "model_module_version": "1.2.0",
          "state": {
            "_model_module": "@jupyter-widgets/base",
            "_model_module_version": "1.2.0",
            "_model_name": "LayoutModel",
            "_view_count": null,
            "_view_module": "@jupyter-widgets/base",
            "_view_module_version": "1.2.0",
            "_view_name": "LayoutView",
            "align_content": null,
            "align_items": null,
            "align_self": null,
            "border": null,
            "bottom": null,
            "display": null,
            "flex": null,
            "flex_flow": null,
            "grid_area": null,
            "grid_auto_columns": null,
            "grid_auto_flow": null,
            "grid_auto_rows": null,
            "grid_column": null,
            "grid_gap": null,
            "grid_row": null,
            "grid_template_areas": null,
            "grid_template_columns": null,
            "grid_template_rows": null,
            "height": null,
            "justify_content": null,
            "justify_items": null,
            "left": null,
            "margin": null,
            "max_height": null,
            "max_width": null,
            "min_height": null,
            "min_width": null,
            "object_fit": null,
            "object_position": null,
            "order": null,
            "overflow": null,
            "overflow_x": null,
            "overflow_y": null,
            "padding": null,
            "right": null,
            "top": null,
            "visibility": null,
            "width": null
          }
        },
        "45d3f4ddc91148daa1fa47df548a8505": {
          "model_module": "@jupyter-widgets/controls",
          "model_name": "DescriptionStyleModel",
          "model_module_version": "1.5.0",
          "state": {
            "_model_module": "@jupyter-widgets/controls",
            "_model_module_version": "1.5.0",
            "_model_name": "DescriptionStyleModel",
            "_view_count": null,
            "_view_module": "@jupyter-widgets/base",
            "_view_module_version": "1.2.0",
            "_view_name": "StyleView",
            "description_width": ""
          }
        },
        "02c3aa846ea74934af44d3e193cd2f0c": {
          "model_module": "@jupyter-widgets/controls",
          "model_name": "HBoxModel",
          "model_module_version": "1.5.0",
          "state": {
            "_dom_classes": [],
            "_model_module": "@jupyter-widgets/controls",
            "_model_module_version": "1.5.0",
            "_model_name": "HBoxModel",
            "_view_count": null,
            "_view_module": "@jupyter-widgets/controls",
            "_view_module_version": "1.5.0",
            "_view_name": "HBoxView",
            "box_style": "",
            "children": [
              "IPY_MODEL_c19c57a61caa4673a4a50593360373a6",
              "IPY_MODEL_e02bc4ca0f3642df927f19b3be05ec69",
              "IPY_MODEL_99c8b79183de4ebd882b156872fcaf51"
            ],
            "layout": "IPY_MODEL_896be3b19bff4ae0bb775b3476c44fa5"
          }
        },
        "c19c57a61caa4673a4a50593360373a6": {
          "model_module": "@jupyter-widgets/controls",
          "model_name": "HTMLModel",
          "model_module_version": "1.5.0",
          "state": {
            "_dom_classes": [],
            "_model_module": "@jupyter-widgets/controls",
            "_model_module_version": "1.5.0",
            "_model_name": "HTMLModel",
            "_view_count": null,
            "_view_module": "@jupyter-widgets/controls",
            "_view_module_version": "1.5.0",
            "_view_name": "HTMLView",
            "description": "",
            "description_tooltip": null,
            "layout": "IPY_MODEL_8fbeb50d914847f3b3385e51770976b2",
            "placeholder": "​",
            "style": "IPY_MODEL_05aa48f9a93a4fd7a2c459a25b4f74d6",
            "value": "Downloading: 100%"
          }
        },
        "e02bc4ca0f3642df927f19b3be05ec69": {
          "model_module": "@jupyter-widgets/controls",
          "model_name": "FloatProgressModel",
          "model_module_version": "1.5.0",
          "state": {
            "_dom_classes": [],
            "_model_module": "@jupyter-widgets/controls",
            "_model_module_version": "1.5.0",
            "_model_name": "FloatProgressModel",
            "_view_count": null,
            "_view_module": "@jupyter-widgets/controls",
            "_view_module_version": "1.5.0",
            "_view_name": "ProgressView",
            "bar_style": "success",
            "description": "",
            "description_tooltip": null,
            "layout": "IPY_MODEL_58cfb0403a044c588c0a058df5a6dcd1",
            "max": 231508,
            "min": 0,
            "orientation": "horizontal",
            "style": "IPY_MODEL_c9c9526b82ca4f90a539f5855d78da8f",
            "value": 231508
          }
        },
        "99c8b79183de4ebd882b156872fcaf51": {
          "model_module": "@jupyter-widgets/controls",
          "model_name": "HTMLModel",
          "model_module_version": "1.5.0",
          "state": {
            "_dom_classes": [],
            "_model_module": "@jupyter-widgets/controls",
            "_model_module_version": "1.5.0",
            "_model_name": "HTMLModel",
            "_view_count": null,
            "_view_module": "@jupyter-widgets/controls",
            "_view_module_version": "1.5.0",
            "_view_name": "HTMLView",
            "description": "",
            "description_tooltip": null,
            "layout": "IPY_MODEL_f3fff1c5216648f3a0fc4f74df22d09a",
            "placeholder": "​",
            "style": "IPY_MODEL_a5d8d50f5f4d4a64bbb1ab0105e8dfd0",
            "value": " 232k/232k [00:00&lt;00:00, 256kB/s]"
          }
        },
        "896be3b19bff4ae0bb775b3476c44fa5": {
          "model_module": "@jupyter-widgets/base",
          "model_name": "LayoutModel",
          "model_module_version": "1.2.0",
          "state": {
            "_model_module": "@jupyter-widgets/base",
            "_model_module_version": "1.2.0",
            "_model_name": "LayoutModel",
            "_view_count": null,
            "_view_module": "@jupyter-widgets/base",
            "_view_module_version": "1.2.0",
            "_view_name": "LayoutView",
            "align_content": null,
            "align_items": null,
            "align_self": null,
            "border": null,
            "bottom": null,
            "display": null,
            "flex": null,
            "flex_flow": null,
            "grid_area": null,
            "grid_auto_columns": null,
            "grid_auto_flow": null,
            "grid_auto_rows": null,
            "grid_column": null,
            "grid_gap": null,
            "grid_row": null,
            "grid_template_areas": null,
            "grid_template_columns": null,
            "grid_template_rows": null,
            "height": null,
            "justify_content": null,
            "justify_items": null,
            "left": null,
            "margin": null,
            "max_height": null,
            "max_width": null,
            "min_height": null,
            "min_width": null,
            "object_fit": null,
            "object_position": null,
            "order": null,
            "overflow": null,
            "overflow_x": null,
            "overflow_y": null,
            "padding": null,
            "right": null,
            "top": null,
            "visibility": null,
            "width": null
          }
        },
        "8fbeb50d914847f3b3385e51770976b2": {
          "model_module": "@jupyter-widgets/base",
          "model_name": "LayoutModel",
          "model_module_version": "1.2.0",
          "state": {
            "_model_module": "@jupyter-widgets/base",
            "_model_module_version": "1.2.0",
            "_model_name": "LayoutModel",
            "_view_count": null,
            "_view_module": "@jupyter-widgets/base",
            "_view_module_version": "1.2.0",
            "_view_name": "LayoutView",
            "align_content": null,
            "align_items": null,
            "align_self": null,
            "border": null,
            "bottom": null,
            "display": null,
            "flex": null,
            "flex_flow": null,
            "grid_area": null,
            "grid_auto_columns": null,
            "grid_auto_flow": null,
            "grid_auto_rows": null,
            "grid_column": null,
            "grid_gap": null,
            "grid_row": null,
            "grid_template_areas": null,
            "grid_template_columns": null,
            "grid_template_rows": null,
            "height": null,
            "justify_content": null,
            "justify_items": null,
            "left": null,
            "margin": null,
            "max_height": null,
            "max_width": null,
            "min_height": null,
            "min_width": null,
            "object_fit": null,
            "object_position": null,
            "order": null,
            "overflow": null,
            "overflow_x": null,
            "overflow_y": null,
            "padding": null,
            "right": null,
            "top": null,
            "visibility": null,
            "width": null
          }
        },
        "05aa48f9a93a4fd7a2c459a25b4f74d6": {
          "model_module": "@jupyter-widgets/controls",
          "model_name": "DescriptionStyleModel",
          "model_module_version": "1.5.0",
          "state": {
            "_model_module": "@jupyter-widgets/controls",
            "_model_module_version": "1.5.0",
            "_model_name": "DescriptionStyleModel",
            "_view_count": null,
            "_view_module": "@jupyter-widgets/base",
            "_view_module_version": "1.2.0",
            "_view_name": "StyleView",
            "description_width": ""
          }
        },
        "58cfb0403a044c588c0a058df5a6dcd1": {
          "model_module": "@jupyter-widgets/base",
          "model_name": "LayoutModel",
          "model_module_version": "1.2.0",
          "state": {
            "_model_module": "@jupyter-widgets/base",
            "_model_module_version": "1.2.0",
            "_model_name": "LayoutModel",
            "_view_count": null,
            "_view_module": "@jupyter-widgets/base",
            "_view_module_version": "1.2.0",
            "_view_name": "LayoutView",
            "align_content": null,
            "align_items": null,
            "align_self": null,
            "border": null,
            "bottom": null,
            "display": null,
            "flex": null,
            "flex_flow": null,
            "grid_area": null,
            "grid_auto_columns": null,
            "grid_auto_flow": null,
            "grid_auto_rows": null,
            "grid_column": null,
            "grid_gap": null,
            "grid_row": null,
            "grid_template_areas": null,
            "grid_template_columns": null,
            "grid_template_rows": null,
            "height": null,
            "justify_content": null,
            "justify_items": null,
            "left": null,
            "margin": null,
            "max_height": null,
            "max_width": null,
            "min_height": null,
            "min_width": null,
            "object_fit": null,
            "object_position": null,
            "order": null,
            "overflow": null,
            "overflow_x": null,
            "overflow_y": null,
            "padding": null,
            "right": null,
            "top": null,
            "visibility": null,
            "width": null
          }
        },
        "c9c9526b82ca4f90a539f5855d78da8f": {
          "model_module": "@jupyter-widgets/controls",
          "model_name": "ProgressStyleModel",
          "model_module_version": "1.5.0",
          "state": {
            "_model_module": "@jupyter-widgets/controls",
            "_model_module_version": "1.5.0",
            "_model_name": "ProgressStyleModel",
            "_view_count": null,
            "_view_module": "@jupyter-widgets/base",
            "_view_module_version": "1.2.0",
            "_view_name": "StyleView",
            "bar_color": null,
            "description_width": ""
          }
        },
        "f3fff1c5216648f3a0fc4f74df22d09a": {
          "model_module": "@jupyter-widgets/base",
          "model_name": "LayoutModel",
          "model_module_version": "1.2.0",
          "state": {
            "_model_module": "@jupyter-widgets/base",
            "_model_module_version": "1.2.0",
            "_model_name": "LayoutModel",
            "_view_count": null,
            "_view_module": "@jupyter-widgets/base",
            "_view_module_version": "1.2.0",
            "_view_name": "LayoutView",
            "align_content": null,
            "align_items": null,
            "align_self": null,
            "border": null,
            "bottom": null,
            "display": null,
            "flex": null,
            "flex_flow": null,
            "grid_area": null,
            "grid_auto_columns": null,
            "grid_auto_flow": null,
            "grid_auto_rows": null,
            "grid_column": null,
            "grid_gap": null,
            "grid_row": null,
            "grid_template_areas": null,
            "grid_template_columns": null,
            "grid_template_rows": null,
            "height": null,
            "justify_content": null,
            "justify_items": null,
            "left": null,
            "margin": null,
            "max_height": null,
            "max_width": null,
            "min_height": null,
            "min_width": null,
            "object_fit": null,
            "object_position": null,
            "order": null,
            "overflow": null,
            "overflow_x": null,
            "overflow_y": null,
            "padding": null,
            "right": null,
            "top": null,
            "visibility": null,
            "width": null
          }
        },
        "a5d8d50f5f4d4a64bbb1ab0105e8dfd0": {
          "model_module": "@jupyter-widgets/controls",
          "model_name": "DescriptionStyleModel",
          "model_module_version": "1.5.0",
          "state": {
            "_model_module": "@jupyter-widgets/controls",
            "_model_module_version": "1.5.0",
            "_model_name": "DescriptionStyleModel",
            "_view_count": null,
            "_view_module": "@jupyter-widgets/base",
            "_view_module_version": "1.2.0",
            "_view_name": "StyleView",
            "description_width": ""
          }
        },
        "ec2c2ecec8d94d39a1bfb824c12f0abf": {
          "model_module": "@jupyter-widgets/controls",
          "model_name": "HBoxModel",
          "model_module_version": "1.5.0",
          "state": {
            "_dom_classes": [],
            "_model_module": "@jupyter-widgets/controls",
            "_model_module_version": "1.5.0",
            "_model_name": "HBoxModel",
            "_view_count": null,
            "_view_module": "@jupyter-widgets/controls",
            "_view_module_version": "1.5.0",
            "_view_name": "HBoxView",
            "box_style": "",
            "children": [
              "IPY_MODEL_8dc6c285742345279b6d248aa073b7a9",
              "IPY_MODEL_cac973f588d64b99985a408926da9593",
              "IPY_MODEL_731d00b512534140995e8942016d44a1"
            ],
            "layout": "IPY_MODEL_cc99fb3dee8e435198e1af834a7105a0"
          }
        },
        "8dc6c285742345279b6d248aa073b7a9": {
          "model_module": "@jupyter-widgets/controls",
          "model_name": "HTMLModel",
          "model_module_version": "1.5.0",
          "state": {
            "_dom_classes": [],
            "_model_module": "@jupyter-widgets/controls",
            "_model_module_version": "1.5.0",
            "_model_name": "HTMLModel",
            "_view_count": null,
            "_view_module": "@jupyter-widgets/controls",
            "_view_module_version": "1.5.0",
            "_view_name": "HTMLView",
            "description": "",
            "description_tooltip": null,
            "layout": "IPY_MODEL_1b300bcdfe9a45e0b61d0d3220f6b94e",
            "placeholder": "​",
            "style": "IPY_MODEL_df83c53653664e35a3f370dafb05b908",
            "value": "Downloading: 100%"
          }
        },
        "cac973f588d64b99985a408926da9593": {
          "model_module": "@jupyter-widgets/controls",
          "model_name": "FloatProgressModel",
          "model_module_version": "1.5.0",
          "state": {
            "_dom_classes": [],
            "_model_module": "@jupyter-widgets/controls",
            "_model_module_version": "1.5.0",
            "_model_name": "FloatProgressModel",
            "_view_count": null,
            "_view_module": "@jupyter-widgets/controls",
            "_view_module_version": "1.5.0",
            "_view_name": "ProgressView",
            "bar_style": "success",
            "description": "",
            "description_tooltip": null,
            "layout": "IPY_MODEL_e6e431a703264a5387f3fe58ada071eb",
            "max": 466062,
            "min": 0,
            "orientation": "horizontal",
            "style": "IPY_MODEL_8de4fba0b53a4002a68edeb2cee1cdd7",
            "value": 466062
          }
        },
        "731d00b512534140995e8942016d44a1": {
          "model_module": "@jupyter-widgets/controls",
          "model_name": "HTMLModel",
          "model_module_version": "1.5.0",
          "state": {
            "_dom_classes": [],
            "_model_module": "@jupyter-widgets/controls",
            "_model_module_version": "1.5.0",
            "_model_name": "HTMLModel",
            "_view_count": null,
            "_view_module": "@jupyter-widgets/controls",
            "_view_module_version": "1.5.0",
            "_view_name": "HTMLView",
            "description": "",
            "description_tooltip": null,
            "layout": "IPY_MODEL_c4979958b44d4405ad7292074a8899de",
            "placeholder": "​",
            "style": "IPY_MODEL_f72d02e201184a71bf65197e27ad44c1",
            "value": " 466k/466k [00:01&lt;00:00, 521kB/s]"
          }
        },
        "cc99fb3dee8e435198e1af834a7105a0": {
          "model_module": "@jupyter-widgets/base",
          "model_name": "LayoutModel",
          "model_module_version": "1.2.0",
          "state": {
            "_model_module": "@jupyter-widgets/base",
            "_model_module_version": "1.2.0",
            "_model_name": "LayoutModel",
            "_view_count": null,
            "_view_module": "@jupyter-widgets/base",
            "_view_module_version": "1.2.0",
            "_view_name": "LayoutView",
            "align_content": null,
            "align_items": null,
            "align_self": null,
            "border": null,
            "bottom": null,
            "display": null,
            "flex": null,
            "flex_flow": null,
            "grid_area": null,
            "grid_auto_columns": null,
            "grid_auto_flow": null,
            "grid_auto_rows": null,
            "grid_column": null,
            "grid_gap": null,
            "grid_row": null,
            "grid_template_areas": null,
            "grid_template_columns": null,
            "grid_template_rows": null,
            "height": null,
            "justify_content": null,
            "justify_items": null,
            "left": null,
            "margin": null,
            "max_height": null,
            "max_width": null,
            "min_height": null,
            "min_width": null,
            "object_fit": null,
            "object_position": null,
            "order": null,
            "overflow": null,
            "overflow_x": null,
            "overflow_y": null,
            "padding": null,
            "right": null,
            "top": null,
            "visibility": null,
            "width": null
          }
        },
        "1b300bcdfe9a45e0b61d0d3220f6b94e": {
          "model_module": "@jupyter-widgets/base",
          "model_name": "LayoutModel",
          "model_module_version": "1.2.0",
          "state": {
            "_model_module": "@jupyter-widgets/base",
            "_model_module_version": "1.2.0",
            "_model_name": "LayoutModel",
            "_view_count": null,
            "_view_module": "@jupyter-widgets/base",
            "_view_module_version": "1.2.0",
            "_view_name": "LayoutView",
            "align_content": null,
            "align_items": null,
            "align_self": null,
            "border": null,
            "bottom": null,
            "display": null,
            "flex": null,
            "flex_flow": null,
            "grid_area": null,
            "grid_auto_columns": null,
            "grid_auto_flow": null,
            "grid_auto_rows": null,
            "grid_column": null,
            "grid_gap": null,
            "grid_row": null,
            "grid_template_areas": null,
            "grid_template_columns": null,
            "grid_template_rows": null,
            "height": null,
            "justify_content": null,
            "justify_items": null,
            "left": null,
            "margin": null,
            "max_height": null,
            "max_width": null,
            "min_height": null,
            "min_width": null,
            "object_fit": null,
            "object_position": null,
            "order": null,
            "overflow": null,
            "overflow_x": null,
            "overflow_y": null,
            "padding": null,
            "right": null,
            "top": null,
            "visibility": null,
            "width": null
          }
        },
        "df83c53653664e35a3f370dafb05b908": {
          "model_module": "@jupyter-widgets/controls",
          "model_name": "DescriptionStyleModel",
          "model_module_version": "1.5.0",
          "state": {
            "_model_module": "@jupyter-widgets/controls",
            "_model_module_version": "1.5.0",
            "_model_name": "DescriptionStyleModel",
            "_view_count": null,
            "_view_module": "@jupyter-widgets/base",
            "_view_module_version": "1.2.0",
            "_view_name": "StyleView",
            "description_width": ""
          }
        },
        "e6e431a703264a5387f3fe58ada071eb": {
          "model_module": "@jupyter-widgets/base",
          "model_name": "LayoutModel",
          "model_module_version": "1.2.0",
          "state": {
            "_model_module": "@jupyter-widgets/base",
            "_model_module_version": "1.2.0",
            "_model_name": "LayoutModel",
            "_view_count": null,
            "_view_module": "@jupyter-widgets/base",
            "_view_module_version": "1.2.0",
            "_view_name": "LayoutView",
            "align_content": null,
            "align_items": null,
            "align_self": null,
            "border": null,
            "bottom": null,
            "display": null,
            "flex": null,
            "flex_flow": null,
            "grid_area": null,
            "grid_auto_columns": null,
            "grid_auto_flow": null,
            "grid_auto_rows": null,
            "grid_column": null,
            "grid_gap": null,
            "grid_row": null,
            "grid_template_areas": null,
            "grid_template_columns": null,
            "grid_template_rows": null,
            "height": null,
            "justify_content": null,
            "justify_items": null,
            "left": null,
            "margin": null,
            "max_height": null,
            "max_width": null,
            "min_height": null,
            "min_width": null,
            "object_fit": null,
            "object_position": null,
            "order": null,
            "overflow": null,
            "overflow_x": null,
            "overflow_y": null,
            "padding": null,
            "right": null,
            "top": null,
            "visibility": null,
            "width": null
          }
        },
        "8de4fba0b53a4002a68edeb2cee1cdd7": {
          "model_module": "@jupyter-widgets/controls",
          "model_name": "ProgressStyleModel",
          "model_module_version": "1.5.0",
          "state": {
            "_model_module": "@jupyter-widgets/controls",
            "_model_module_version": "1.5.0",
            "_model_name": "ProgressStyleModel",
            "_view_count": null,
            "_view_module": "@jupyter-widgets/base",
            "_view_module_version": "1.2.0",
            "_view_name": "StyleView",
            "bar_color": null,
            "description_width": ""
          }
        },
        "c4979958b44d4405ad7292074a8899de": {
          "model_module": "@jupyter-widgets/base",
          "model_name": "LayoutModel",
          "model_module_version": "1.2.0",
          "state": {
            "_model_module": "@jupyter-widgets/base",
            "_model_module_version": "1.2.0",
            "_model_name": "LayoutModel",
            "_view_count": null,
            "_view_module": "@jupyter-widgets/base",
            "_view_module_version": "1.2.0",
            "_view_name": "LayoutView",
            "align_content": null,
            "align_items": null,
            "align_self": null,
            "border": null,
            "bottom": null,
            "display": null,
            "flex": null,
            "flex_flow": null,
            "grid_area": null,
            "grid_auto_columns": null,
            "grid_auto_flow": null,
            "grid_auto_rows": null,
            "grid_column": null,
            "grid_gap": null,
            "grid_row": null,
            "grid_template_areas": null,
            "grid_template_columns": null,
            "grid_template_rows": null,
            "height": null,
            "justify_content": null,
            "justify_items": null,
            "left": null,
            "margin": null,
            "max_height": null,
            "max_width": null,
            "min_height": null,
            "min_width": null,
            "object_fit": null,
            "object_position": null,
            "order": null,
            "overflow": null,
            "overflow_x": null,
            "overflow_y": null,
            "padding": null,
            "right": null,
            "top": null,
            "visibility": null,
            "width": null
          }
        },
        "f72d02e201184a71bf65197e27ad44c1": {
          "model_module": "@jupyter-widgets/controls",
          "model_name": "DescriptionStyleModel",
          "model_module_version": "1.5.0",
          "state": {
            "_model_module": "@jupyter-widgets/controls",
            "_model_module_version": "1.5.0",
            "_model_name": "DescriptionStyleModel",
            "_view_count": null,
            "_view_module": "@jupyter-widgets/base",
            "_view_module_version": "1.2.0",
            "_view_name": "StyleView",
            "description_width": ""
          }
        },
        "d7123512e09e4db5964c88eeca967da5": {
          "model_module": "@jupyter-widgets/controls",
          "model_name": "HBoxModel",
          "model_module_version": "1.5.0",
          "state": {
            "_dom_classes": [],
            "_model_module": "@jupyter-widgets/controls",
            "_model_module_version": "1.5.0",
            "_model_name": "HBoxModel",
            "_view_count": null,
            "_view_module": "@jupyter-widgets/controls",
            "_view_module_version": "1.5.0",
            "_view_name": "HBoxView",
            "box_style": "",
            "children": [
              "IPY_MODEL_a3a0198e423b4a8da4b680c24f00edb8",
              "IPY_MODEL_86657178a0e04da48d046801c8c45b96",
              "IPY_MODEL_422132fd00ac45b28e979ed35dc31b02"
            ],
            "layout": "IPY_MODEL_1dbf66fd6ff848c0b277f459417d3ab2"
          }
        },
        "a3a0198e423b4a8da4b680c24f00edb8": {
          "model_module": "@jupyter-widgets/controls",
          "model_name": "HTMLModel",
          "model_module_version": "1.5.0",
          "state": {
            "_dom_classes": [],
            "_model_module": "@jupyter-widgets/controls",
            "_model_module_version": "1.5.0",
            "_model_name": "HTMLModel",
            "_view_count": null,
            "_view_module": "@jupyter-widgets/controls",
            "_view_module_version": "1.5.0",
            "_view_name": "HTMLView",
            "description": "",
            "description_tooltip": null,
            "layout": "IPY_MODEL_ccd5216677a54d1d804e2b1552208060",
            "placeholder": "​",
            "style": "IPY_MODEL_52dd33db85fb4f81be3185dce92021a2",
            "value": "100%"
          }
        },
        "86657178a0e04da48d046801c8c45b96": {
          "model_module": "@jupyter-widgets/controls",
          "model_name": "FloatProgressModel",
          "model_module_version": "1.5.0",
          "state": {
            "_dom_classes": [],
            "_model_module": "@jupyter-widgets/controls",
            "_model_module_version": "1.5.0",
            "_model_name": "FloatProgressModel",
            "_view_count": null,
            "_view_module": "@jupyter-widgets/controls",
            "_view_module_version": "1.5.0",
            "_view_name": "ProgressView",
            "bar_style": "success",
            "description": "",
            "description_tooltip": null,
            "layout": "IPY_MODEL_d6a7405c283b4c478b47e32af548daea",
            "max": 1,
            "min": 0,
            "orientation": "horizontal",
            "style": "IPY_MODEL_dddf7d340bcb4305a123619331024db0",
            "value": 1
          }
        },
        "422132fd00ac45b28e979ed35dc31b02": {
          "model_module": "@jupyter-widgets/controls",
          "model_name": "HTMLModel",
          "model_module_version": "1.5.0",
          "state": {
            "_dom_classes": [],
            "_model_module": "@jupyter-widgets/controls",
            "_model_module_version": "1.5.0",
            "_model_name": "HTMLModel",
            "_view_count": null,
            "_view_module": "@jupyter-widgets/controls",
            "_view_module_version": "1.5.0",
            "_view_name": "HTMLView",
            "description": "",
            "description_tooltip": null,
            "layout": "IPY_MODEL_653a6c1960ea4ee48250d8c158527353",
            "placeholder": "​",
            "style": "IPY_MODEL_dc5ad744e5094214a709be6e43eb4095",
            "value": " 1/1 [00:01&lt;00:00,  1.56s/ba]"
          }
        },
        "1dbf66fd6ff848c0b277f459417d3ab2": {
          "model_module": "@jupyter-widgets/base",
          "model_name": "LayoutModel",
          "model_module_version": "1.2.0",
          "state": {
            "_model_module": "@jupyter-widgets/base",
            "_model_module_version": "1.2.0",
            "_model_name": "LayoutModel",
            "_view_count": null,
            "_view_module": "@jupyter-widgets/base",
            "_view_module_version": "1.2.0",
            "_view_name": "LayoutView",
            "align_content": null,
            "align_items": null,
            "align_self": null,
            "border": null,
            "bottom": null,
            "display": null,
            "flex": null,
            "flex_flow": null,
            "grid_area": null,
            "grid_auto_columns": null,
            "grid_auto_flow": null,
            "grid_auto_rows": null,
            "grid_column": null,
            "grid_gap": null,
            "grid_row": null,
            "grid_template_areas": null,
            "grid_template_columns": null,
            "grid_template_rows": null,
            "height": null,
            "justify_content": null,
            "justify_items": null,
            "left": null,
            "margin": null,
            "max_height": null,
            "max_width": null,
            "min_height": null,
            "min_width": null,
            "object_fit": null,
            "object_position": null,
            "order": null,
            "overflow": null,
            "overflow_x": null,
            "overflow_y": null,
            "padding": null,
            "right": null,
            "top": null,
            "visibility": null,
            "width": null
          }
        },
        "ccd5216677a54d1d804e2b1552208060": {
          "model_module": "@jupyter-widgets/base",
          "model_name": "LayoutModel",
          "model_module_version": "1.2.0",
          "state": {
            "_model_module": "@jupyter-widgets/base",
            "_model_module_version": "1.2.0",
            "_model_name": "LayoutModel",
            "_view_count": null,
            "_view_module": "@jupyter-widgets/base",
            "_view_module_version": "1.2.0",
            "_view_name": "LayoutView",
            "align_content": null,
            "align_items": null,
            "align_self": null,
            "border": null,
            "bottom": null,
            "display": null,
            "flex": null,
            "flex_flow": null,
            "grid_area": null,
            "grid_auto_columns": null,
            "grid_auto_flow": null,
            "grid_auto_rows": null,
            "grid_column": null,
            "grid_gap": null,
            "grid_row": null,
            "grid_template_areas": null,
            "grid_template_columns": null,
            "grid_template_rows": null,
            "height": null,
            "justify_content": null,
            "justify_items": null,
            "left": null,
            "margin": null,
            "max_height": null,
            "max_width": null,
            "min_height": null,
            "min_width": null,
            "object_fit": null,
            "object_position": null,
            "order": null,
            "overflow": null,
            "overflow_x": null,
            "overflow_y": null,
            "padding": null,
            "right": null,
            "top": null,
            "visibility": null,
            "width": null
          }
        },
        "52dd33db85fb4f81be3185dce92021a2": {
          "model_module": "@jupyter-widgets/controls",
          "model_name": "DescriptionStyleModel",
          "model_module_version": "1.5.0",
          "state": {
            "_model_module": "@jupyter-widgets/controls",
            "_model_module_version": "1.5.0",
            "_model_name": "DescriptionStyleModel",
            "_view_count": null,
            "_view_module": "@jupyter-widgets/base",
            "_view_module_version": "1.2.0",
            "_view_name": "StyleView",
            "description_width": ""
          }
        },
        "d6a7405c283b4c478b47e32af548daea": {
          "model_module": "@jupyter-widgets/base",
          "model_name": "LayoutModel",
          "model_module_version": "1.2.0",
          "state": {
            "_model_module": "@jupyter-widgets/base",
            "_model_module_version": "1.2.0",
            "_model_name": "LayoutModel",
            "_view_count": null,
            "_view_module": "@jupyter-widgets/base",
            "_view_module_version": "1.2.0",
            "_view_name": "LayoutView",
            "align_content": null,
            "align_items": null,
            "align_self": null,
            "border": null,
            "bottom": null,
            "display": null,
            "flex": null,
            "flex_flow": null,
            "grid_area": null,
            "grid_auto_columns": null,
            "grid_auto_flow": null,
            "grid_auto_rows": null,
            "grid_column": null,
            "grid_gap": null,
            "grid_row": null,
            "grid_template_areas": null,
            "grid_template_columns": null,
            "grid_template_rows": null,
            "height": null,
            "justify_content": null,
            "justify_items": null,
            "left": null,
            "margin": null,
            "max_height": null,
            "max_width": null,
            "min_height": null,
            "min_width": null,
            "object_fit": null,
            "object_position": null,
            "order": null,
            "overflow": null,
            "overflow_x": null,
            "overflow_y": null,
            "padding": null,
            "right": null,
            "top": null,
            "visibility": null,
            "width": null
          }
        },
        "dddf7d340bcb4305a123619331024db0": {
          "model_module": "@jupyter-widgets/controls",
          "model_name": "ProgressStyleModel",
          "model_module_version": "1.5.0",
          "state": {
            "_model_module": "@jupyter-widgets/controls",
            "_model_module_version": "1.5.0",
            "_model_name": "ProgressStyleModel",
            "_view_count": null,
            "_view_module": "@jupyter-widgets/base",
            "_view_module_version": "1.2.0",
            "_view_name": "StyleView",
            "bar_color": null,
            "description_width": ""
          }
        },
        "653a6c1960ea4ee48250d8c158527353": {
          "model_module": "@jupyter-widgets/base",
          "model_name": "LayoutModel",
          "model_module_version": "1.2.0",
          "state": {
            "_model_module": "@jupyter-widgets/base",
            "_model_module_version": "1.2.0",
            "_model_name": "LayoutModel",
            "_view_count": null,
            "_view_module": "@jupyter-widgets/base",
            "_view_module_version": "1.2.0",
            "_view_name": "LayoutView",
            "align_content": null,
            "align_items": null,
            "align_self": null,
            "border": null,
            "bottom": null,
            "display": null,
            "flex": null,
            "flex_flow": null,
            "grid_area": null,
            "grid_auto_columns": null,
            "grid_auto_flow": null,
            "grid_auto_rows": null,
            "grid_column": null,
            "grid_gap": null,
            "grid_row": null,
            "grid_template_areas": null,
            "grid_template_columns": null,
            "grid_template_rows": null,
            "height": null,
            "justify_content": null,
            "justify_items": null,
            "left": null,
            "margin": null,
            "max_height": null,
            "max_width": null,
            "min_height": null,
            "min_width": null,
            "object_fit": null,
            "object_position": null,
            "order": null,
            "overflow": null,
            "overflow_x": null,
            "overflow_y": null,
            "padding": null,
            "right": null,
            "top": null,
            "visibility": null,
            "width": null
          }
        },
        "dc5ad744e5094214a709be6e43eb4095": {
          "model_module": "@jupyter-widgets/controls",
          "model_name": "DescriptionStyleModel",
          "model_module_version": "1.5.0",
          "state": {
            "_model_module": "@jupyter-widgets/controls",
            "_model_module_version": "1.5.0",
            "_model_name": "DescriptionStyleModel",
            "_view_count": null,
            "_view_module": "@jupyter-widgets/base",
            "_view_module_version": "1.2.0",
            "_view_name": "StyleView",
            "description_width": ""
          }
        },
        "e5f43cc68ec94268afa74c156d2b9003": {
          "model_module": "@jupyter-widgets/controls",
          "model_name": "HBoxModel",
          "model_module_version": "1.5.0",
          "state": {
            "_dom_classes": [],
            "_model_module": "@jupyter-widgets/controls",
            "_model_module_version": "1.5.0",
            "_model_name": "HBoxModel",
            "_view_count": null,
            "_view_module": "@jupyter-widgets/controls",
            "_view_module_version": "1.5.0",
            "_view_name": "HBoxView",
            "box_style": "",
            "children": [
              "IPY_MODEL_933cdc48ac6248e1b2fc58a888553c4e",
              "IPY_MODEL_a1edc65cfa904293ae03c508f3eec86c",
              "IPY_MODEL_b6b9ee57ac184bab871395adf902789b"
            ],
            "layout": "IPY_MODEL_d0f1ae5542ce4f9881987a81cde7d74d"
          }
        },
        "933cdc48ac6248e1b2fc58a888553c4e": {
          "model_module": "@jupyter-widgets/controls",
          "model_name": "HTMLModel",
          "model_module_version": "1.5.0",
          "state": {
            "_dom_classes": [],
            "_model_module": "@jupyter-widgets/controls",
            "_model_module_version": "1.5.0",
            "_model_name": "HTMLModel",
            "_view_count": null,
            "_view_module": "@jupyter-widgets/controls",
            "_view_module_version": "1.5.0",
            "_view_name": "HTMLView",
            "description": "",
            "description_tooltip": null,
            "layout": "IPY_MODEL_ac3cca923dad4bbaab3418f5f1c4602f",
            "placeholder": "​",
            "style": "IPY_MODEL_472a2940d459416e95e6bb36a3554e8e",
            "value": "100%"
          }
        },
        "a1edc65cfa904293ae03c508f3eec86c": {
          "model_module": "@jupyter-widgets/controls",
          "model_name": "FloatProgressModel",
          "model_module_version": "1.5.0",
          "state": {
            "_dom_classes": [],
            "_model_module": "@jupyter-widgets/controls",
            "_model_module_version": "1.5.0",
            "_model_name": "FloatProgressModel",
            "_view_count": null,
            "_view_module": "@jupyter-widgets/controls",
            "_view_module_version": "1.5.0",
            "_view_name": "ProgressView",
            "bar_style": "success",
            "description": "",
            "description_tooltip": null,
            "layout": "IPY_MODEL_0537f5997e514e8dac7ec33693004789",
            "max": 1,
            "min": 0,
            "orientation": "horizontal",
            "style": "IPY_MODEL_99bac1b7aede4b45a8a4527f4be082c5",
            "value": 1
          }
        },
        "b6b9ee57ac184bab871395adf902789b": {
          "model_module": "@jupyter-widgets/controls",
          "model_name": "HTMLModel",
          "model_module_version": "1.5.0",
          "state": {
            "_dom_classes": [],
            "_model_module": "@jupyter-widgets/controls",
            "_model_module_version": "1.5.0",
            "_model_name": "HTMLModel",
            "_view_count": null,
            "_view_module": "@jupyter-widgets/controls",
            "_view_module_version": "1.5.0",
            "_view_name": "HTMLView",
            "description": "",
            "description_tooltip": null,
            "layout": "IPY_MODEL_29e7ed200f054faa928787d06720d86c",
            "placeholder": "​",
            "style": "IPY_MODEL_7021611535294b8f95ce8f994970deac",
            "value": " 1/1 [00:00&lt;00:00,  5.40ba/s]"
          }
        },
        "d0f1ae5542ce4f9881987a81cde7d74d": {
          "model_module": "@jupyter-widgets/base",
          "model_name": "LayoutModel",
          "model_module_version": "1.2.0",
          "state": {
            "_model_module": "@jupyter-widgets/base",
            "_model_module_version": "1.2.0",
            "_model_name": "LayoutModel",
            "_view_count": null,
            "_view_module": "@jupyter-widgets/base",
            "_view_module_version": "1.2.0",
            "_view_name": "LayoutView",
            "align_content": null,
            "align_items": null,
            "align_self": null,
            "border": null,
            "bottom": null,
            "display": null,
            "flex": null,
            "flex_flow": null,
            "grid_area": null,
            "grid_auto_columns": null,
            "grid_auto_flow": null,
            "grid_auto_rows": null,
            "grid_column": null,
            "grid_gap": null,
            "grid_row": null,
            "grid_template_areas": null,
            "grid_template_columns": null,
            "grid_template_rows": null,
            "height": null,
            "justify_content": null,
            "justify_items": null,
            "left": null,
            "margin": null,
            "max_height": null,
            "max_width": null,
            "min_height": null,
            "min_width": null,
            "object_fit": null,
            "object_position": null,
            "order": null,
            "overflow": null,
            "overflow_x": null,
            "overflow_y": null,
            "padding": null,
            "right": null,
            "top": null,
            "visibility": null,
            "width": null
          }
        },
        "ac3cca923dad4bbaab3418f5f1c4602f": {
          "model_module": "@jupyter-widgets/base",
          "model_name": "LayoutModel",
          "model_module_version": "1.2.0",
          "state": {
            "_model_module": "@jupyter-widgets/base",
            "_model_module_version": "1.2.0",
            "_model_name": "LayoutModel",
            "_view_count": null,
            "_view_module": "@jupyter-widgets/base",
            "_view_module_version": "1.2.0",
            "_view_name": "LayoutView",
            "align_content": null,
            "align_items": null,
            "align_self": null,
            "border": null,
            "bottom": null,
            "display": null,
            "flex": null,
            "flex_flow": null,
            "grid_area": null,
            "grid_auto_columns": null,
            "grid_auto_flow": null,
            "grid_auto_rows": null,
            "grid_column": null,
            "grid_gap": null,
            "grid_row": null,
            "grid_template_areas": null,
            "grid_template_columns": null,
            "grid_template_rows": null,
            "height": null,
            "justify_content": null,
            "justify_items": null,
            "left": null,
            "margin": null,
            "max_height": null,
            "max_width": null,
            "min_height": null,
            "min_width": null,
            "object_fit": null,
            "object_position": null,
            "order": null,
            "overflow": null,
            "overflow_x": null,
            "overflow_y": null,
            "padding": null,
            "right": null,
            "top": null,
            "visibility": null,
            "width": null
          }
        },
        "472a2940d459416e95e6bb36a3554e8e": {
          "model_module": "@jupyter-widgets/controls",
          "model_name": "DescriptionStyleModel",
          "model_module_version": "1.5.0",
          "state": {
            "_model_module": "@jupyter-widgets/controls",
            "_model_module_version": "1.5.0",
            "_model_name": "DescriptionStyleModel",
            "_view_count": null,
            "_view_module": "@jupyter-widgets/base",
            "_view_module_version": "1.2.0",
            "_view_name": "StyleView",
            "description_width": ""
          }
        },
        "0537f5997e514e8dac7ec33693004789": {
          "model_module": "@jupyter-widgets/base",
          "model_name": "LayoutModel",
          "model_module_version": "1.2.0",
          "state": {
            "_model_module": "@jupyter-widgets/base",
            "_model_module_version": "1.2.0",
            "_model_name": "LayoutModel",
            "_view_count": null,
            "_view_module": "@jupyter-widgets/base",
            "_view_module_version": "1.2.0",
            "_view_name": "LayoutView",
            "align_content": null,
            "align_items": null,
            "align_self": null,
            "border": null,
            "bottom": null,
            "display": null,
            "flex": null,
            "flex_flow": null,
            "grid_area": null,
            "grid_auto_columns": null,
            "grid_auto_flow": null,
            "grid_auto_rows": null,
            "grid_column": null,
            "grid_gap": null,
            "grid_row": null,
            "grid_template_areas": null,
            "grid_template_columns": null,
            "grid_template_rows": null,
            "height": null,
            "justify_content": null,
            "justify_items": null,
            "left": null,
            "margin": null,
            "max_height": null,
            "max_width": null,
            "min_height": null,
            "min_width": null,
            "object_fit": null,
            "object_position": null,
            "order": null,
            "overflow": null,
            "overflow_x": null,
            "overflow_y": null,
            "padding": null,
            "right": null,
            "top": null,
            "visibility": null,
            "width": null
          }
        },
        "99bac1b7aede4b45a8a4527f4be082c5": {
          "model_module": "@jupyter-widgets/controls",
          "model_name": "ProgressStyleModel",
          "model_module_version": "1.5.0",
          "state": {
            "_model_module": "@jupyter-widgets/controls",
            "_model_module_version": "1.5.0",
            "_model_name": "ProgressStyleModel",
            "_view_count": null,
            "_view_module": "@jupyter-widgets/base",
            "_view_module_version": "1.2.0",
            "_view_name": "StyleView",
            "bar_color": null,
            "description_width": ""
          }
        },
        "29e7ed200f054faa928787d06720d86c": {
          "model_module": "@jupyter-widgets/base",
          "model_name": "LayoutModel",
          "model_module_version": "1.2.0",
          "state": {
            "_model_module": "@jupyter-widgets/base",
            "_model_module_version": "1.2.0",
            "_model_name": "LayoutModel",
            "_view_count": null,
            "_view_module": "@jupyter-widgets/base",
            "_view_module_version": "1.2.0",
            "_view_name": "LayoutView",
            "align_content": null,
            "align_items": null,
            "align_self": null,
            "border": null,
            "bottom": null,
            "display": null,
            "flex": null,
            "flex_flow": null,
            "grid_area": null,
            "grid_auto_columns": null,
            "grid_auto_flow": null,
            "grid_auto_rows": null,
            "grid_column": null,
            "grid_gap": null,
            "grid_row": null,
            "grid_template_areas": null,
            "grid_template_columns": null,
            "grid_template_rows": null,
            "height": null,
            "justify_content": null,
            "justify_items": null,
            "left": null,
            "margin": null,
            "max_height": null,
            "max_width": null,
            "min_height": null,
            "min_width": null,
            "object_fit": null,
            "object_position": null,
            "order": null,
            "overflow": null,
            "overflow_x": null,
            "overflow_y": null,
            "padding": null,
            "right": null,
            "top": null,
            "visibility": null,
            "width": null
          }
        },
        "7021611535294b8f95ce8f994970deac": {
          "model_module": "@jupyter-widgets/controls",
          "model_name": "DescriptionStyleModel",
          "model_module_version": "1.5.0",
          "state": {
            "_model_module": "@jupyter-widgets/controls",
            "_model_module_version": "1.5.0",
            "_model_name": "DescriptionStyleModel",
            "_view_count": null,
            "_view_module": "@jupyter-widgets/base",
            "_view_module_version": "1.2.0",
            "_view_name": "StyleView",
            "description_width": ""
          }
        },
        "775d3562dca04ea6b11366b27826909a": {
          "model_module": "@jupyter-widgets/controls",
          "model_name": "HBoxModel",
          "model_module_version": "1.5.0",
          "state": {
            "_dom_classes": [],
            "_model_module": "@jupyter-widgets/controls",
            "_model_module_version": "1.5.0",
            "_model_name": "HBoxModel",
            "_view_count": null,
            "_view_module": "@jupyter-widgets/controls",
            "_view_module_version": "1.5.0",
            "_view_name": "HBoxView",
            "box_style": "",
            "children": [
              "IPY_MODEL_a04d759325b9473386a7117ea50d11c2",
              "IPY_MODEL_34cb75e7340e4428bd6a6248b8b4550c",
              "IPY_MODEL_3665103d427d40c393db4ca88135c3fb"
            ],
            "layout": "IPY_MODEL_c7857e2b0984440dad0c65e55a633bd0"
          }
        },
        "a04d759325b9473386a7117ea50d11c2": {
          "model_module": "@jupyter-widgets/controls",
          "model_name": "HTMLModel",
          "model_module_version": "1.5.0",
          "state": {
            "_dom_classes": [],
            "_model_module": "@jupyter-widgets/controls",
            "_model_module_version": "1.5.0",
            "_model_name": "HTMLModel",
            "_view_count": null,
            "_view_module": "@jupyter-widgets/controls",
            "_view_module_version": "1.5.0",
            "_view_name": "HTMLView",
            "description": "",
            "description_tooltip": null,
            "layout": "IPY_MODEL_766fc4148f1c4dedbbab6cb6a09e1b54",
            "placeholder": "​",
            "style": "IPY_MODEL_444d808d0e2d4ea98bbadfd605a38fa0",
            "value": "100%"
          }
        },
        "34cb75e7340e4428bd6a6248b8b4550c": {
          "model_module": "@jupyter-widgets/controls",
          "model_name": "FloatProgressModel",
          "model_module_version": "1.5.0",
          "state": {
            "_dom_classes": [],
            "_model_module": "@jupyter-widgets/controls",
            "_model_module_version": "1.5.0",
            "_model_name": "FloatProgressModel",
            "_view_count": null,
            "_view_module": "@jupyter-widgets/controls",
            "_view_module_version": "1.5.0",
            "_view_name": "ProgressView",
            "bar_style": "success",
            "description": "",
            "description_tooltip": null,
            "layout": "IPY_MODEL_04100c73f975411697b308cfbf1ee91e",
            "max": 1,
            "min": 0,
            "orientation": "horizontal",
            "style": "IPY_MODEL_75aeaffec5334e3eaeb36b1594dd9b1c",
            "value": 1
          }
        },
        "3665103d427d40c393db4ca88135c3fb": {
          "model_module": "@jupyter-widgets/controls",
          "model_name": "HTMLModel",
          "model_module_version": "1.5.0",
          "state": {
            "_dom_classes": [],
            "_model_module": "@jupyter-widgets/controls",
            "_model_module_version": "1.5.0",
            "_model_name": "HTMLModel",
            "_view_count": null,
            "_view_module": "@jupyter-widgets/controls",
            "_view_module_version": "1.5.0",
            "_view_name": "HTMLView",
            "description": "",
            "description_tooltip": null,
            "layout": "IPY_MODEL_4648b20bbb6946b0b376229394608fde",
            "placeholder": "​",
            "style": "IPY_MODEL_b4411360f33f432896b2411bc2b3d4fa",
            "value": " 1/1 [00:00&lt;00:00,  5.70ba/s]"
          }
        },
        "c7857e2b0984440dad0c65e55a633bd0": {
          "model_module": "@jupyter-widgets/base",
          "model_name": "LayoutModel",
          "model_module_version": "1.2.0",
          "state": {
            "_model_module": "@jupyter-widgets/base",
            "_model_module_version": "1.2.0",
            "_model_name": "LayoutModel",
            "_view_count": null,
            "_view_module": "@jupyter-widgets/base",
            "_view_module_version": "1.2.0",
            "_view_name": "LayoutView",
            "align_content": null,
            "align_items": null,
            "align_self": null,
            "border": null,
            "bottom": null,
            "display": null,
            "flex": null,
            "flex_flow": null,
            "grid_area": null,
            "grid_auto_columns": null,
            "grid_auto_flow": null,
            "grid_auto_rows": null,
            "grid_column": null,
            "grid_gap": null,
            "grid_row": null,
            "grid_template_areas": null,
            "grid_template_columns": null,
            "grid_template_rows": null,
            "height": null,
            "justify_content": null,
            "justify_items": null,
            "left": null,
            "margin": null,
            "max_height": null,
            "max_width": null,
            "min_height": null,
            "min_width": null,
            "object_fit": null,
            "object_position": null,
            "order": null,
            "overflow": null,
            "overflow_x": null,
            "overflow_y": null,
            "padding": null,
            "right": null,
            "top": null,
            "visibility": null,
            "width": null
          }
        },
        "766fc4148f1c4dedbbab6cb6a09e1b54": {
          "model_module": "@jupyter-widgets/base",
          "model_name": "LayoutModel",
          "model_module_version": "1.2.0",
          "state": {
            "_model_module": "@jupyter-widgets/base",
            "_model_module_version": "1.2.0",
            "_model_name": "LayoutModel",
            "_view_count": null,
            "_view_module": "@jupyter-widgets/base",
            "_view_module_version": "1.2.0",
            "_view_name": "LayoutView",
            "align_content": null,
            "align_items": null,
            "align_self": null,
            "border": null,
            "bottom": null,
            "display": null,
            "flex": null,
            "flex_flow": null,
            "grid_area": null,
            "grid_auto_columns": null,
            "grid_auto_flow": null,
            "grid_auto_rows": null,
            "grid_column": null,
            "grid_gap": null,
            "grid_row": null,
            "grid_template_areas": null,
            "grid_template_columns": null,
            "grid_template_rows": null,
            "height": null,
            "justify_content": null,
            "justify_items": null,
            "left": null,
            "margin": null,
            "max_height": null,
            "max_width": null,
            "min_height": null,
            "min_width": null,
            "object_fit": null,
            "object_position": null,
            "order": null,
            "overflow": null,
            "overflow_x": null,
            "overflow_y": null,
            "padding": null,
            "right": null,
            "top": null,
            "visibility": null,
            "width": null
          }
        },
        "444d808d0e2d4ea98bbadfd605a38fa0": {
          "model_module": "@jupyter-widgets/controls",
          "model_name": "DescriptionStyleModel",
          "model_module_version": "1.5.0",
          "state": {
            "_model_module": "@jupyter-widgets/controls",
            "_model_module_version": "1.5.0",
            "_model_name": "DescriptionStyleModel",
            "_view_count": null,
            "_view_module": "@jupyter-widgets/base",
            "_view_module_version": "1.2.0",
            "_view_name": "StyleView",
            "description_width": ""
          }
        },
        "04100c73f975411697b308cfbf1ee91e": {
          "model_module": "@jupyter-widgets/base",
          "model_name": "LayoutModel",
          "model_module_version": "1.2.0",
          "state": {
            "_model_module": "@jupyter-widgets/base",
            "_model_module_version": "1.2.0",
            "_model_name": "LayoutModel",
            "_view_count": null,
            "_view_module": "@jupyter-widgets/base",
            "_view_module_version": "1.2.0",
            "_view_name": "LayoutView",
            "align_content": null,
            "align_items": null,
            "align_self": null,
            "border": null,
            "bottom": null,
            "display": null,
            "flex": null,
            "flex_flow": null,
            "grid_area": null,
            "grid_auto_columns": null,
            "grid_auto_flow": null,
            "grid_auto_rows": null,
            "grid_column": null,
            "grid_gap": null,
            "grid_row": null,
            "grid_template_areas": null,
            "grid_template_columns": null,
            "grid_template_rows": null,
            "height": null,
            "justify_content": null,
            "justify_items": null,
            "left": null,
            "margin": null,
            "max_height": null,
            "max_width": null,
            "min_height": null,
            "min_width": null,
            "object_fit": null,
            "object_position": null,
            "order": null,
            "overflow": null,
            "overflow_x": null,
            "overflow_y": null,
            "padding": null,
            "right": null,
            "top": null,
            "visibility": null,
            "width": null
          }
        },
        "75aeaffec5334e3eaeb36b1594dd9b1c": {
          "model_module": "@jupyter-widgets/controls",
          "model_name": "ProgressStyleModel",
          "model_module_version": "1.5.0",
          "state": {
            "_model_module": "@jupyter-widgets/controls",
            "_model_module_version": "1.5.0",
            "_model_name": "ProgressStyleModel",
            "_view_count": null,
            "_view_module": "@jupyter-widgets/base",
            "_view_module_version": "1.2.0",
            "_view_name": "StyleView",
            "bar_color": null,
            "description_width": ""
          }
        },
        "4648b20bbb6946b0b376229394608fde": {
          "model_module": "@jupyter-widgets/base",
          "model_name": "LayoutModel",
          "model_module_version": "1.2.0",
          "state": {
            "_model_module": "@jupyter-widgets/base",
            "_model_module_version": "1.2.0",
            "_model_name": "LayoutModel",
            "_view_count": null,
            "_view_module": "@jupyter-widgets/base",
            "_view_module_version": "1.2.0",
            "_view_name": "LayoutView",
            "align_content": null,
            "align_items": null,
            "align_self": null,
            "border": null,
            "bottom": null,
            "display": null,
            "flex": null,
            "flex_flow": null,
            "grid_area": null,
            "grid_auto_columns": null,
            "grid_auto_flow": null,
            "grid_auto_rows": null,
            "grid_column": null,
            "grid_gap": null,
            "grid_row": null,
            "grid_template_areas": null,
            "grid_template_columns": null,
            "grid_template_rows": null,
            "height": null,
            "justify_content": null,
            "justify_items": null,
            "left": null,
            "margin": null,
            "max_height": null,
            "max_width": null,
            "min_height": null,
            "min_width": null,
            "object_fit": null,
            "object_position": null,
            "order": null,
            "overflow": null,
            "overflow_x": null,
            "overflow_y": null,
            "padding": null,
            "right": null,
            "top": null,
            "visibility": null,
            "width": null
          }
        },
        "b4411360f33f432896b2411bc2b3d4fa": {
          "model_module": "@jupyter-widgets/controls",
          "model_name": "DescriptionStyleModel",
          "model_module_version": "1.5.0",
          "state": {
            "_model_module": "@jupyter-widgets/controls",
            "_model_module_version": "1.5.0",
            "_model_name": "DescriptionStyleModel",
            "_view_count": null,
            "_view_module": "@jupyter-widgets/base",
            "_view_module_version": "1.2.0",
            "_view_name": "StyleView",
            "description_width": ""
          }
        },
        "82a0c42b52f1423cbc5e2390db1c2020": {
          "model_module": "@jupyter-widgets/controls",
          "model_name": "HBoxModel",
          "model_module_version": "1.5.0",
          "state": {
            "_dom_classes": [],
            "_model_module": "@jupyter-widgets/controls",
            "_model_module_version": "1.5.0",
            "_model_name": "HBoxModel",
            "_view_count": null,
            "_view_module": "@jupyter-widgets/controls",
            "_view_module_version": "1.5.0",
            "_view_name": "HBoxView",
            "box_style": "",
            "children": [
              "IPY_MODEL_48df43ce5ed3411dbf7f017dc3414a8e",
              "IPY_MODEL_5e7109490a504984996ca89c0f10af35",
              "IPY_MODEL_cfc3b201e3644b9590b99513a392a846"
            ],
            "layout": "IPY_MODEL_e1ca93584c444e3aa9f405f276a8834e"
          }
        },
        "48df43ce5ed3411dbf7f017dc3414a8e": {
          "model_module": "@jupyter-widgets/controls",
          "model_name": "HTMLModel",
          "model_module_version": "1.5.0",
          "state": {
            "_dom_classes": [],
            "_model_module": "@jupyter-widgets/controls",
            "_model_module_version": "1.5.0",
            "_model_name": "HTMLModel",
            "_view_count": null,
            "_view_module": "@jupyter-widgets/controls",
            "_view_module_version": "1.5.0",
            "_view_name": "HTMLView",
            "description": "",
            "description_tooltip": null,
            "layout": "IPY_MODEL_68eea1e8e4bf42fcbc1b2b256e4ca408",
            "placeholder": "​",
            "style": "IPY_MODEL_86d7d33196b64d4d96b01433d09b7751",
            "value": "Downloading: 100%"
          }
        },
        "5e7109490a504984996ca89c0f10af35": {
          "model_module": "@jupyter-widgets/controls",
          "model_name": "FloatProgressModel",
          "model_module_version": "1.5.0",
          "state": {
            "_dom_classes": [],
            "_model_module": "@jupyter-widgets/controls",
            "_model_module_version": "1.5.0",
            "_model_name": "FloatProgressModel",
            "_view_count": null,
            "_view_module": "@jupyter-widgets/controls",
            "_view_module_version": "1.5.0",
            "_view_name": "ProgressView",
            "bar_style": "success",
            "description": "",
            "description_tooltip": null,
            "layout": "IPY_MODEL_e8beb701b4244910aeaf97661e587533",
            "max": 267967963,
            "min": 0,
            "orientation": "horizontal",
            "style": "IPY_MODEL_971399c9f7e74122ac0b8834bd8c2a23",
            "value": 267967963
          }
        },
        "cfc3b201e3644b9590b99513a392a846": {
          "model_module": "@jupyter-widgets/controls",
          "model_name": "HTMLModel",
          "model_module_version": "1.5.0",
          "state": {
            "_dom_classes": [],
            "_model_module": "@jupyter-widgets/controls",
            "_model_module_version": "1.5.0",
            "_model_name": "HTMLModel",
            "_view_count": null,
            "_view_module": "@jupyter-widgets/controls",
            "_view_module_version": "1.5.0",
            "_view_name": "HTMLView",
            "description": "",
            "description_tooltip": null,
            "layout": "IPY_MODEL_54597ee6a0694abeb53ff4121b8080b0",
            "placeholder": "​",
            "style": "IPY_MODEL_c17af72aa88a4d0299bf545d715b7f28",
            "value": " 268M/268M [00:04&lt;00:00, 55.5MB/s]"
          }
        },
        "e1ca93584c444e3aa9f405f276a8834e": {
          "model_module": "@jupyter-widgets/base",
          "model_name": "LayoutModel",
          "model_module_version": "1.2.0",
          "state": {
            "_model_module": "@jupyter-widgets/base",
            "_model_module_version": "1.2.0",
            "_model_name": "LayoutModel",
            "_view_count": null,
            "_view_module": "@jupyter-widgets/base",
            "_view_module_version": "1.2.0",
            "_view_name": "LayoutView",
            "align_content": null,
            "align_items": null,
            "align_self": null,
            "border": null,
            "bottom": null,
            "display": null,
            "flex": null,
            "flex_flow": null,
            "grid_area": null,
            "grid_auto_columns": null,
            "grid_auto_flow": null,
            "grid_auto_rows": null,
            "grid_column": null,
            "grid_gap": null,
            "grid_row": null,
            "grid_template_areas": null,
            "grid_template_columns": null,
            "grid_template_rows": null,
            "height": null,
            "justify_content": null,
            "justify_items": null,
            "left": null,
            "margin": null,
            "max_height": null,
            "max_width": null,
            "min_height": null,
            "min_width": null,
            "object_fit": null,
            "object_position": null,
            "order": null,
            "overflow": null,
            "overflow_x": null,
            "overflow_y": null,
            "padding": null,
            "right": null,
            "top": null,
            "visibility": null,
            "width": null
          }
        },
        "68eea1e8e4bf42fcbc1b2b256e4ca408": {
          "model_module": "@jupyter-widgets/base",
          "model_name": "LayoutModel",
          "model_module_version": "1.2.0",
          "state": {
            "_model_module": "@jupyter-widgets/base",
            "_model_module_version": "1.2.0",
            "_model_name": "LayoutModel",
            "_view_count": null,
            "_view_module": "@jupyter-widgets/base",
            "_view_module_version": "1.2.0",
            "_view_name": "LayoutView",
            "align_content": null,
            "align_items": null,
            "align_self": null,
            "border": null,
            "bottom": null,
            "display": null,
            "flex": null,
            "flex_flow": null,
            "grid_area": null,
            "grid_auto_columns": null,
            "grid_auto_flow": null,
            "grid_auto_rows": null,
            "grid_column": null,
            "grid_gap": null,
            "grid_row": null,
            "grid_template_areas": null,
            "grid_template_columns": null,
            "grid_template_rows": null,
            "height": null,
            "justify_content": null,
            "justify_items": null,
            "left": null,
            "margin": null,
            "max_height": null,
            "max_width": null,
            "min_height": null,
            "min_width": null,
            "object_fit": null,
            "object_position": null,
            "order": null,
            "overflow": null,
            "overflow_x": null,
            "overflow_y": null,
            "padding": null,
            "right": null,
            "top": null,
            "visibility": null,
            "width": null
          }
        },
        "86d7d33196b64d4d96b01433d09b7751": {
          "model_module": "@jupyter-widgets/controls",
          "model_name": "DescriptionStyleModel",
          "model_module_version": "1.5.0",
          "state": {
            "_model_module": "@jupyter-widgets/controls",
            "_model_module_version": "1.5.0",
            "_model_name": "DescriptionStyleModel",
            "_view_count": null,
            "_view_module": "@jupyter-widgets/base",
            "_view_module_version": "1.2.0",
            "_view_name": "StyleView",
            "description_width": ""
          }
        },
        "e8beb701b4244910aeaf97661e587533": {
          "model_module": "@jupyter-widgets/base",
          "model_name": "LayoutModel",
          "model_module_version": "1.2.0",
          "state": {
            "_model_module": "@jupyter-widgets/base",
            "_model_module_version": "1.2.0",
            "_model_name": "LayoutModel",
            "_view_count": null,
            "_view_module": "@jupyter-widgets/base",
            "_view_module_version": "1.2.0",
            "_view_name": "LayoutView",
            "align_content": null,
            "align_items": null,
            "align_self": null,
            "border": null,
            "bottom": null,
            "display": null,
            "flex": null,
            "flex_flow": null,
            "grid_area": null,
            "grid_auto_columns": null,
            "grid_auto_flow": null,
            "grid_auto_rows": null,
            "grid_column": null,
            "grid_gap": null,
            "grid_row": null,
            "grid_template_areas": null,
            "grid_template_columns": null,
            "grid_template_rows": null,
            "height": null,
            "justify_content": null,
            "justify_items": null,
            "left": null,
            "margin": null,
            "max_height": null,
            "max_width": null,
            "min_height": null,
            "min_width": null,
            "object_fit": null,
            "object_position": null,
            "order": null,
            "overflow": null,
            "overflow_x": null,
            "overflow_y": null,
            "padding": null,
            "right": null,
            "top": null,
            "visibility": null,
            "width": null
          }
        },
        "971399c9f7e74122ac0b8834bd8c2a23": {
          "model_module": "@jupyter-widgets/controls",
          "model_name": "ProgressStyleModel",
          "model_module_version": "1.5.0",
          "state": {
            "_model_module": "@jupyter-widgets/controls",
            "_model_module_version": "1.5.0",
            "_model_name": "ProgressStyleModel",
            "_view_count": null,
            "_view_module": "@jupyter-widgets/base",
            "_view_module_version": "1.2.0",
            "_view_name": "StyleView",
            "bar_color": null,
            "description_width": ""
          }
        },
        "54597ee6a0694abeb53ff4121b8080b0": {
          "model_module": "@jupyter-widgets/base",
          "model_name": "LayoutModel",
          "model_module_version": "1.2.0",
          "state": {
            "_model_module": "@jupyter-widgets/base",
            "_model_module_version": "1.2.0",
            "_model_name": "LayoutModel",
            "_view_count": null,
            "_view_module": "@jupyter-widgets/base",
            "_view_module_version": "1.2.0",
            "_view_name": "LayoutView",
            "align_content": null,
            "align_items": null,
            "align_self": null,
            "border": null,
            "bottom": null,
            "display": null,
            "flex": null,
            "flex_flow": null,
            "grid_area": null,
            "grid_auto_columns": null,
            "grid_auto_flow": null,
            "grid_auto_rows": null,
            "grid_column": null,
            "grid_gap": null,
            "grid_row": null,
            "grid_template_areas": null,
            "grid_template_columns": null,
            "grid_template_rows": null,
            "height": null,
            "justify_content": null,
            "justify_items": null,
            "left": null,
            "margin": null,
            "max_height": null,
            "max_width": null,
            "min_height": null,
            "min_width": null,
            "object_fit": null,
            "object_position": null,
            "order": null,
            "overflow": null,
            "overflow_x": null,
            "overflow_y": null,
            "padding": null,
            "right": null,
            "top": null,
            "visibility": null,
            "width": null
          }
        },
        "c17af72aa88a4d0299bf545d715b7f28": {
          "model_module": "@jupyter-widgets/controls",
          "model_name": "DescriptionStyleModel",
          "model_module_version": "1.5.0",
          "state": {
            "_model_module": "@jupyter-widgets/controls",
            "_model_module_version": "1.5.0",
            "_model_name": "DescriptionStyleModel",
            "_view_count": null,
            "_view_module": "@jupyter-widgets/base",
            "_view_module_version": "1.2.0",
            "_view_name": "StyleView",
            "description_width": ""
          }
        },
        "0a24308c22124ac7bc20e46a69357e7d": {
          "model_module": "@jupyter-widgets/controls",
          "model_name": "HBoxModel",
          "model_module_version": "1.5.0",
          "state": {
            "_dom_classes": [],
            "_model_module": "@jupyter-widgets/controls",
            "_model_module_version": "1.5.0",
            "_model_name": "HBoxModel",
            "_view_count": null,
            "_view_module": "@jupyter-widgets/controls",
            "_view_module_version": "1.5.0",
            "_view_name": "HBoxView",
            "box_style": "",
            "children": [
              "IPY_MODEL_f7c78bf5c08143b4b97f561f5a1b5da0",
              "IPY_MODEL_86fd061ef6ae49c6a51ea5901d6be129",
              "IPY_MODEL_04f7a7b26cae4e9fb887922775e910e4"
            ],
            "layout": "IPY_MODEL_e8145e2b735e4d6cb61f59815798bbba"
          }
        },
        "f7c78bf5c08143b4b97f561f5a1b5da0": {
          "model_module": "@jupyter-widgets/controls",
          "model_name": "HTMLModel",
          "model_module_version": "1.5.0",
          "state": {
            "_dom_classes": [],
            "_model_module": "@jupyter-widgets/controls",
            "_model_module_version": "1.5.0",
            "_model_name": "HTMLModel",
            "_view_count": null,
            "_view_module": "@jupyter-widgets/controls",
            "_view_module_version": "1.5.0",
            "_view_name": "HTMLView",
            "description": "",
            "description_tooltip": null,
            "layout": "IPY_MODEL_33827772ec61406fb66a4b55625c52b3",
            "placeholder": "​",
            "style": "IPY_MODEL_4c8edf0383c04897a582a2940b778b40",
            "value": "100%"
          }
        },
        "86fd061ef6ae49c6a51ea5901d6be129": {
          "model_module": "@jupyter-widgets/controls",
          "model_name": "FloatProgressModel",
          "model_module_version": "1.5.0",
          "state": {
            "_dom_classes": [],
            "_model_module": "@jupyter-widgets/controls",
            "_model_module_version": "1.5.0",
            "_model_name": "FloatProgressModel",
            "_view_count": null,
            "_view_module": "@jupyter-widgets/controls",
            "_view_module_version": "1.5.0",
            "_view_name": "ProgressView",
            "bar_style": "success",
            "description": "",
            "description_tooltip": null,
            "layout": "IPY_MODEL_e9fabc66ef6141e285512e3ac2496375",
            "max": 16,
            "min": 0,
            "orientation": "horizontal",
            "style": "IPY_MODEL_6cec306411c44236a91c6bbbe7d93073",
            "value": 16
          }
        },
        "04f7a7b26cae4e9fb887922775e910e4": {
          "model_module": "@jupyter-widgets/controls",
          "model_name": "HTMLModel",
          "model_module_version": "1.5.0",
          "state": {
            "_dom_classes": [],
            "_model_module": "@jupyter-widgets/controls",
            "_model_module_version": "1.5.0",
            "_model_name": "HTMLModel",
            "_view_count": null,
            "_view_module": "@jupyter-widgets/controls",
            "_view_module_version": "1.5.0",
            "_view_name": "HTMLView",
            "description": "",
            "description_tooltip": null,
            "layout": "IPY_MODEL_97af1f16e18e4fb29841c8fa418687c9",
            "placeholder": "​",
            "style": "IPY_MODEL_9e043b9650c245009a0cbba2abef3717",
            "value": " 16/16 [00:36&lt;00:00,  2.29s/ba]"
          }
        },
        "e8145e2b735e4d6cb61f59815798bbba": {
          "model_module": "@jupyter-widgets/base",
          "model_name": "LayoutModel",
          "model_module_version": "1.2.0",
          "state": {
            "_model_module": "@jupyter-widgets/base",
            "_model_module_version": "1.2.0",
            "_model_name": "LayoutModel",
            "_view_count": null,
            "_view_module": "@jupyter-widgets/base",
            "_view_module_version": "1.2.0",
            "_view_name": "LayoutView",
            "align_content": null,
            "align_items": null,
            "align_self": null,
            "border": null,
            "bottom": null,
            "display": null,
            "flex": null,
            "flex_flow": null,
            "grid_area": null,
            "grid_auto_columns": null,
            "grid_auto_flow": null,
            "grid_auto_rows": null,
            "grid_column": null,
            "grid_gap": null,
            "grid_row": null,
            "grid_template_areas": null,
            "grid_template_columns": null,
            "grid_template_rows": null,
            "height": null,
            "justify_content": null,
            "justify_items": null,
            "left": null,
            "margin": null,
            "max_height": null,
            "max_width": null,
            "min_height": null,
            "min_width": null,
            "object_fit": null,
            "object_position": null,
            "order": null,
            "overflow": null,
            "overflow_x": null,
            "overflow_y": null,
            "padding": null,
            "right": null,
            "top": null,
            "visibility": null,
            "width": null
          }
        },
        "33827772ec61406fb66a4b55625c52b3": {
          "model_module": "@jupyter-widgets/base",
          "model_name": "LayoutModel",
          "model_module_version": "1.2.0",
          "state": {
            "_model_module": "@jupyter-widgets/base",
            "_model_module_version": "1.2.0",
            "_model_name": "LayoutModel",
            "_view_count": null,
            "_view_module": "@jupyter-widgets/base",
            "_view_module_version": "1.2.0",
            "_view_name": "LayoutView",
            "align_content": null,
            "align_items": null,
            "align_self": null,
            "border": null,
            "bottom": null,
            "display": null,
            "flex": null,
            "flex_flow": null,
            "grid_area": null,
            "grid_auto_columns": null,
            "grid_auto_flow": null,
            "grid_auto_rows": null,
            "grid_column": null,
            "grid_gap": null,
            "grid_row": null,
            "grid_template_areas": null,
            "grid_template_columns": null,
            "grid_template_rows": null,
            "height": null,
            "justify_content": null,
            "justify_items": null,
            "left": null,
            "margin": null,
            "max_height": null,
            "max_width": null,
            "min_height": null,
            "min_width": null,
            "object_fit": null,
            "object_position": null,
            "order": null,
            "overflow": null,
            "overflow_x": null,
            "overflow_y": null,
            "padding": null,
            "right": null,
            "top": null,
            "visibility": null,
            "width": null
          }
        },
        "4c8edf0383c04897a582a2940b778b40": {
          "model_module": "@jupyter-widgets/controls",
          "model_name": "DescriptionStyleModel",
          "model_module_version": "1.5.0",
          "state": {
            "_model_module": "@jupyter-widgets/controls",
            "_model_module_version": "1.5.0",
            "_model_name": "DescriptionStyleModel",
            "_view_count": null,
            "_view_module": "@jupyter-widgets/base",
            "_view_module_version": "1.2.0",
            "_view_name": "StyleView",
            "description_width": ""
          }
        },
        "e9fabc66ef6141e285512e3ac2496375": {
          "model_module": "@jupyter-widgets/base",
          "model_name": "LayoutModel",
          "model_module_version": "1.2.0",
          "state": {
            "_model_module": "@jupyter-widgets/base",
            "_model_module_version": "1.2.0",
            "_model_name": "LayoutModel",
            "_view_count": null,
            "_view_module": "@jupyter-widgets/base",
            "_view_module_version": "1.2.0",
            "_view_name": "LayoutView",
            "align_content": null,
            "align_items": null,
            "align_self": null,
            "border": null,
            "bottom": null,
            "display": null,
            "flex": null,
            "flex_flow": null,
            "grid_area": null,
            "grid_auto_columns": null,
            "grid_auto_flow": null,
            "grid_auto_rows": null,
            "grid_column": null,
            "grid_gap": null,
            "grid_row": null,
            "grid_template_areas": null,
            "grid_template_columns": null,
            "grid_template_rows": null,
            "height": null,
            "justify_content": null,
            "justify_items": null,
            "left": null,
            "margin": null,
            "max_height": null,
            "max_width": null,
            "min_height": null,
            "min_width": null,
            "object_fit": null,
            "object_position": null,
            "order": null,
            "overflow": null,
            "overflow_x": null,
            "overflow_y": null,
            "padding": null,
            "right": null,
            "top": null,
            "visibility": null,
            "width": null
          }
        },
        "6cec306411c44236a91c6bbbe7d93073": {
          "model_module": "@jupyter-widgets/controls",
          "model_name": "ProgressStyleModel",
          "model_module_version": "1.5.0",
          "state": {
            "_model_module": "@jupyter-widgets/controls",
            "_model_module_version": "1.5.0",
            "_model_name": "ProgressStyleModel",
            "_view_count": null,
            "_view_module": "@jupyter-widgets/base",
            "_view_module_version": "1.2.0",
            "_view_name": "StyleView",
            "bar_color": null,
            "description_width": ""
          }
        },
        "97af1f16e18e4fb29841c8fa418687c9": {
          "model_module": "@jupyter-widgets/base",
          "model_name": "LayoutModel",
          "model_module_version": "1.2.0",
          "state": {
            "_model_module": "@jupyter-widgets/base",
            "_model_module_version": "1.2.0",
            "_model_name": "LayoutModel",
            "_view_count": null,
            "_view_module": "@jupyter-widgets/base",
            "_view_module_version": "1.2.0",
            "_view_name": "LayoutView",
            "align_content": null,
            "align_items": null,
            "align_self": null,
            "border": null,
            "bottom": null,
            "display": null,
            "flex": null,
            "flex_flow": null,
            "grid_area": null,
            "grid_auto_columns": null,
            "grid_auto_flow": null,
            "grid_auto_rows": null,
            "grid_column": null,
            "grid_gap": null,
            "grid_row": null,
            "grid_template_areas": null,
            "grid_template_columns": null,
            "grid_template_rows": null,
            "height": null,
            "justify_content": null,
            "justify_items": null,
            "left": null,
            "margin": null,
            "max_height": null,
            "max_width": null,
            "min_height": null,
            "min_width": null,
            "object_fit": null,
            "object_position": null,
            "order": null,
            "overflow": null,
            "overflow_x": null,
            "overflow_y": null,
            "padding": null,
            "right": null,
            "top": null,
            "visibility": null,
            "width": null
          }
        },
        "9e043b9650c245009a0cbba2abef3717": {
          "model_module": "@jupyter-widgets/controls",
          "model_name": "DescriptionStyleModel",
          "model_module_version": "1.5.0",
          "state": {
            "_model_module": "@jupyter-widgets/controls",
            "_model_module_version": "1.5.0",
            "_model_name": "DescriptionStyleModel",
            "_view_count": null,
            "_view_module": "@jupyter-widgets/base",
            "_view_module_version": "1.2.0",
            "_view_name": "StyleView",
            "description_width": ""
          }
        },
        "7e8ec97915ce4e0ea9c5475779b02e1a": {
          "model_module": "@jupyter-widgets/controls",
          "model_name": "HBoxModel",
          "model_module_version": "1.5.0",
          "state": {
            "_dom_classes": [],
            "_model_module": "@jupyter-widgets/controls",
            "_model_module_version": "1.5.0",
            "_model_name": "HBoxModel",
            "_view_count": null,
            "_view_module": "@jupyter-widgets/controls",
            "_view_module_version": "1.5.0",
            "_view_name": "HBoxView",
            "box_style": "",
            "children": [
              "IPY_MODEL_7618d9e976084f9082ffd8c46d43ef45",
              "IPY_MODEL_ede9d89507154764aee72d6c33112ae2",
              "IPY_MODEL_a0d954804eda421ebe4bc83e54903e15"
            ],
            "layout": "IPY_MODEL_5598bcb2250a4b6b8ed05dd5792fab2b"
          }
        },
        "7618d9e976084f9082ffd8c46d43ef45": {
          "model_module": "@jupyter-widgets/controls",
          "model_name": "HTMLModel",
          "model_module_version": "1.5.0",
          "state": {
            "_dom_classes": [],
            "_model_module": "@jupyter-widgets/controls",
            "_model_module_version": "1.5.0",
            "_model_name": "HTMLModel",
            "_view_count": null,
            "_view_module": "@jupyter-widgets/controls",
            "_view_module_version": "1.5.0",
            "_view_name": "HTMLView",
            "description": "",
            "description_tooltip": null,
            "layout": "IPY_MODEL_988063f6b7fd48c68a857a38f5addf55",
            "placeholder": "​",
            "style": "IPY_MODEL_87e0b9d59bbe4fb69f25702b7c396ecc",
            "value": "100%"
          }
        },
        "ede9d89507154764aee72d6c33112ae2": {
          "model_module": "@jupyter-widgets/controls",
          "model_name": "FloatProgressModel",
          "model_module_version": "1.5.0",
          "state": {
            "_dom_classes": [],
            "_model_module": "@jupyter-widgets/controls",
            "_model_module_version": "1.5.0",
            "_model_name": "FloatProgressModel",
            "_view_count": null,
            "_view_module": "@jupyter-widgets/controls",
            "_view_module_version": "1.5.0",
            "_view_name": "ProgressView",
            "bar_style": "success",
            "description": "",
            "description_tooltip": null,
            "layout": "IPY_MODEL_484e55717e59477c9cbc72281bc1eb4f",
            "max": 2,
            "min": 0,
            "orientation": "horizontal",
            "style": "IPY_MODEL_9a493cc859eb480ca4a944a2dbf99a0e",
            "value": 2
          }
        },
        "a0d954804eda421ebe4bc83e54903e15": {
          "model_module": "@jupyter-widgets/controls",
          "model_name": "HTMLModel",
          "model_module_version": "1.5.0",
          "state": {
            "_dom_classes": [],
            "_model_module": "@jupyter-widgets/controls",
            "_model_module_version": "1.5.0",
            "_model_name": "HTMLModel",
            "_view_count": null,
            "_view_module": "@jupyter-widgets/controls",
            "_view_module_version": "1.5.0",
            "_view_name": "HTMLView",
            "description": "",
            "description_tooltip": null,
            "layout": "IPY_MODEL_3d12ad3b958b43b8a0ddc7abae6f726d",
            "placeholder": "​",
            "style": "IPY_MODEL_1b759f1a263645b490e1e46ab854b8b2",
            "value": " 2/2 [00:03&lt;00:00,  1.75s/ba]"
          }
        },
        "5598bcb2250a4b6b8ed05dd5792fab2b": {
          "model_module": "@jupyter-widgets/base",
          "model_name": "LayoutModel",
          "model_module_version": "1.2.0",
          "state": {
            "_model_module": "@jupyter-widgets/base",
            "_model_module_version": "1.2.0",
            "_model_name": "LayoutModel",
            "_view_count": null,
            "_view_module": "@jupyter-widgets/base",
            "_view_module_version": "1.2.0",
            "_view_name": "LayoutView",
            "align_content": null,
            "align_items": null,
            "align_self": null,
            "border": null,
            "bottom": null,
            "display": null,
            "flex": null,
            "flex_flow": null,
            "grid_area": null,
            "grid_auto_columns": null,
            "grid_auto_flow": null,
            "grid_auto_rows": null,
            "grid_column": null,
            "grid_gap": null,
            "grid_row": null,
            "grid_template_areas": null,
            "grid_template_columns": null,
            "grid_template_rows": null,
            "height": null,
            "justify_content": null,
            "justify_items": null,
            "left": null,
            "margin": null,
            "max_height": null,
            "max_width": null,
            "min_height": null,
            "min_width": null,
            "object_fit": null,
            "object_position": null,
            "order": null,
            "overflow": null,
            "overflow_x": null,
            "overflow_y": null,
            "padding": null,
            "right": null,
            "top": null,
            "visibility": null,
            "width": null
          }
        },
        "988063f6b7fd48c68a857a38f5addf55": {
          "model_module": "@jupyter-widgets/base",
          "model_name": "LayoutModel",
          "model_module_version": "1.2.0",
          "state": {
            "_model_module": "@jupyter-widgets/base",
            "_model_module_version": "1.2.0",
            "_model_name": "LayoutModel",
            "_view_count": null,
            "_view_module": "@jupyter-widgets/base",
            "_view_module_version": "1.2.0",
            "_view_name": "LayoutView",
            "align_content": null,
            "align_items": null,
            "align_self": null,
            "border": null,
            "bottom": null,
            "display": null,
            "flex": null,
            "flex_flow": null,
            "grid_area": null,
            "grid_auto_columns": null,
            "grid_auto_flow": null,
            "grid_auto_rows": null,
            "grid_column": null,
            "grid_gap": null,
            "grid_row": null,
            "grid_template_areas": null,
            "grid_template_columns": null,
            "grid_template_rows": null,
            "height": null,
            "justify_content": null,
            "justify_items": null,
            "left": null,
            "margin": null,
            "max_height": null,
            "max_width": null,
            "min_height": null,
            "min_width": null,
            "object_fit": null,
            "object_position": null,
            "order": null,
            "overflow": null,
            "overflow_x": null,
            "overflow_y": null,
            "padding": null,
            "right": null,
            "top": null,
            "visibility": null,
            "width": null
          }
        },
        "87e0b9d59bbe4fb69f25702b7c396ecc": {
          "model_module": "@jupyter-widgets/controls",
          "model_name": "DescriptionStyleModel",
          "model_module_version": "1.5.0",
          "state": {
            "_model_module": "@jupyter-widgets/controls",
            "_model_module_version": "1.5.0",
            "_model_name": "DescriptionStyleModel",
            "_view_count": null,
            "_view_module": "@jupyter-widgets/base",
            "_view_module_version": "1.2.0",
            "_view_name": "StyleView",
            "description_width": ""
          }
        },
        "484e55717e59477c9cbc72281bc1eb4f": {
          "model_module": "@jupyter-widgets/base",
          "model_name": "LayoutModel",
          "model_module_version": "1.2.0",
          "state": {
            "_model_module": "@jupyter-widgets/base",
            "_model_module_version": "1.2.0",
            "_model_name": "LayoutModel",
            "_view_count": null,
            "_view_module": "@jupyter-widgets/base",
            "_view_module_version": "1.2.0",
            "_view_name": "LayoutView",
            "align_content": null,
            "align_items": null,
            "align_self": null,
            "border": null,
            "bottom": null,
            "display": null,
            "flex": null,
            "flex_flow": null,
            "grid_area": null,
            "grid_auto_columns": null,
            "grid_auto_flow": null,
            "grid_auto_rows": null,
            "grid_column": null,
            "grid_gap": null,
            "grid_row": null,
            "grid_template_areas": null,
            "grid_template_columns": null,
            "grid_template_rows": null,
            "height": null,
            "justify_content": null,
            "justify_items": null,
            "left": null,
            "margin": null,
            "max_height": null,
            "max_width": null,
            "min_height": null,
            "min_width": null,
            "object_fit": null,
            "object_position": null,
            "order": null,
            "overflow": null,
            "overflow_x": null,
            "overflow_y": null,
            "padding": null,
            "right": null,
            "top": null,
            "visibility": null,
            "width": null
          }
        },
        "9a493cc859eb480ca4a944a2dbf99a0e": {
          "model_module": "@jupyter-widgets/controls",
          "model_name": "ProgressStyleModel",
          "model_module_version": "1.5.0",
          "state": {
            "_model_module": "@jupyter-widgets/controls",
            "_model_module_version": "1.5.0",
            "_model_name": "ProgressStyleModel",
            "_view_count": null,
            "_view_module": "@jupyter-widgets/base",
            "_view_module_version": "1.2.0",
            "_view_name": "StyleView",
            "bar_color": null,
            "description_width": ""
          }
        },
        "3d12ad3b958b43b8a0ddc7abae6f726d": {
          "model_module": "@jupyter-widgets/base",
          "model_name": "LayoutModel",
          "model_module_version": "1.2.0",
          "state": {
            "_model_module": "@jupyter-widgets/base",
            "_model_module_version": "1.2.0",
            "_model_name": "LayoutModel",
            "_view_count": null,
            "_view_module": "@jupyter-widgets/base",
            "_view_module_version": "1.2.0",
            "_view_name": "LayoutView",
            "align_content": null,
            "align_items": null,
            "align_self": null,
            "border": null,
            "bottom": null,
            "display": null,
            "flex": null,
            "flex_flow": null,
            "grid_area": null,
            "grid_auto_columns": null,
            "grid_auto_flow": null,
            "grid_auto_rows": null,
            "grid_column": null,
            "grid_gap": null,
            "grid_row": null,
            "grid_template_areas": null,
            "grid_template_columns": null,
            "grid_template_rows": null,
            "height": null,
            "justify_content": null,
            "justify_items": null,
            "left": null,
            "margin": null,
            "max_height": null,
            "max_width": null,
            "min_height": null,
            "min_width": null,
            "object_fit": null,
            "object_position": null,
            "order": null,
            "overflow": null,
            "overflow_x": null,
            "overflow_y": null,
            "padding": null,
            "right": null,
            "top": null,
            "visibility": null,
            "width": null
          }
        },
        "1b759f1a263645b490e1e46ab854b8b2": {
          "model_module": "@jupyter-widgets/controls",
          "model_name": "DescriptionStyleModel",
          "model_module_version": "1.5.0",
          "state": {
            "_model_module": "@jupyter-widgets/controls",
            "_model_module_version": "1.5.0",
            "_model_name": "DescriptionStyleModel",
            "_view_count": null,
            "_view_module": "@jupyter-widgets/base",
            "_view_module_version": "1.2.0",
            "_view_name": "StyleView",
            "description_width": ""
          }
        },
        "43d28dd8332345c0b9646a4452eca529": {
          "model_module": "@jupyter-widgets/controls",
          "model_name": "HBoxModel",
          "model_module_version": "1.5.0",
          "state": {
            "_dom_classes": [],
            "_model_module": "@jupyter-widgets/controls",
            "_model_module_version": "1.5.0",
            "_model_name": "HBoxModel",
            "_view_count": null,
            "_view_module": "@jupyter-widgets/controls",
            "_view_module_version": "1.5.0",
            "_view_name": "HBoxView",
            "box_style": "",
            "children": [
              "IPY_MODEL_abcdc42ff98d4e04b8ce5db58a6069e9",
              "IPY_MODEL_41b22bd4c15840aabc06651bd594af7a",
              "IPY_MODEL_d105b9390f2149b49b4e6754b9c1a6a5"
            ],
            "layout": "IPY_MODEL_2dec214308a1455b80c7a2b7e553b5ee"
          }
        },
        "abcdc42ff98d4e04b8ce5db58a6069e9": {
          "model_module": "@jupyter-widgets/controls",
          "model_name": "HTMLModel",
          "model_module_version": "1.5.0",
          "state": {
            "_dom_classes": [],
            "_model_module": "@jupyter-widgets/controls",
            "_model_module_version": "1.5.0",
            "_model_name": "HTMLModel",
            "_view_count": null,
            "_view_module": "@jupyter-widgets/controls",
            "_view_module_version": "1.5.0",
            "_view_name": "HTMLView",
            "description": "",
            "description_tooltip": null,
            "layout": "IPY_MODEL_829ca7c87e9e401786e7faf5388d5542",
            "placeholder": "​",
            "style": "IPY_MODEL_8f8945fe32564f3f9044b51b8b92af2c",
            "value": "100%"
          }
        },
        "41b22bd4c15840aabc06651bd594af7a": {
          "model_module": "@jupyter-widgets/controls",
          "model_name": "FloatProgressModel",
          "model_module_version": "1.5.0",
          "state": {
            "_dom_classes": [],
            "_model_module": "@jupyter-widgets/controls",
            "_model_module_version": "1.5.0",
            "_model_name": "FloatProgressModel",
            "_view_count": null,
            "_view_module": "@jupyter-widgets/controls",
            "_view_module_version": "1.5.0",
            "_view_name": "ProgressView",
            "bar_style": "success",
            "description": "",
            "description_tooltip": null,
            "layout": "IPY_MODEL_2ca0cfaa426841e59a807a664dc678ae",
            "max": 2,
            "min": 0,
            "orientation": "horizontal",
            "style": "IPY_MODEL_3396e6d0c69e479ba7c2803f30da5865",
            "value": 2
          }
        },
        "d105b9390f2149b49b4e6754b9c1a6a5": {
          "model_module": "@jupyter-widgets/controls",
          "model_name": "HTMLModel",
          "model_module_version": "1.5.0",
          "state": {
            "_dom_classes": [],
            "_model_module": "@jupyter-widgets/controls",
            "_model_module_version": "1.5.0",
            "_model_name": "HTMLModel",
            "_view_count": null,
            "_view_module": "@jupyter-widgets/controls",
            "_view_module_version": "1.5.0",
            "_view_name": "HTMLView",
            "description": "",
            "description_tooltip": null,
            "layout": "IPY_MODEL_13b36e56c3924c2ea1defeb583e826f8",
            "placeholder": "​",
            "style": "IPY_MODEL_18319234f0bf46f79746a5bad5c82b0e",
            "value": " 2/2 [00:03&lt;00:00,  1.81s/ba]"
          }
        },
        "2dec214308a1455b80c7a2b7e553b5ee": {
          "model_module": "@jupyter-widgets/base",
          "model_name": "LayoutModel",
          "model_module_version": "1.2.0",
          "state": {
            "_model_module": "@jupyter-widgets/base",
            "_model_module_version": "1.2.0",
            "_model_name": "LayoutModel",
            "_view_count": null,
            "_view_module": "@jupyter-widgets/base",
            "_view_module_version": "1.2.0",
            "_view_name": "LayoutView",
            "align_content": null,
            "align_items": null,
            "align_self": null,
            "border": null,
            "bottom": null,
            "display": null,
            "flex": null,
            "flex_flow": null,
            "grid_area": null,
            "grid_auto_columns": null,
            "grid_auto_flow": null,
            "grid_auto_rows": null,
            "grid_column": null,
            "grid_gap": null,
            "grid_row": null,
            "grid_template_areas": null,
            "grid_template_columns": null,
            "grid_template_rows": null,
            "height": null,
            "justify_content": null,
            "justify_items": null,
            "left": null,
            "margin": null,
            "max_height": null,
            "max_width": null,
            "min_height": null,
            "min_width": null,
            "object_fit": null,
            "object_position": null,
            "order": null,
            "overflow": null,
            "overflow_x": null,
            "overflow_y": null,
            "padding": null,
            "right": null,
            "top": null,
            "visibility": null,
            "width": null
          }
        },
        "829ca7c87e9e401786e7faf5388d5542": {
          "model_module": "@jupyter-widgets/base",
          "model_name": "LayoutModel",
          "model_module_version": "1.2.0",
          "state": {
            "_model_module": "@jupyter-widgets/base",
            "_model_module_version": "1.2.0",
            "_model_name": "LayoutModel",
            "_view_count": null,
            "_view_module": "@jupyter-widgets/base",
            "_view_module_version": "1.2.0",
            "_view_name": "LayoutView",
            "align_content": null,
            "align_items": null,
            "align_self": null,
            "border": null,
            "bottom": null,
            "display": null,
            "flex": null,
            "flex_flow": null,
            "grid_area": null,
            "grid_auto_columns": null,
            "grid_auto_flow": null,
            "grid_auto_rows": null,
            "grid_column": null,
            "grid_gap": null,
            "grid_row": null,
            "grid_template_areas": null,
            "grid_template_columns": null,
            "grid_template_rows": null,
            "height": null,
            "justify_content": null,
            "justify_items": null,
            "left": null,
            "margin": null,
            "max_height": null,
            "max_width": null,
            "min_height": null,
            "min_width": null,
            "object_fit": null,
            "object_position": null,
            "order": null,
            "overflow": null,
            "overflow_x": null,
            "overflow_y": null,
            "padding": null,
            "right": null,
            "top": null,
            "visibility": null,
            "width": null
          }
        },
        "8f8945fe32564f3f9044b51b8b92af2c": {
          "model_module": "@jupyter-widgets/controls",
          "model_name": "DescriptionStyleModel",
          "model_module_version": "1.5.0",
          "state": {
            "_model_module": "@jupyter-widgets/controls",
            "_model_module_version": "1.5.0",
            "_model_name": "DescriptionStyleModel",
            "_view_count": null,
            "_view_module": "@jupyter-widgets/base",
            "_view_module_version": "1.2.0",
            "_view_name": "StyleView",
            "description_width": ""
          }
        },
        "2ca0cfaa426841e59a807a664dc678ae": {
          "model_module": "@jupyter-widgets/base",
          "model_name": "LayoutModel",
          "model_module_version": "1.2.0",
          "state": {
            "_model_module": "@jupyter-widgets/base",
            "_model_module_version": "1.2.0",
            "_model_name": "LayoutModel",
            "_view_count": null,
            "_view_module": "@jupyter-widgets/base",
            "_view_module_version": "1.2.0",
            "_view_name": "LayoutView",
            "align_content": null,
            "align_items": null,
            "align_self": null,
            "border": null,
            "bottom": null,
            "display": null,
            "flex": null,
            "flex_flow": null,
            "grid_area": null,
            "grid_auto_columns": null,
            "grid_auto_flow": null,
            "grid_auto_rows": null,
            "grid_column": null,
            "grid_gap": null,
            "grid_row": null,
            "grid_template_areas": null,
            "grid_template_columns": null,
            "grid_template_rows": null,
            "height": null,
            "justify_content": null,
            "justify_items": null,
            "left": null,
            "margin": null,
            "max_height": null,
            "max_width": null,
            "min_height": null,
            "min_width": null,
            "object_fit": null,
            "object_position": null,
            "order": null,
            "overflow": null,
            "overflow_x": null,
            "overflow_y": null,
            "padding": null,
            "right": null,
            "top": null,
            "visibility": null,
            "width": null
          }
        },
        "3396e6d0c69e479ba7c2803f30da5865": {
          "model_module": "@jupyter-widgets/controls",
          "model_name": "ProgressStyleModel",
          "model_module_version": "1.5.0",
          "state": {
            "_model_module": "@jupyter-widgets/controls",
            "_model_module_version": "1.5.0",
            "_model_name": "ProgressStyleModel",
            "_view_count": null,
            "_view_module": "@jupyter-widgets/base",
            "_view_module_version": "1.2.0",
            "_view_name": "StyleView",
            "bar_color": null,
            "description_width": ""
          }
        },
        "13b36e56c3924c2ea1defeb583e826f8": {
          "model_module": "@jupyter-widgets/base",
          "model_name": "LayoutModel",
          "model_module_version": "1.2.0",
          "state": {
            "_model_module": "@jupyter-widgets/base",
            "_model_module_version": "1.2.0",
            "_model_name": "LayoutModel",
            "_view_count": null,
            "_view_module": "@jupyter-widgets/base",
            "_view_module_version": "1.2.0",
            "_view_name": "LayoutView",
            "align_content": null,
            "align_items": null,
            "align_self": null,
            "border": null,
            "bottom": null,
            "display": null,
            "flex": null,
            "flex_flow": null,
            "grid_area": null,
            "grid_auto_columns": null,
            "grid_auto_flow": null,
            "grid_auto_rows": null,
            "grid_column": null,
            "grid_gap": null,
            "grid_row": null,
            "grid_template_areas": null,
            "grid_template_columns": null,
            "grid_template_rows": null,
            "height": null,
            "justify_content": null,
            "justify_items": null,
            "left": null,
            "margin": null,
            "max_height": null,
            "max_width": null,
            "min_height": null,
            "min_width": null,
            "object_fit": null,
            "object_position": null,
            "order": null,
            "overflow": null,
            "overflow_x": null,
            "overflow_y": null,
            "padding": null,
            "right": null,
            "top": null,
            "visibility": null,
            "width": null
          }
        },
        "18319234f0bf46f79746a5bad5c82b0e": {
          "model_module": "@jupyter-widgets/controls",
          "model_name": "DescriptionStyleModel",
          "model_module_version": "1.5.0",
          "state": {
            "_model_module": "@jupyter-widgets/controls",
            "_model_module_version": "1.5.0",
            "_model_name": "DescriptionStyleModel",
            "_view_count": null,
            "_view_module": "@jupyter-widgets/base",
            "_view_module_version": "1.2.0",
            "_view_name": "StyleView",
            "description_width": ""
          }
        },
        "6127125dbcb4426d832786cd67975d58": {
          "model_module": "@jupyter-widgets/controls",
          "model_name": "HBoxModel",
          "model_module_version": "1.5.0",
          "state": {
            "_dom_classes": [],
            "_model_module": "@jupyter-widgets/controls",
            "_model_module_version": "1.5.0",
            "_model_name": "HBoxModel",
            "_view_count": null,
            "_view_module": "@jupyter-widgets/controls",
            "_view_module_version": "1.5.0",
            "_view_name": "HBoxView",
            "box_style": "",
            "children": [
              "IPY_MODEL_29b791a65e8c4c968e67c0e0d525a0c0",
              "IPY_MODEL_920798a0723a4c16a518190e09575850",
              "IPY_MODEL_92c40b52600c49578150f49f65939d3c"
            ],
            "layout": "IPY_MODEL_dd1be4ed12d5470c999638a89a656652"
          }
        },
        "29b791a65e8c4c968e67c0e0d525a0c0": {
          "model_module": "@jupyter-widgets/controls",
          "model_name": "HTMLModel",
          "model_module_version": "1.5.0",
          "state": {
            "_dom_classes": [],
            "_model_module": "@jupyter-widgets/controls",
            "_model_module_version": "1.5.0",
            "_model_name": "HTMLModel",
            "_view_count": null,
            "_view_module": "@jupyter-widgets/controls",
            "_view_module_version": "1.5.0",
            "_view_name": "HTMLView",
            "description": "",
            "description_tooltip": null,
            "layout": "IPY_MODEL_5ac2a2e7a51c4d319820efead304eac4",
            "placeholder": "​",
            "style": "IPY_MODEL_9105922afbf24235a82ec56229351250",
            "value": "100%"
          }
        },
        "920798a0723a4c16a518190e09575850": {
          "model_module": "@jupyter-widgets/controls",
          "model_name": "FloatProgressModel",
          "model_module_version": "1.5.0",
          "state": {
            "_dom_classes": [],
            "_model_module": "@jupyter-widgets/controls",
            "_model_module_version": "1.5.0",
            "_model_name": "FloatProgressModel",
            "_view_count": null,
            "_view_module": "@jupyter-widgets/controls",
            "_view_module_version": "1.5.0",
            "_view_name": "ProgressView",
            "bar_style": "success",
            "description": "",
            "description_tooltip": null,
            "layout": "IPY_MODEL_8f7de3de3abe4f13a6795adc03a86ab9",
            "max": 125,
            "min": 0,
            "orientation": "horizontal",
            "style": "IPY_MODEL_d05f8c62fcd247ccb00e218b62acee14",
            "value": 125
          }
        },
        "92c40b52600c49578150f49f65939d3c": {
          "model_module": "@jupyter-widgets/controls",
          "model_name": "HTMLModel",
          "model_module_version": "1.5.0",
          "state": {
            "_dom_classes": [],
            "_model_module": "@jupyter-widgets/controls",
            "_model_module_version": "1.5.0",
            "_model_name": "HTMLModel",
            "_view_count": null,
            "_view_module": "@jupyter-widgets/controls",
            "_view_module_version": "1.5.0",
            "_view_name": "HTMLView",
            "description": "",
            "description_tooltip": null,
            "layout": "IPY_MODEL_95b6b3b79a3141218a60b61d02efef3d",
            "placeholder": "​",
            "style": "IPY_MODEL_2e7904cc1b3945be9152d4ba17df5851",
            "value": " 125/125 [00:04&lt;00:00, 28.19ba/s]"
          }
        },
        "dd1be4ed12d5470c999638a89a656652": {
          "model_module": "@jupyter-widgets/base",
          "model_name": "LayoutModel",
          "model_module_version": "1.2.0",
          "state": {
            "_model_module": "@jupyter-widgets/base",
            "_model_module_version": "1.2.0",
            "_model_name": "LayoutModel",
            "_view_count": null,
            "_view_module": "@jupyter-widgets/base",
            "_view_module_version": "1.2.0",
            "_view_name": "LayoutView",
            "align_content": null,
            "align_items": null,
            "align_self": null,
            "border": null,
            "bottom": null,
            "display": null,
            "flex": null,
            "flex_flow": null,
            "grid_area": null,
            "grid_auto_columns": null,
            "grid_auto_flow": null,
            "grid_auto_rows": null,
            "grid_column": null,
            "grid_gap": null,
            "grid_row": null,
            "grid_template_areas": null,
            "grid_template_columns": null,
            "grid_template_rows": null,
            "height": null,
            "justify_content": null,
            "justify_items": null,
            "left": null,
            "margin": null,
            "max_height": null,
            "max_width": null,
            "min_height": null,
            "min_width": null,
            "object_fit": null,
            "object_position": null,
            "order": null,
            "overflow": null,
            "overflow_x": null,
            "overflow_y": null,
            "padding": null,
            "right": null,
            "top": null,
            "visibility": null,
            "width": null
          }
        },
        "5ac2a2e7a51c4d319820efead304eac4": {
          "model_module": "@jupyter-widgets/base",
          "model_name": "LayoutModel",
          "model_module_version": "1.2.0",
          "state": {
            "_model_module": "@jupyter-widgets/base",
            "_model_module_version": "1.2.0",
            "_model_name": "LayoutModel",
            "_view_count": null,
            "_view_module": "@jupyter-widgets/base",
            "_view_module_version": "1.2.0",
            "_view_name": "LayoutView",
            "align_content": null,
            "align_items": null,
            "align_self": null,
            "border": null,
            "bottom": null,
            "display": null,
            "flex": null,
            "flex_flow": null,
            "grid_area": null,
            "grid_auto_columns": null,
            "grid_auto_flow": null,
            "grid_auto_rows": null,
            "grid_column": null,
            "grid_gap": null,
            "grid_row": null,
            "grid_template_areas": null,
            "grid_template_columns": null,
            "grid_template_rows": null,
            "height": null,
            "justify_content": null,
            "justify_items": null,
            "left": null,
            "margin": null,
            "max_height": null,
            "max_width": null,
            "min_height": null,
            "min_width": null,
            "object_fit": null,
            "object_position": null,
            "order": null,
            "overflow": null,
            "overflow_x": null,
            "overflow_y": null,
            "padding": null,
            "right": null,
            "top": null,
            "visibility": null,
            "width": null
          }
        },
        "9105922afbf24235a82ec56229351250": {
          "model_module": "@jupyter-widgets/controls",
          "model_name": "DescriptionStyleModel",
          "model_module_version": "1.5.0",
          "state": {
            "_model_module": "@jupyter-widgets/controls",
            "_model_module_version": "1.5.0",
            "_model_name": "DescriptionStyleModel",
            "_view_count": null,
            "_view_module": "@jupyter-widgets/base",
            "_view_module_version": "1.2.0",
            "_view_name": "StyleView",
            "description_width": ""
          }
        },
        "8f7de3de3abe4f13a6795adc03a86ab9": {
          "model_module": "@jupyter-widgets/base",
          "model_name": "LayoutModel",
          "model_module_version": "1.2.0",
          "state": {
            "_model_module": "@jupyter-widgets/base",
            "_model_module_version": "1.2.0",
            "_model_name": "LayoutModel",
            "_view_count": null,
            "_view_module": "@jupyter-widgets/base",
            "_view_module_version": "1.2.0",
            "_view_name": "LayoutView",
            "align_content": null,
            "align_items": null,
            "align_self": null,
            "border": null,
            "bottom": null,
            "display": null,
            "flex": null,
            "flex_flow": null,
            "grid_area": null,
            "grid_auto_columns": null,
            "grid_auto_flow": null,
            "grid_auto_rows": null,
            "grid_column": null,
            "grid_gap": null,
            "grid_row": null,
            "grid_template_areas": null,
            "grid_template_columns": null,
            "grid_template_rows": null,
            "height": null,
            "justify_content": null,
            "justify_items": null,
            "left": null,
            "margin": null,
            "max_height": null,
            "max_width": null,
            "min_height": null,
            "min_width": null,
            "object_fit": null,
            "object_position": null,
            "order": null,
            "overflow": null,
            "overflow_x": null,
            "overflow_y": null,
            "padding": null,
            "right": null,
            "top": null,
            "visibility": null,
            "width": null
          }
        },
        "d05f8c62fcd247ccb00e218b62acee14": {
          "model_module": "@jupyter-widgets/controls",
          "model_name": "ProgressStyleModel",
          "model_module_version": "1.5.0",
          "state": {
            "_model_module": "@jupyter-widgets/controls",
            "_model_module_version": "1.5.0",
            "_model_name": "ProgressStyleModel",
            "_view_count": null,
            "_view_module": "@jupyter-widgets/base",
            "_view_module_version": "1.2.0",
            "_view_name": "StyleView",
            "bar_color": null,
            "description_width": ""
          }
        },
        "95b6b3b79a3141218a60b61d02efef3d": {
          "model_module": "@jupyter-widgets/base",
          "model_name": "LayoutModel",
          "model_module_version": "1.2.0",
          "state": {
            "_model_module": "@jupyter-widgets/base",
            "_model_module_version": "1.2.0",
            "_model_name": "LayoutModel",
            "_view_count": null,
            "_view_module": "@jupyter-widgets/base",
            "_view_module_version": "1.2.0",
            "_view_name": "LayoutView",
            "align_content": null,
            "align_items": null,
            "align_self": null,
            "border": null,
            "bottom": null,
            "display": null,
            "flex": null,
            "flex_flow": null,
            "grid_area": null,
            "grid_auto_columns": null,
            "grid_auto_flow": null,
            "grid_auto_rows": null,
            "grid_column": null,
            "grid_gap": null,
            "grid_row": null,
            "grid_template_areas": null,
            "grid_template_columns": null,
            "grid_template_rows": null,
            "height": null,
            "justify_content": null,
            "justify_items": null,
            "left": null,
            "margin": null,
            "max_height": null,
            "max_width": null,
            "min_height": null,
            "min_width": null,
            "object_fit": null,
            "object_position": null,
            "order": null,
            "overflow": null,
            "overflow_x": null,
            "overflow_y": null,
            "padding": null,
            "right": null,
            "top": null,
            "visibility": null,
            "width": null
          }
        },
        "2e7904cc1b3945be9152d4ba17df5851": {
          "model_module": "@jupyter-widgets/controls",
          "model_name": "DescriptionStyleModel",
          "model_module_version": "1.5.0",
          "state": {
            "_model_module": "@jupyter-widgets/controls",
            "_model_module_version": "1.5.0",
            "_model_name": "DescriptionStyleModel",
            "_view_count": null,
            "_view_module": "@jupyter-widgets/base",
            "_view_module_version": "1.2.0",
            "_view_name": "StyleView",
            "description_width": ""
          }
        }
      }
    },
    "accelerator": "GPU"
  },
  "cells": [
    {
      "cell_type": "markdown",
      "source": [
        "Initialization\n",
        "\n",
        "The use of three lines of code on top of  notebook as it will help to prevent any problems while reloading the same project. And the third line of code helps to make visualization within the notebook."
      ],
      "metadata": {
        "id": "Pgov8coF7knL"
      }
    },
    {
      "cell_type": "code",
      "execution_count": 4,
      "metadata": {
        "id": "xGP8jFIXqNqp"
      },
      "outputs": [],
      "source": [
        "#@ INITIALIZATION: \n",
        "%reload_ext autoreload\n",
        "%autoreload 2\n",
        "%matplotlib inline"
      ]
    },
    {
      "cell_type": "code",
      "source": [
        "# #@ IMPORTING MODULES: UNCOMMENT BELOW:\n",
        "# !pip install transformers[sentencepiece]\n",
        "# !pip install datasets\n",
        "# !pip install umap-learn"
      ],
      "metadata": {
        "id": "fqQ4sPwG8dQu"
      },
      "execution_count": 57,
      "outputs": []
    },
    {
      "cell_type": "code",
      "source": [
        "#@ DOWNLOADING DATASETS FROM HUGGING FACE HUB\n",
        "from datasets import list_datasets\n",
        "from datasets import load_dataset\n",
        "import torch\n",
        "import torch.nn.functional as F\n",
        "from transformers import AutoTokenizer\n",
        "from transformers import DistilBertTokenizer\n",
        "from transformers import AutoModel\n",
        "from umap import UMAP\n",
        "from sklearn.preprocessing import MinMaxScaler\n",
        "from sklearn.linear_model import LogisticRegression\n",
        "from sklearn.dummy import DummyClassifier\n",
        "from sklearn.metrics import ConfusionMatrixDisplay, confusion_matrix\n",
        "import pandas as pd\n",
        "import matplotlib.pyplot as plt\n",
        "import numpy as np"
      ],
      "metadata": {
        "id": "CtdQM3VZ7oXA"
      },
      "execution_count": 6,
      "outputs": []
    },
    {
      "cell_type": "code",
      "source": [
        "#@ INITIALIZING THE DATASETS\n",
        "all_datasets = list_datasets()\n",
        "print(f\"There are {len(all_datasets)} datasets currently available on the Hub\")\n",
        "print(f\"The first 10 are: {all_datasets[:10]}\")"
      ],
      "metadata": {
        "colab": {
          "base_uri": "https://localhost:8080/"
        },
        "id": "4-xqAXdz8Mt2",
        "outputId": "ec738c05-aee6-4801-e79b-bc5fc2778efe"
      },
      "execution_count": 7,
      "outputs": [
        {
          "output_type": "stream",
          "name": "stdout",
          "text": [
            "There are 11155 datasets currently available on the Hub\n",
            "The first 10 are: ['acronym_identification', 'ade_corpus_v2', 'adversarial_qa', 'aeslc', 'afrikaans_ner_corpus', 'ag_news', 'ai2_arc', 'air_dialogue', 'ajgt_twitter_ar', 'allegro_reviews']\n"
          ]
        }
      ]
    },
    {
      "cell_type": "code",
      "source": [
        "#@ LOADING EMOTION DATASET                                                      \n",
        "emotions = load_dataset(\"emotion\")                                              # loading dataset\n",
        "emotions                                                                        # inspecting dataset"
      ],
      "metadata": {
        "colab": {
          "base_uri": "https://localhost:8080/",
          "height": 359,
          "referenced_widgets": [
            "a30052e0c5d346999708f12fcd587a44",
            "bc87fb1a45de4e4095a5fa7a250fdc02",
            "b0305340853e4fad8511f53ea39430a6",
            "8ac31caccf674c67bc050da2315bff5a",
            "2979c7dc5de94d44b959cb8bd3c8c4c6",
            "318c7024539f4ffaae814163bd208ab6",
            "060c378fa6e749cda9c9cb36c38b47d1",
            "d51f14049be84de4ab007f7ee79ef1d4",
            "e44de5c35799429e9c1cec87e030d691",
            "eb49c741065b40aab449f8cfe5bce31b",
            "f0bce90a5b2948a78356dd7888e8b525"
          ]
        },
        "id": "yObG0kUG9bZh",
        "outputId": "a0d275a8-024d-4576-92a0-95eb60092828"
      },
      "execution_count": 58,
      "outputs": [
        {
          "output_type": "stream",
          "name": "stderr",
          "text": [
            "WARNING:datasets.builder:Using custom data configuration default\n",
            "WARNING:datasets.builder:Found cached dataset emotion (/root/.cache/huggingface/datasets/emotion/default/0.0.0/348f63ca8e27b3713b6c04d723efe6d824a56fb3d1449794716c0f0296072705)\n"
          ]
        },
        {
          "output_type": "display_data",
          "data": {
            "text/plain": [
              "  0%|          | 0/3 [00:00<?, ?it/s]"
            ],
            "application/vnd.jupyter.widget-view+json": {
              "version_major": 2,
              "version_minor": 0,
              "model_id": "a30052e0c5d346999708f12fcd587a44"
            }
          },
          "metadata": {}
        },
        {
          "output_type": "execute_result",
          "data": {
            "text/plain": [
              "DatasetDict({\n",
              "    train: Dataset({\n",
              "        features: ['text', 'label'],\n",
              "        num_rows: 16000\n",
              "    })\n",
              "    validation: Dataset({\n",
              "        features: ['text', 'label'],\n",
              "        num_rows: 2000\n",
              "    })\n",
              "    test: Dataset({\n",
              "        features: ['text', 'label'],\n",
              "        num_rows: 2000\n",
              "    })\n",
              "})"
            ]
          },
          "metadata": {},
          "execution_count": 58
        }
      ]
    },
    {
      "cell_type": "code",
      "source": [
        "#@ INSPECTING DATASET\n",
        "train_ds = emotions[\"train\"]\n",
        "print(train_ds)\n",
        "print(len(train_ds))\n",
        "print(train_ds[0])\n",
        "print(train_ds.column_names)\n"
      ],
      "metadata": {
        "colab": {
          "base_uri": "https://localhost:8080/"
        },
        "id": "wySzJ9A7-QTX",
        "outputId": "f7db7c2e-f1ca-4120-a7e8-5b2c2be9a508"
      },
      "execution_count": 9,
      "outputs": [
        {
          "output_type": "stream",
          "name": "stdout",
          "text": [
            "Dataset({\n",
            "    features: ['text', 'label'],\n",
            "    num_rows: 16000\n",
            "})\n",
            "16000\n",
            "{'text': 'i didnt feel humiliated', 'label': 0}\n",
            "['text', 'label']\n"
          ]
        }
      ]
    },
    {
      "cell_type": "code",
      "source": [
        "#@ INSPECTING DATASET\n",
        "print(train_ds.features)\n",
        "print(train_ds[:5])\n",
        "print(train_ds[\"text\"][:5])"
      ],
      "metadata": {
        "colab": {
          "base_uri": "https://localhost:8080/"
        },
        "id": "alPzlBS1-wKu",
        "outputId": "a6713a54-be60-40bb-aae6-71548dba2475"
      },
      "execution_count": 10,
      "outputs": [
        {
          "output_type": "stream",
          "name": "stdout",
          "text": [
            "{'text': Value(dtype='string', id=None), 'label': ClassLabel(num_classes=6, names=['sadness', 'joy', 'love', 'anger', 'fear', 'surprise'], id=None)}\n",
            "{'text': ['i didnt feel humiliated', 'i can go from feeling so hopeless to so damned hopeful just from being around someone who cares and is awake', 'im grabbing a minute to post i feel greedy wrong', 'i am ever feeling nostalgic about the fireplace i will know that it is still on the property', 'i am feeling grouchy'], 'label': [0, 0, 3, 2, 3]}\n",
            "['i didnt feel humiliated', 'i can go from feeling so hopeless to so damned hopeful just from being around someone who cares and is awake', 'im grabbing a minute to post i feel greedy wrong', 'i am ever feeling nostalgic about the fireplace i will know that it is still on the property', 'i am feeling grouchy']\n"
          ]
        }
      ]
    },
    {
      "cell_type": "markdown",
      "source": [
        "How to load datasets in various formats?\n",
        "- For CSV `load_dataset(\"csv\", data_files=\"my_file.csv\")`\n",
        "- For text `load_dataset(\"text\", data_files=\"my_file.txt\")`\n",
        "- For json `load_dataset(\"json\", data_files=\"my_file.json\")`"
      ],
      "metadata": {
        "id": "sWxXWQzOAZSd"
      }
    },
    {
      "cell_type": "markdown",
      "source": [
        "If datasets need to be downloaded from an URL, Alternative way to download the dataset is :\n",
        " - `dataset_url = \"enter_your_url_here\"`\n",
        " - `!wget {dataset_url}`"
      ],
      "metadata": {
        "id": "qzdEOmW_BLvJ"
      }
    },
    {
      "cell_type": "code",
      "source": [
        "#@ IMPLEMENTATION OF DATASET FROM LOCAL STORAGE OR FROM URL https://www.dropbox.com/s/1pzkadrvffbqw6o/train.txt\"\n",
        "dataset_url = \"https://www.dropbox.com/s/1pzkadrvffbqw6o/train.txt\"\n",
        "!wget {dataset_url}"
      ],
      "metadata": {
        "colab": {
          "base_uri": "https://localhost:8080/"
        },
        "id": "iAuJRpnX_jJv",
        "outputId": "713e41f3-0e25-4ae1-ae92-8183ef04f8fd"
      },
      "execution_count": 11,
      "outputs": [
        {
          "output_type": "stream",
          "name": "stdout",
          "text": [
            "--2022-10-06 11:29:05--  https://www.dropbox.com/s/1pzkadrvffbqw6o/train.txt\n",
            "Resolving www.dropbox.com (www.dropbox.com)... 162.125.81.18, 2620:100:6031:18::a27d:5112\n",
            "Connecting to www.dropbox.com (www.dropbox.com)|162.125.81.18|:443... connected.\n",
            "HTTP request sent, awaiting response... 302 Found\n",
            "Location: /s/raw/1pzkadrvffbqw6o/train.txt [following]\n",
            "--2022-10-06 11:29:06--  https://www.dropbox.com/s/raw/1pzkadrvffbqw6o/train.txt\n",
            "Reusing existing connection to www.dropbox.com:443.\n",
            "HTTP request sent, awaiting response... 302 Found\n",
            "Location: https://uc124b12ec0fc47d525046386899.dl.dropboxusercontent.com/cd/0/inline/BuRN-7yfN19UPuN9lEPlCnDOY6AKmj_r010Jyf4NwiF2jzqKZEuz3G85MEgCvMC2RwfYR2lCfS47pjsQwXNDsp2pZ2g8cpdZmzLawJ7SYEfU7tteactriJZCzkQyBCMMcbejCoUgy-D4MjG6-Uqv1rZAc-LfSkIYJUK98nE3DgvMXA/file# [following]\n",
            "--2022-10-06 11:29:06--  https://uc124b12ec0fc47d525046386899.dl.dropboxusercontent.com/cd/0/inline/BuRN-7yfN19UPuN9lEPlCnDOY6AKmj_r010Jyf4NwiF2jzqKZEuz3G85MEgCvMC2RwfYR2lCfS47pjsQwXNDsp2pZ2g8cpdZmzLawJ7SYEfU7tteactriJZCzkQyBCMMcbejCoUgy-D4MjG6-Uqv1rZAc-LfSkIYJUK98nE3DgvMXA/file\n",
            "Resolving uc124b12ec0fc47d525046386899.dl.dropboxusercontent.com (uc124b12ec0fc47d525046386899.dl.dropboxusercontent.com)... 162.125.7.15, 2620:100:6031:15::a27d:510f\n",
            "Connecting to uc124b12ec0fc47d525046386899.dl.dropboxusercontent.com (uc124b12ec0fc47d525046386899.dl.dropboxusercontent.com)|162.125.7.15|:443... connected.\n",
            "HTTP request sent, awaiting response... 200 OK\n",
            "Length: 1658616 (1.6M) [text/plain]\n",
            "Saving to: ‘train.txt’\n",
            "\n",
            "train.txt           100%[===================>]   1.58M  1.35MB/s    in 1.2s    \n",
            "\n",
            "2022-10-06 11:29:08 (1.35 MB/s) - ‘train.txt’ saved [1658616/1658616]\n",
            "\n"
          ]
        }
      ]
    },
    {
      "cell_type": "code",
      "source": [
        "#@ INSPECTING DATASET DOWNLOADED FROM DROPBOX\n",
        "!head -n 1 train.txt"
      ],
      "metadata": {
        "colab": {
          "base_uri": "https://localhost:8080/"
        },
        "id": "fu7FeN69B8RF",
        "outputId": "6da60076-ffac-42f7-e063-5d902d66b1a2"
      },
      "execution_count": 12,
      "outputs": [
        {
          "output_type": "stream",
          "name": "stdout",
          "text": [
            "i didnt feel humiliated;sadness\n"
          ]
        }
      ]
    },
    {
      "cell_type": "code",
      "source": [
        "#@ IF THE DATASET IS TO BE LOADED LOCALLY AND REMOTE\n",
        "local_dataset = load_dataset(\"csv\", data_files=\"train.txt\", sep=\";\", names=[\"text\",\"label\"])              # loading dataset locally\n",
        "remote_dataset = load_dataset(\"csv\", data_files=\"https://www.dropbox.com/s/1pzkadrvffbqw6o/train.txt\", sep=\";\", names=[\"text\",\"label\"])\n",
        "remote_dataset"
      ],
      "metadata": {
        "colab": {
          "base_uri": "https://localhost:8080/",
          "height": 283,
          "referenced_widgets": [
            "7e6b7b97facb40ffa29ff6e1ab120dc0",
            "f410e545c91045feae1197a7b7ebf641",
            "b7d40262ea6148e1b30be6442a1a8fba",
            "6e0fe249f01d4438be45f3d047384895",
            "9b39b64d35fb459baaf493d12d3668a0",
            "249d3ff31aed46aba6c6fa6af90c0281",
            "246498e0e1f540cf9192ac2a2148ecbe",
            "f02a7cf820834f168e26526aa74dd5dd",
            "d478ce31362d42a58a06a2713bc13873",
            "4797237b757e4108901687632c88954a",
            "69e6f52031fc4cc3b06c1e2edb33fba2",
            "f4464004f8004139a4e8b45a0b46f512",
            "c850a2a5b3d34519bdde2fc425278603",
            "0e44aac2a4264d839ef823b1b9e55314",
            "03a6d2b36d7047929be6a568c0cc72de",
            "909386346e134146b7ea59b0484ae29c",
            "cb506dc848424e499ceeee599ba0eea1",
            "13b61bbd9fd24c4a8bb445a2ad326f06",
            "786aa5749ba343d5856d8ecd0743a222",
            "4f42231b1a43459fb97af90ac616e16c",
            "1cf5688b8be74a2ca022c2765cd2abaa",
            "717a32285b62482c90b95156de171719"
          ]
        },
        "id": "9n8xLvT0CM0H",
        "outputId": "baae83ad-6715-4d93-d5d2-5096c02d3062"
      },
      "execution_count": 59,
      "outputs": [
        {
          "output_type": "stream",
          "name": "stderr",
          "text": [
            "WARNING:datasets.builder:Using custom data configuration default-a45191457a4f891a\n",
            "WARNING:datasets.builder:Found cached dataset csv (/root/.cache/huggingface/datasets/csv/default-a45191457a4f891a/0.0.0/652c3096f041ee27b04d2232d41f10547a8fecda3e284a79a0ec4053c916ef7a)\n"
          ]
        },
        {
          "output_type": "display_data",
          "data": {
            "text/plain": [
              "  0%|          | 0/1 [00:00<?, ?it/s]"
            ],
            "application/vnd.jupyter.widget-view+json": {
              "version_major": 2,
              "version_minor": 0,
              "model_id": "7e6b7b97facb40ffa29ff6e1ab120dc0"
            }
          },
          "metadata": {}
        },
        {
          "output_type": "stream",
          "name": "stderr",
          "text": [
            "WARNING:datasets.builder:Using custom data configuration default-3923f2a50ece047b\n",
            "WARNING:datasets.builder:Found cached dataset csv (/root/.cache/huggingface/datasets/csv/default-3923f2a50ece047b/0.0.0/652c3096f041ee27b04d2232d41f10547a8fecda3e284a79a0ec4053c916ef7a)\n"
          ]
        },
        {
          "output_type": "display_data",
          "data": {
            "text/plain": [
              "  0%|          | 0/1 [00:00<?, ?it/s]"
            ],
            "application/vnd.jupyter.widget-view+json": {
              "version_major": 2,
              "version_minor": 0,
              "model_id": "f4464004f8004139a4e8b45a0b46f512"
            }
          },
          "metadata": {}
        },
        {
          "output_type": "execute_result",
          "data": {
            "text/plain": [
              "DatasetDict({\n",
              "    train: Dataset({\n",
              "        features: ['text', 'label'],\n",
              "        num_rows: 379\n",
              "    })\n",
              "})"
            ]
          },
          "metadata": {},
          "execution_count": 59
        }
      ]
    },
    {
      "cell_type": "markdown",
      "source": [
        "**From Datasets to Dataframes**"
      ],
      "metadata": {
        "id": "YiF-fF7kDFxJ"
      }
    },
    {
      "cell_type": "code",
      "source": [
        "#@ INITIALIZING PANDAS DATAFRAME\n",
        "emotions.set_format(type=\"pandas\")                                              # Change data format        \n",
        "df = emotions[\"train\"][:]                                                       # Initializing dataframe    \n",
        "df.head()                                                                              # Insptecting dataframe"
      ],
      "metadata": {
        "colab": {
          "base_uri": "https://localhost:8080/",
          "height": 206
        },
        "id": "bbRyqZkGCZ85",
        "outputId": "c2a11944-fef7-466f-b149-ab0dd2b87abd"
      },
      "execution_count": 14,
      "outputs": [
        {
          "output_type": "execute_result",
          "data": {
            "text/plain": [
              "                                                text  label\n",
              "0                            i didnt feel humiliated      0\n",
              "1  i can go from feeling so hopeless to so damned...      0\n",
              "2   im grabbing a minute to post i feel greedy wrong      3\n",
              "3  i am ever feeling nostalgic about the fireplac...      2\n",
              "4                               i am feeling grouchy      3"
            ],
            "text/html": [
              "\n",
              "  <div id=\"df-94a148bc-9c0a-43c6-9a55-5511fcf297b9\">\n",
              "    <div class=\"colab-df-container\">\n",
              "      <div>\n",
              "<style scoped>\n",
              "    .dataframe tbody tr th:only-of-type {\n",
              "        vertical-align: middle;\n",
              "    }\n",
              "\n",
              "    .dataframe tbody tr th {\n",
              "        vertical-align: top;\n",
              "    }\n",
              "\n",
              "    .dataframe thead th {\n",
              "        text-align: right;\n",
              "    }\n",
              "</style>\n",
              "<table border=\"1\" class=\"dataframe\">\n",
              "  <thead>\n",
              "    <tr style=\"text-align: right;\">\n",
              "      <th></th>\n",
              "      <th>text</th>\n",
              "      <th>label</th>\n",
              "    </tr>\n",
              "  </thead>\n",
              "  <tbody>\n",
              "    <tr>\n",
              "      <th>0</th>\n",
              "      <td>i didnt feel humiliated</td>\n",
              "      <td>0</td>\n",
              "    </tr>\n",
              "    <tr>\n",
              "      <th>1</th>\n",
              "      <td>i can go from feeling so hopeless to so damned...</td>\n",
              "      <td>0</td>\n",
              "    </tr>\n",
              "    <tr>\n",
              "      <th>2</th>\n",
              "      <td>im grabbing a minute to post i feel greedy wrong</td>\n",
              "      <td>3</td>\n",
              "    </tr>\n",
              "    <tr>\n",
              "      <th>3</th>\n",
              "      <td>i am ever feeling nostalgic about the fireplac...</td>\n",
              "      <td>2</td>\n",
              "    </tr>\n",
              "    <tr>\n",
              "      <th>4</th>\n",
              "      <td>i am feeling grouchy</td>\n",
              "      <td>3</td>\n",
              "    </tr>\n",
              "  </tbody>\n",
              "</table>\n",
              "</div>\n",
              "      <button class=\"colab-df-convert\" onclick=\"convertToInteractive('df-94a148bc-9c0a-43c6-9a55-5511fcf297b9')\"\n",
              "              title=\"Convert this dataframe to an interactive table.\"\n",
              "              style=\"display:none;\">\n",
              "        \n",
              "  <svg xmlns=\"http://www.w3.org/2000/svg\" height=\"24px\"viewBox=\"0 0 24 24\"\n",
              "       width=\"24px\">\n",
              "    <path d=\"M0 0h24v24H0V0z\" fill=\"none\"/>\n",
              "    <path d=\"M18.56 5.44l.94 2.06.94-2.06 2.06-.94-2.06-.94-.94-2.06-.94 2.06-2.06.94zm-11 1L8.5 8.5l.94-2.06 2.06-.94-2.06-.94L8.5 2.5l-.94 2.06-2.06.94zm10 10l.94 2.06.94-2.06 2.06-.94-2.06-.94-.94-2.06-.94 2.06-2.06.94z\"/><path d=\"M17.41 7.96l-1.37-1.37c-.4-.4-.92-.59-1.43-.59-.52 0-1.04.2-1.43.59L10.3 9.45l-7.72 7.72c-.78.78-.78 2.05 0 2.83L4 21.41c.39.39.9.59 1.41.59.51 0 1.02-.2 1.41-.59l7.78-7.78 2.81-2.81c.8-.78.8-2.07 0-2.86zM5.41 20L4 18.59l7.72-7.72 1.47 1.35L5.41 20z\"/>\n",
              "  </svg>\n",
              "      </button>\n",
              "      \n",
              "  <style>\n",
              "    .colab-df-container {\n",
              "      display:flex;\n",
              "      flex-wrap:wrap;\n",
              "      gap: 12px;\n",
              "    }\n",
              "\n",
              "    .colab-df-convert {\n",
              "      background-color: #E8F0FE;\n",
              "      border: none;\n",
              "      border-radius: 50%;\n",
              "      cursor: pointer;\n",
              "      display: none;\n",
              "      fill: #1967D2;\n",
              "      height: 32px;\n",
              "      padding: 0 0 0 0;\n",
              "      width: 32px;\n",
              "    }\n",
              "\n",
              "    .colab-df-convert:hover {\n",
              "      background-color: #E2EBFA;\n",
              "      box-shadow: 0px 1px 2px rgba(60, 64, 67, 0.3), 0px 1px 3px 1px rgba(60, 64, 67, 0.15);\n",
              "      fill: #174EA6;\n",
              "    }\n",
              "\n",
              "    [theme=dark] .colab-df-convert {\n",
              "      background-color: #3B4455;\n",
              "      fill: #D2E3FC;\n",
              "    }\n",
              "\n",
              "    [theme=dark] .colab-df-convert:hover {\n",
              "      background-color: #434B5C;\n",
              "      box-shadow: 0px 1px 3px 1px rgba(0, 0, 0, 0.15);\n",
              "      filter: drop-shadow(0px 1px 2px rgba(0, 0, 0, 0.3));\n",
              "      fill: #FFFFFF;\n",
              "    }\n",
              "  </style>\n",
              "\n",
              "      <script>\n",
              "        const buttonEl =\n",
              "          document.querySelector('#df-94a148bc-9c0a-43c6-9a55-5511fcf297b9 button.colab-df-convert');\n",
              "        buttonEl.style.display =\n",
              "          google.colab.kernel.accessAllowed ? 'block' : 'none';\n",
              "\n",
              "        async function convertToInteractive(key) {\n",
              "          const element = document.querySelector('#df-94a148bc-9c0a-43c6-9a55-5511fcf297b9');\n",
              "          const dataTable =\n",
              "            await google.colab.kernel.invokeFunction('convertToInteractive',\n",
              "                                                     [key], {});\n",
              "          if (!dataTable) return;\n",
              "\n",
              "          const docLinkHtml = 'Like what you see? Visit the ' +\n",
              "            '<a target=\"_blank\" href=https://colab.research.google.com/notebooks/data_table.ipynb>data table notebook</a>'\n",
              "            + ' to learn more about interactive tables.';\n",
              "          element.innerHTML = '';\n",
              "          dataTable['output_type'] = 'display_data';\n",
              "          await google.colab.output.renderOutput(dataTable, element);\n",
              "          const docLink = document.createElement('div');\n",
              "          docLink.innerHTML = docLinkHtml;\n",
              "          element.appendChild(docLink);\n",
              "        }\n",
              "      </script>\n",
              "    </div>\n",
              "  </div>\n",
              "  "
            ]
          },
          "metadata": {},
          "execution_count": 14
        }
      ]
    },
    {
      "cell_type": "code",
      "source": [
        "#@ INITIALIZING LABEL NAMES\n",
        "def label_int2str(row):                                                         # function to convert int to string\n",
        "  return emotions[\"train\"].features[\"label\"].int2str(row)                                         \n",
        "df[\"label_name\"] = df[\"label\"].apply(label_int2str)                             # updating the dataframe\n",
        "df.head()                                                                       # inspecting new dataframe"
      ],
      "metadata": {
        "colab": {
          "base_uri": "https://localhost:8080/",
          "height": 206
        },
        "id": "k8JDTaEsDa69",
        "outputId": "f97dbda3-3b33-4907-85d1-d1de0e50687b"
      },
      "execution_count": 15,
      "outputs": [
        {
          "output_type": "execute_result",
          "data": {
            "text/plain": [
              "                                                text  label label_name\n",
              "0                            i didnt feel humiliated      0    sadness\n",
              "1  i can go from feeling so hopeless to so damned...      0    sadness\n",
              "2   im grabbing a minute to post i feel greedy wrong      3      anger\n",
              "3  i am ever feeling nostalgic about the fireplac...      2       love\n",
              "4                               i am feeling grouchy      3      anger"
            ],
            "text/html": [
              "\n",
              "  <div id=\"df-d70cfe3d-0028-42ee-9af7-50be0813b2d7\">\n",
              "    <div class=\"colab-df-container\">\n",
              "      <div>\n",
              "<style scoped>\n",
              "    .dataframe tbody tr th:only-of-type {\n",
              "        vertical-align: middle;\n",
              "    }\n",
              "\n",
              "    .dataframe tbody tr th {\n",
              "        vertical-align: top;\n",
              "    }\n",
              "\n",
              "    .dataframe thead th {\n",
              "        text-align: right;\n",
              "    }\n",
              "</style>\n",
              "<table border=\"1\" class=\"dataframe\">\n",
              "  <thead>\n",
              "    <tr style=\"text-align: right;\">\n",
              "      <th></th>\n",
              "      <th>text</th>\n",
              "      <th>label</th>\n",
              "      <th>label_name</th>\n",
              "    </tr>\n",
              "  </thead>\n",
              "  <tbody>\n",
              "    <tr>\n",
              "      <th>0</th>\n",
              "      <td>i didnt feel humiliated</td>\n",
              "      <td>0</td>\n",
              "      <td>sadness</td>\n",
              "    </tr>\n",
              "    <tr>\n",
              "      <th>1</th>\n",
              "      <td>i can go from feeling so hopeless to so damned...</td>\n",
              "      <td>0</td>\n",
              "      <td>sadness</td>\n",
              "    </tr>\n",
              "    <tr>\n",
              "      <th>2</th>\n",
              "      <td>im grabbing a minute to post i feel greedy wrong</td>\n",
              "      <td>3</td>\n",
              "      <td>anger</td>\n",
              "    </tr>\n",
              "    <tr>\n",
              "      <th>3</th>\n",
              "      <td>i am ever feeling nostalgic about the fireplac...</td>\n",
              "      <td>2</td>\n",
              "      <td>love</td>\n",
              "    </tr>\n",
              "    <tr>\n",
              "      <th>4</th>\n",
              "      <td>i am feeling grouchy</td>\n",
              "      <td>3</td>\n",
              "      <td>anger</td>\n",
              "    </tr>\n",
              "  </tbody>\n",
              "</table>\n",
              "</div>\n",
              "      <button class=\"colab-df-convert\" onclick=\"convertToInteractive('df-d70cfe3d-0028-42ee-9af7-50be0813b2d7')\"\n",
              "              title=\"Convert this dataframe to an interactive table.\"\n",
              "              style=\"display:none;\">\n",
              "        \n",
              "  <svg xmlns=\"http://www.w3.org/2000/svg\" height=\"24px\"viewBox=\"0 0 24 24\"\n",
              "       width=\"24px\">\n",
              "    <path d=\"M0 0h24v24H0V0z\" fill=\"none\"/>\n",
              "    <path d=\"M18.56 5.44l.94 2.06.94-2.06 2.06-.94-2.06-.94-.94-2.06-.94 2.06-2.06.94zm-11 1L8.5 8.5l.94-2.06 2.06-.94-2.06-.94L8.5 2.5l-.94 2.06-2.06.94zm10 10l.94 2.06.94-2.06 2.06-.94-2.06-.94-.94-2.06-.94 2.06-2.06.94z\"/><path d=\"M17.41 7.96l-1.37-1.37c-.4-.4-.92-.59-1.43-.59-.52 0-1.04.2-1.43.59L10.3 9.45l-7.72 7.72c-.78.78-.78 2.05 0 2.83L4 21.41c.39.39.9.59 1.41.59.51 0 1.02-.2 1.41-.59l7.78-7.78 2.81-2.81c.8-.78.8-2.07 0-2.86zM5.41 20L4 18.59l7.72-7.72 1.47 1.35L5.41 20z\"/>\n",
              "  </svg>\n",
              "      </button>\n",
              "      \n",
              "  <style>\n",
              "    .colab-df-container {\n",
              "      display:flex;\n",
              "      flex-wrap:wrap;\n",
              "      gap: 12px;\n",
              "    }\n",
              "\n",
              "    .colab-df-convert {\n",
              "      background-color: #E8F0FE;\n",
              "      border: none;\n",
              "      border-radius: 50%;\n",
              "      cursor: pointer;\n",
              "      display: none;\n",
              "      fill: #1967D2;\n",
              "      height: 32px;\n",
              "      padding: 0 0 0 0;\n",
              "      width: 32px;\n",
              "    }\n",
              "\n",
              "    .colab-df-convert:hover {\n",
              "      background-color: #E2EBFA;\n",
              "      box-shadow: 0px 1px 2px rgba(60, 64, 67, 0.3), 0px 1px 3px 1px rgba(60, 64, 67, 0.15);\n",
              "      fill: #174EA6;\n",
              "    }\n",
              "\n",
              "    [theme=dark] .colab-df-convert {\n",
              "      background-color: #3B4455;\n",
              "      fill: #D2E3FC;\n",
              "    }\n",
              "\n",
              "    [theme=dark] .colab-df-convert:hover {\n",
              "      background-color: #434B5C;\n",
              "      box-shadow: 0px 1px 3px 1px rgba(0, 0, 0, 0.15);\n",
              "      filter: drop-shadow(0px 1px 2px rgba(0, 0, 0, 0.3));\n",
              "      fill: #FFFFFF;\n",
              "    }\n",
              "  </style>\n",
              "\n",
              "      <script>\n",
              "        const buttonEl =\n",
              "          document.querySelector('#df-d70cfe3d-0028-42ee-9af7-50be0813b2d7 button.colab-df-convert');\n",
              "        buttonEl.style.display =\n",
              "          google.colab.kernel.accessAllowed ? 'block' : 'none';\n",
              "\n",
              "        async function convertToInteractive(key) {\n",
              "          const element = document.querySelector('#df-d70cfe3d-0028-42ee-9af7-50be0813b2d7');\n",
              "          const dataTable =\n",
              "            await google.colab.kernel.invokeFunction('convertToInteractive',\n",
              "                                                     [key], {});\n",
              "          if (!dataTable) return;\n",
              "\n",
              "          const docLinkHtml = 'Like what you see? Visit the ' +\n",
              "            '<a target=\"_blank\" href=https://colab.research.google.com/notebooks/data_table.ipynb>data table notebook</a>'\n",
              "            + ' to learn more about interactive tables.';\n",
              "          element.innerHTML = '';\n",
              "          dataTable['output_type'] = 'display_data';\n",
              "          await google.colab.output.renderOutput(dataTable, element);\n",
              "          const docLink = document.createElement('div');\n",
              "          docLink.innerHTML = docLinkHtml;\n",
              "          element.appendChild(docLink);\n",
              "        }\n",
              "      </script>\n",
              "    </div>\n",
              "  </div>\n",
              "  "
            ]
          },
          "metadata": {},
          "execution_count": 15
        }
      ]
    },
    {
      "cell_type": "markdown",
      "source": [
        "**Looking at the Class Distribution**"
      ],
      "metadata": {
        "id": "axxxPkuGFKEB"
      }
    },
    {
      "cell_type": "code",
      "source": [
        "#@ INSPECTING CLASS DISTRIBUTION\n",
        "df[\"label_name\"].value_counts(ascending=True).plot.barh()                       # creating barplot\n",
        "plt.title(\"Frequency of Classes\")                                               # adding title to the plot  \n",
        "plt.show()                                                                      # visualizaton of plot  "
      ],
      "metadata": {
        "colab": {
          "base_uri": "https://localhost:8080/",
          "height": 281
        },
        "id": "ZCHuvucTEbrz",
        "outputId": "ba82fbe9-818b-4a5f-df13-b83e1e59fff1"
      },
      "execution_count": 16,
      "outputs": [
        {
          "output_type": "display_data",
          "data": {
            "text/plain": [
              "<Figure size 432x288 with 1 Axes>"
            ],
            "image/png": "[encoded data removed]"
          },
          "metadata": {
            "needs_background": "light"
          }
        }
      ]
    },
    {
      "cell_type": "markdown",
      "source": [
        "❗**Note** : we can see that the dataset is heavily imbalanced; the joy and sadness\n",
        "classes appear frequently, whereas love and surprise are about 5–10 times rarer.\n",
        "There are several ways to deal with imbalanced data, including:\n",
        "\n",
        "- Randomly oversample the minority class.\n",
        "- Randomly undersample the majority class.\n",
        "- Gather more labeled data from the underrepresented classes.\n",
        "<br> 🏹 More details [Imbalanced-learn library](https://oreil.ly/5XBhb)"
      ],
      "metadata": {
        "id": "OOgrvG6pGB5x"
      }
    },
    {
      "cell_type": "markdown",
      "source": [
        "**Tweet Length**\n",
        "<br>Transformer models have a maximum input sequence length that is referred to as the\n",
        "maximum context size. For applications using DistilBERT, the maximum context size\n",
        "is 512 tokens, which amounts to a few paragraphs of text"
      ],
      "metadata": {
        "id": "N1lJ2qNmHA29"
      }
    },
    {
      "cell_type": "code",
      "source": [
        "#@ INSPECTING TWEETS LENGTH\n",
        "df[\"Words Per Tweet\"] = df[\"text\"].str.split().apply(len)                       # inspecting input sequence length\n",
        "df.boxplot(\"Words Per Tweet\", by=\"label_name\", grid=False,                      # create box plot\n",
        "           showfliers=False, color=\"black\")\n",
        "plt.suptitle(\"\")\n",
        "plt.xlabel(\"\")\n",
        "plt.show()"
      ],
      "metadata": {
        "colab": {
          "base_uri": "https://localhost:8080/",
          "height": 336
        },
        "id": "SGnnQdIxFpEx",
        "outputId": "13e689e0-126f-43fb-a06f-8e782c6f4e16"
      },
      "execution_count": 17,
      "outputs": [
        {
          "output_type": "stream",
          "name": "stderr",
          "text": [
            "/usr/local/lib/python3.7/dist-packages/matplotlib/cbook/__init__.py:1376: VisibleDeprecationWarning: Creating an ndarray from ragged nested sequences (which is a list-or-tuple of lists-or-tuples-or ndarrays with different lengths or shapes) is deprecated. If you meant to do this, you must specify 'dtype=object' when creating the ndarray.\n",
            "  X = np.atleast_1d(X.T if isinstance(X, np.ndarray) else np.asarray(X))\n"
          ]
        },
        {
          "output_type": "display_data",
          "data": {
            "text/plain": [
              "<Figure size 432x288 with 1 Axes>"
            ],
            "image/png": "[encoded data removed]"
          },
          "metadata": {
            "needs_background": "light"
          }
        }
      ]
    },
    {
      "cell_type": "markdown",
      "source": [
        "Convert these raw texts into a format suitable for\n",
        "Transformers 🤗 ! While we’re at it, let’s also reset the output format of our dataset\n",
        "since we don’t need the DataFrame format anymore:"
      ],
      "metadata": {
        "id": "Ea_jzc0mIwK_"
      }
    },
    {
      "cell_type": "code",
      "source": [
        "#@ RESETTING THE FORMATS\n",
        "emotions.reset_format()"
      ],
      "metadata": {
        "id": "NECrLkSrIHrE"
      },
      "execution_count": 18,
      "outputs": []
    },
    {
      "cell_type": "markdown",
      "source": [
        "**From Text to Tokens**\n",
        "<br>**Transformer models** like DistilBERT cannot receive raw strings as input; instead, they\n",
        "assume the text has been tokenized and encoded as numerical vectors.\n",
        "<br>**Tokenization** is\n",
        "the step of breaking down a string into the atomic units used in the model. There are\n",
        "several tokenization strategies one can adopt, and the optimal splitting of words into\n",
        "subunits is usually learned from the corpus.\n",
        "<br>**Numericalization** is the process of converting tokens into integer."
      ],
      "metadata": {
        "id": "JKBwwGkEJFBI"
      }
    },
    {
      "cell_type": "markdown",
      "source": [
        "**Character Tokenization**"
      ],
      "metadata": {
        "id": "FjMEQgtAKAb5"
      }
    },
    {
      "cell_type": "code",
      "source": [
        "#@ IMPLEMENTATION OF CHARACTER TOKENIZATION\n",
        "text = \"Tokenizing text is a core task of NLP\"\n",
        "tokenized_text = list(text)                                                     # character tokenization\n",
        "print(tokenized_text)"
      ],
      "metadata": {
        "colab": {
          "base_uri": "https://localhost:8080/"
        },
        "id": "PzAYCUbUJDg5",
        "outputId": "272996af-1e0b-4580-d8de-deeddbc1f78d"
      },
      "execution_count": 19,
      "outputs": [
        {
          "output_type": "stream",
          "name": "stdout",
          "text": [
            "['T', 'o', 'k', 'e', 'n', 'i', 'z', 'i', 'n', 'g', ' ', 't', 'e', 'x', 't', ' ', 'i', 's', ' ', 'a', ' ', 'c', 'o', 'r', 'e', ' ', 't', 'a', 's', 'k', ' ', 'o', 'f', ' ', 'N', 'L', 'P']\n"
          ]
        }
      ]
    },
    {
      "cell_type": "code",
      "source": [
        "#@ INITIALIZING NUMERICALIZATION | CONVERTING TOKENS INTO NUMERICAL VALUES\n",
        "token2idx = {ch: idx for idx, ch in enumerate(sorted(set(tokenized_text)))}\n",
        "print(token2idx)"
      ],
      "metadata": {
        "colab": {
          "base_uri": "https://localhost:8080/"
        },
        "id": "yNFkZT7DKT8a",
        "outputId": "774eb8df-1a36-49a4-ff71-4bbdac4e562f"
      },
      "execution_count": 20,
      "outputs": [
        {
          "output_type": "stream",
          "name": "stdout",
          "text": [
            "{' ': 0, 'L': 1, 'N': 2, 'P': 3, 'T': 4, 'a': 5, 'c': 6, 'e': 7, 'f': 8, 'g': 9, 'i': 10, 'k': 11, 'n': 12, 'o': 13, 'r': 14, 's': 15, 't': 16, 'x': 17, 'z': 18}\n"
          ]
        }
      ]
    },
    {
      "cell_type": "code",
      "source": [
        "#@ NUMERICALIZATION \n",
        "input_ids = [token2idx[token] for token in tokenized_text]\n",
        "print(input_ids)"
      ],
      "metadata": {
        "colab": {
          "base_uri": "https://localhost:8080/"
        },
        "id": "baAKiudNK6yX",
        "outputId": "2c7c1c73-b701-4dcd-98e7-7b188b7afbc3"
      },
      "execution_count": 21,
      "outputs": [
        {
          "output_type": "stream",
          "name": "stdout",
          "text": [
            "[4, 13, 11, 7, 12, 10, 18, 10, 12, 9, 0, 16, 7, 17, 16, 0, 10, 15, 0, 5, 0, 6, 13, 14, 7, 0, 16, 5, 15, 11, 0, 13, 8, 0, 2, 1, 3]\n"
          ]
        }
      ]
    },
    {
      "cell_type": "markdown",
      "source": [
        "The last step is to convert input_ids to a 2D tensor of one-hot vectors.\n",
        "One-hot vectors are frequently used in machine learning to encode categorical data,\n",
        "which can be either ordinal or nominal."
      ],
      "metadata": {
        "id": "XFnUw4l3MHJm"
      }
    },
    {
      "cell_type": "code",
      "source": [
        "#@ INITILIZING ONE HOT ENCODING\n",
        "categorical_df = pd.DataFrame(\n",
        "    {\"Name\": [\"Bumblebee\", \"Optimus Prime\", \"Megatron\"], \"Label ID\": [0,1,2]})\n",
        "categorical_df"
      ],
      "metadata": {
        "colab": {
          "base_uri": "https://localhost:8080/",
          "height": 143
        },
        "id": "z-qZBro-Llko",
        "outputId": "cf55b2f9-08c7-490d-fcb6-66f7249f1440"
      },
      "execution_count": 22,
      "outputs": [
        {
          "output_type": "execute_result",
          "data": {
            "text/plain": [
              "            Name  Label ID\n",
              "0      Bumblebee         0\n",
              "1  Optimus Prime         1\n",
              "2       Megatron         2"
            ],
            "text/html": [
              "\n",
              "  <div id=\"df-fa964e06-f3bc-4b20-a7f0-fcc7a7e184d8\">\n",
              "    <div class=\"colab-df-container\">\n",
              "      <div>\n",
              "<style scoped>\n",
              "    .dataframe tbody tr th:only-of-type {\n",
              "        vertical-align: middle;\n",
              "    }\n",
              "\n",
              "    .dataframe tbody tr th {\n",
              "        vertical-align: top;\n",
              "    }\n",
              "\n",
              "    .dataframe thead th {\n",
              "        text-align: right;\n",
              "    }\n",
              "</style>\n",
              "<table border=\"1\" class=\"dataframe\">\n",
              "  <thead>\n",
              "    <tr style=\"text-align: right;\">\n",
              "      <th></th>\n",
              "      <th>Name</th>\n",
              "      <th>Label ID</th>\n",
              "    </tr>\n",
              "  </thead>\n",
              "  <tbody>\n",
              "    <tr>\n",
              "      <th>0</th>\n",
              "      <td>Bumblebee</td>\n",
              "      <td>0</td>\n",
              "    </tr>\n",
              "    <tr>\n",
              "      <th>1</th>\n",
              "      <td>Optimus Prime</td>\n",
              "      <td>1</td>\n",
              "    </tr>\n",
              "    <tr>\n",
              "      <th>2</th>\n",
              "      <td>Megatron</td>\n",
              "      <td>2</td>\n",
              "    </tr>\n",
              "  </tbody>\n",
              "</table>\n",
              "</div>\n",
              "      <button class=\"colab-df-convert\" onclick=\"convertToInteractive('df-fa964e06-f3bc-4b20-a7f0-fcc7a7e184d8')\"\n",
              "              title=\"Convert this dataframe to an interactive table.\"\n",
              "              style=\"display:none;\">\n",
              "        \n",
              "  <svg xmlns=\"http://www.w3.org/2000/svg\" height=\"24px\"viewBox=\"0 0 24 24\"\n",
              "       width=\"24px\">\n",
              "    <path d=\"M0 0h24v24H0V0z\" fill=\"none\"/>\n",
              "    <path d=\"M18.56 5.44l.94 2.06.94-2.06 2.06-.94-2.06-.94-.94-2.06-.94 2.06-2.06.94zm-11 1L8.5 8.5l.94-2.06 2.06-.94-2.06-.94L8.5 2.5l-.94 2.06-2.06.94zm10 10l.94 2.06.94-2.06 2.06-.94-2.06-.94-.94-2.06-.94 2.06-2.06.94z\"/><path d=\"M17.41 7.96l-1.37-1.37c-.4-.4-.92-.59-1.43-.59-.52 0-1.04.2-1.43.59L10.3 9.45l-7.72 7.72c-.78.78-.78 2.05 0 2.83L4 21.41c.39.39.9.59 1.41.59.51 0 1.02-.2 1.41-.59l7.78-7.78 2.81-2.81c.8-.78.8-2.07 0-2.86zM5.41 20L4 18.59l7.72-7.72 1.47 1.35L5.41 20z\"/>\n",
              "  </svg>\n",
              "      </button>\n",
              "      \n",
              "  <style>\n",
              "    .colab-df-container {\n",
              "      display:flex;\n",
              "      flex-wrap:wrap;\n",
              "      gap: 12px;\n",
              "    }\n",
              "\n",
              "    .colab-df-convert {\n",
              "      background-color: #E8F0FE;\n",
              "      border: none;\n",
              "      border-radius: 50%;\n",
              "      cursor: pointer;\n",
              "      display: none;\n",
              "      fill: #1967D2;\n",
              "      height: 32px;\n",
              "      padding: 0 0 0 0;\n",
              "      width: 32px;\n",
              "    }\n",
              "\n",
              "    .colab-df-convert:hover {\n",
              "      background-color: #E2EBFA;\n",
              "      box-shadow: 0px 1px 2px rgba(60, 64, 67, 0.3), 0px 1px 3px 1px rgba(60, 64, 67, 0.15);\n",
              "      fill: #174EA6;\n",
              "    }\n",
              "\n",
              "    [theme=dark] .colab-df-convert {\n",
              "      background-color: #3B4455;\n",
              "      fill: #D2E3FC;\n",
              "    }\n",
              "\n",
              "    [theme=dark] .colab-df-convert:hover {\n",
              "      background-color: #434B5C;\n",
              "      box-shadow: 0px 1px 3px 1px rgba(0, 0, 0, 0.15);\n",
              "      filter: drop-shadow(0px 1px 2px rgba(0, 0, 0, 0.3));\n",
              "      fill: #FFFFFF;\n",
              "    }\n",
              "  </style>\n",
              "\n",
              "      <script>\n",
              "        const buttonEl =\n",
              "          document.querySelector('#df-fa964e06-f3bc-4b20-a7f0-fcc7a7e184d8 button.colab-df-convert');\n",
              "        buttonEl.style.display =\n",
              "          google.colab.kernel.accessAllowed ? 'block' : 'none';\n",
              "\n",
              "        async function convertToInteractive(key) {\n",
              "          const element = document.querySelector('#df-fa964e06-f3bc-4b20-a7f0-fcc7a7e184d8');\n",
              "          const dataTable =\n",
              "            await google.colab.kernel.invokeFunction('convertToInteractive',\n",
              "                                                     [key], {});\n",
              "          if (!dataTable) return;\n",
              "\n",
              "          const docLinkHtml = 'Like what you see? Visit the ' +\n",
              "            '<a target=\"_blank\" href=https://colab.research.google.com/notebooks/data_table.ipynb>data table notebook</a>'\n",
              "            + ' to learn more about interactive tables.';\n",
              "          element.innerHTML = '';\n",
              "          dataTable['output_type'] = 'display_data';\n",
              "          await google.colab.output.renderOutput(dataTable, element);\n",
              "          const docLink = document.createElement('div');\n",
              "          docLink.innerHTML = docLinkHtml;\n",
              "          element.appendChild(docLink);\n",
              "        }\n",
              "      </script>\n",
              "    </div>\n",
              "  </div>\n",
              "  "
            ]
          },
          "metadata": {},
          "execution_count": 22
        }
      ]
    },
    {
      "cell_type": "markdown",
      "source": [
        "The problem with this approach is that it creates a fictitious ordering between the\n",
        "names, and neural networks are really good at learning these kinds of relationships.\n",
        "So instead, we can create a new column for each category and assign a 1 where the\n",
        "category is true, and a 0 otherwise."
      ],
      "metadata": {
        "id": "vfjypAwTMq1W"
      }
    },
    {
      "cell_type": "code",
      "source": [
        "#@ INITIALIZING ONE HOT ENCODING\n",
        "pd.get_dummies(categorical_df[\"Name\"])                                          # implementation of one hot vectors"
      ],
      "metadata": {
        "colab": {
          "base_uri": "https://localhost:8080/",
          "height": 143
        },
        "id": "hUm9RyVDMfrL",
        "outputId": "b3b17684-15fc-40ff-fc30-933d4921e486"
      },
      "execution_count": 23,
      "outputs": [
        {
          "output_type": "execute_result",
          "data": {
            "text/plain": [
              "   Bumblebee  Megatron  Optimus Prime\n",
              "0          1         0              0\n",
              "1          0         0              1\n",
              "2          0         1              0"
            ],
            "text/html": [
              "\n",
              "  <div id=\"df-7c345d0b-a12a-4254-a39b-0781f8540821\">\n",
              "    <div class=\"colab-df-container\">\n",
              "      <div>\n",
              "<style scoped>\n",
              "    .dataframe tbody tr th:only-of-type {\n",
              "        vertical-align: middle;\n",
              "    }\n",
              "\n",
              "    .dataframe tbody tr th {\n",
              "        vertical-align: top;\n",
              "    }\n",
              "\n",
              "    .dataframe thead th {\n",
              "        text-align: right;\n",
              "    }\n",
              "</style>\n",
              "<table border=\"1\" class=\"dataframe\">\n",
              "  <thead>\n",
              "    <tr style=\"text-align: right;\">\n",
              "      <th></th>\n",
              "      <th>Bumblebee</th>\n",
              "      <th>Megatron</th>\n",
              "      <th>Optimus Prime</th>\n",
              "    </tr>\n",
              "  </thead>\n",
              "  <tbody>\n",
              "    <tr>\n",
              "      <th>0</th>\n",
              "      <td>1</td>\n",
              "      <td>0</td>\n",
              "      <td>0</td>\n",
              "    </tr>\n",
              "    <tr>\n",
              "      <th>1</th>\n",
              "      <td>0</td>\n",
              "      <td>0</td>\n",
              "      <td>1</td>\n",
              "    </tr>\n",
              "    <tr>\n",
              "      <th>2</th>\n",
              "      <td>0</td>\n",
              "      <td>1</td>\n",
              "      <td>0</td>\n",
              "    </tr>\n",
              "  </tbody>\n",
              "</table>\n",
              "</div>\n",
              "      <button class=\"colab-df-convert\" onclick=\"convertToInteractive('df-7c345d0b-a12a-4254-a39b-0781f8540821')\"\n",
              "              title=\"Convert this dataframe to an interactive table.\"\n",
              "              style=\"display:none;\">\n",
              "        \n",
              "  <svg xmlns=\"http://www.w3.org/2000/svg\" height=\"24px\"viewBox=\"0 0 24 24\"\n",
              "       width=\"24px\">\n",
              "    <path d=\"M0 0h24v24H0V0z\" fill=\"none\"/>\n",
              "    <path d=\"M18.56 5.44l.94 2.06.94-2.06 2.06-.94-2.06-.94-.94-2.06-.94 2.06-2.06.94zm-11 1L8.5 8.5l.94-2.06 2.06-.94-2.06-.94L8.5 2.5l-.94 2.06-2.06.94zm10 10l.94 2.06.94-2.06 2.06-.94-2.06-.94-.94-2.06-.94 2.06-2.06.94z\"/><path d=\"M17.41 7.96l-1.37-1.37c-.4-.4-.92-.59-1.43-.59-.52 0-1.04.2-1.43.59L10.3 9.45l-7.72 7.72c-.78.78-.78 2.05 0 2.83L4 21.41c.39.39.9.59 1.41.59.51 0 1.02-.2 1.41-.59l7.78-7.78 2.81-2.81c.8-.78.8-2.07 0-2.86zM5.41 20L4 18.59l7.72-7.72 1.47 1.35L5.41 20z\"/>\n",
              "  </svg>\n",
              "      </button>\n",
              "      \n",
              "  <style>\n",
              "    .colab-df-container {\n",
              "      display:flex;\n",
              "      flex-wrap:wrap;\n",
              "      gap: 12px;\n",
              "    }\n",
              "\n",
              "    .colab-df-convert {\n",
              "      background-color: #E8F0FE;\n",
              "      border: none;\n",
              "      border-radius: 50%;\n",
              "      cursor: pointer;\n",
              "      display: none;\n",
              "      fill: #1967D2;\n",
              "      height: 32px;\n",
              "      padding: 0 0 0 0;\n",
              "      width: 32px;\n",
              "    }\n",
              "\n",
              "    .colab-df-convert:hover {\n",
              "      background-color: #E2EBFA;\n",
              "      box-shadow: 0px 1px 2px rgba(60, 64, 67, 0.3), 0px 1px 3px 1px rgba(60, 64, 67, 0.15);\n",
              "      fill: #174EA6;\n",
              "    }\n",
              "\n",
              "    [theme=dark] .colab-df-convert {\n",
              "      background-color: #3B4455;\n",
              "      fill: #D2E3FC;\n",
              "    }\n",
              "\n",
              "    [theme=dark] .colab-df-convert:hover {\n",
              "      background-color: #434B5C;\n",
              "      box-shadow: 0px 1px 3px 1px rgba(0, 0, 0, 0.15);\n",
              "      filter: drop-shadow(0px 1px 2px rgba(0, 0, 0, 0.3));\n",
              "      fill: #FFFFFF;\n",
              "    }\n",
              "  </style>\n",
              "\n",
              "      <script>\n",
              "        const buttonEl =\n",
              "          document.querySelector('#df-7c345d0b-a12a-4254-a39b-0781f8540821 button.colab-df-convert');\n",
              "        buttonEl.style.display =\n",
              "          google.colab.kernel.accessAllowed ? 'block' : 'none';\n",
              "\n",
              "        async function convertToInteractive(key) {\n",
              "          const element = document.querySelector('#df-7c345d0b-a12a-4254-a39b-0781f8540821');\n",
              "          const dataTable =\n",
              "            await google.colab.kernel.invokeFunction('convertToInteractive',\n",
              "                                                     [key], {});\n",
              "          if (!dataTable) return;\n",
              "\n",
              "          const docLinkHtml = 'Like what you see? Visit the ' +\n",
              "            '<a target=\"_blank\" href=https://colab.research.google.com/notebooks/data_table.ipynb>data table notebook</a>'\n",
              "            + ' to learn more about interactive tables.';\n",
              "          element.innerHTML = '';\n",
              "          dataTable['output_type'] = 'display_data';\n",
              "          await google.colab.output.renderOutput(dataTable, element);\n",
              "          const docLink = document.createElement('div');\n",
              "          docLink.innerHTML = docLinkHtml;\n",
              "          element.appendChild(docLink);\n",
              "        }\n",
              "      </script>\n",
              "    </div>\n",
              "  </div>\n",
              "  "
            ]
          },
          "metadata": {},
          "execution_count": 23
        }
      ]
    },
    {
      "cell_type": "code",
      "source": [
        "#@ ONE HOT ENCODING WITH PYTORCH\n",
        "input_ids = torch.tensor(input_ids)\n",
        "one_hot_encodings = F.one_hot(input_ids, num_classes=len(token2idx))\n",
        "one_hot_encodings.shape"
      ],
      "metadata": {
        "colab": {
          "base_uri": "https://localhost:8080/"
        },
        "id": "aWFrA9SlM6jB",
        "outputId": "ece57892-ea97-4c98-8525-3d6e3c6af6b4"
      },
      "execution_count": 24,
      "outputs": [
        {
          "output_type": "execute_result",
          "data": {
            "text/plain": [
              "torch.Size([37, 19])"
            ]
          },
          "metadata": {},
          "execution_count": 24
        }
      ]
    },
    {
      "cell_type": "markdown",
      "source": [
        "For each of the 37 input tokens, we have a one hot vector with 19 dimensions, since our vocabulary consists of 19 unique characters"
      ],
      "metadata": {
        "id": "ppE29iXNNxzM"
      }
    },
    {
      "cell_type": "code",
      "source": [
        "#@ INSPECTING CHARACTER LEVEL TOKENIZATION\n",
        "print(f\"Token: {tokenized_text[0]}\")\n",
        "print(f\"Tensor index: {input_ids}\")\n",
        "print(f\"One-hot: {one_hot_encodings[0]}\")"
      ],
      "metadata": {
        "colab": {
          "base_uri": "https://localhost:8080/"
        },
        "id": "gYaZaG2rNqjW",
        "outputId": "fe3efcfd-f969-4704-8c43-65349ec87dc1"
      },
      "execution_count": 25,
      "outputs": [
        {
          "output_type": "stream",
          "name": "stdout",
          "text": [
            "Token: T\n",
            "Tensor index: tensor([ 4, 13, 11,  7, 12, 10, 18, 10, 12,  9,  0, 16,  7, 17, 16,  0, 10, 15,\n",
            "         0,  5,  0,  6, 13, 14,  7,  0, 16,  5, 15, 11,  0, 13,  8,  0,  2,  1,\n",
            "         3])\n",
            "One-hot: tensor([0, 0, 0, 0, 1, 0, 0, 0, 0, 0, 0, 0, 0, 0, 0, 0, 0, 0, 0])\n"
          ]
        }
      ]
    },
    {
      "cell_type": "markdown",
      "source": [
        "📒 **Note**: From our simple example we can see that character-level tokenization ignores any\n",
        "structure in the text and treats the whole string as a stream of characters. <br>Although\n",
        "this helps deal with misspellings and rare words, the main drawback is that linguistic\n",
        "structures such as words need to be learned from the data. <br>This requires significant\n",
        "compute, memory, and data. For this reason, character tokenization is rarely used in\n",
        "practice."
      ],
      "metadata": {
        "id": "lbmHGDWIOq-8"
      }
    },
    {
      "cell_type": "markdown",
      "source": [
        "**Word Tokenization**\n",
        "<br> Instead of splitting the text into characters, we can split it into words and map each\n",
        "word to an integer."
      ],
      "metadata": {
        "id": "ZlSY1f4gPCqD"
      }
    },
    {
      "cell_type": "code",
      "source": [
        "#@ INITIALIZING WORD TOKENIZATION\n",
        "tokenized_text = text.split()                                                   # using white space to tokenize it by the use of split() function\n",
        "print(tokenized_text)            "
      ],
      "metadata": {
        "colab": {
          "base_uri": "https://localhost:8080/"
        },
        "id": "oe4yKNADOdOm",
        "outputId": "7880c5da-a14f-40f7-9121-4e1e3561da3a"
      },
      "execution_count": 26,
      "outputs": [
        {
          "output_type": "stream",
          "name": "stdout",
          "text": [
            "['Tokenizing', 'text', 'is', 'a', 'core', 'task', 'of', 'NLP']\n"
          ]
        }
      ]
    },
    {
      "cell_type": "markdown",
      "source": [
        "**Subword Tokenization**\n",
        "<br>The basic idea behind subword tokenization is to \n",
        "- combine the best aspects of character and word tokenization.\n",
        "- split rare words into smaller\n",
        "units to allow the model to deal with complex words and misspellings.\n",
        "- keep frequent words as unique entities so that we can keep the\n",
        "length of our inputs to a manageable size."
      ],
      "metadata": {
        "id": "SwC0KhxLXAfC"
      }
    },
    {
      "cell_type": "code",
      "source": [
        "#@ INITIALIZING SUBWORK TOKENIZATION\n",
        "model_ckpt = \"distilbert-base-uncased\"                                          # initializing model checkpoint\n",
        "tokenizer = AutoTokenizer.from_pretrained(model_ckpt)\n"
      ],
      "metadata": {
        "colab": {
          "base_uri": "https://localhost:8080/",
          "height": 145,
          "referenced_widgets": [
            "a795951faad5484fb9163fc6501d2293",
            "93344d5f69fb4983822b488ffd7e49c3",
            "d374bd283aa2460aab1506088376f701",
            "3142bd45fada451facc44ac9d12757ae",
            "41953ab5ae6047698ae42f1c9d75baa5",
            "02b80aa353f841559088ee50421dccb5",
            "09dcf2b56f47407985a53c3bd76a77f6",
            "d344b48734e74731a36392df39a23158",
            "120f48c3c34248c39048caa8cbfb571e",
            "080a4adbf1ff4797aaea79c1a0ea5106",
            "2b6c367391d24b4188150d1959d12f49",
            "fd6933e3a0f44e17b796da2060695a71",
            "c9ec186f55bd42fb9f869f887ef6e990",
            "e85e7d6990aa4e9bbc871a349bdfa8f4",
            "0da852b749ec40a2b0b8295ad496b703",
            "b3d1db9684d94b128be806e0a6408a81",
            "5050522e0ac940ba881b2cd650a55fa5",
            "3e326a81dffd4c3cb595f947ebc25ffd",
            "a6a66195e5184bb8b69e71a5c006c925",
            "8f8f48e0b37e4eb3a9b5ea7a8c04cd3f",
            "9040c023796540c89b942fa614feb511",
            "45d3f4ddc91148daa1fa47df548a8505",
            "02c3aa846ea74934af44d3e193cd2f0c",
            "c19c57a61caa4673a4a50593360373a6",
            "e02bc4ca0f3642df927f19b3be05ec69",
            "99c8b79183de4ebd882b156872fcaf51",
            "896be3b19bff4ae0bb775b3476c44fa5",
            "8fbeb50d914847f3b3385e51770976b2",
            "05aa48f9a93a4fd7a2c459a25b4f74d6",
            "58cfb0403a044c588c0a058df5a6dcd1",
            "c9c9526b82ca4f90a539f5855d78da8f",
            "f3fff1c5216648f3a0fc4f74df22d09a",
            "a5d8d50f5f4d4a64bbb1ab0105e8dfd0",
            "ec2c2ecec8d94d39a1bfb824c12f0abf",
            "8dc6c285742345279b6d248aa073b7a9",
            "cac973f588d64b99985a408926da9593",
            "731d00b512534140995e8942016d44a1",
            "cc99fb3dee8e435198e1af834a7105a0",
            "1b300bcdfe9a45e0b61d0d3220f6b94e",
            "df83c53653664e35a3f370dafb05b908",
            "e6e431a703264a5387f3fe58ada071eb",
            "8de4fba0b53a4002a68edeb2cee1cdd7",
            "c4979958b44d4405ad7292074a8899de",
            "f72d02e201184a71bf65197e27ad44c1"
          ]
        },
        "id": "h6fw6qV4WiWZ",
        "outputId": "c39cb59d-6948-47fb-cd6f-9d9255817ee0"
      },
      "execution_count": 27,
      "outputs": [
        {
          "output_type": "display_data",
          "data": {
            "text/plain": [
              "Downloading:   0%|          | 0.00/28.0 [00:00<?, ?B/s]"
            ],
            "application/vnd.jupyter.widget-view+json": {
              "version_major": 2,
              "version_minor": 0,
              "model_id": "a795951faad5484fb9163fc6501d2293"
            }
          },
          "metadata": {}
        },
        {
          "output_type": "display_data",
          "data": {
            "text/plain": [
              "Downloading:   0%|          | 0.00/483 [00:00<?, ?B/s]"
            ],
            "application/vnd.jupyter.widget-view+json": {
              "version_major": 2,
              "version_minor": 0,
              "model_id": "fd6933e3a0f44e17b796da2060695a71"
            }
          },
          "metadata": {}
        },
        {
          "output_type": "display_data",
          "data": {
            "text/plain": [
              "Downloading:   0%|          | 0.00/232k [00:00<?, ?B/s]"
            ],
            "application/vnd.jupyter.widget-view+json": {
              "version_major": 2,
              "version_minor": 0,
              "model_id": "02c3aa846ea74934af44d3e193cd2f0c"
            }
          },
          "metadata": {}
        },
        {
          "output_type": "display_data",
          "data": {
            "text/plain": [
              "Downloading:   0%|          | 0.00/466k [00:00<?, ?B/s]"
            ],
            "application/vnd.jupyter.widget-view+json": {
              "version_major": 2,
              "version_minor": 0,
              "model_id": "ec2c2ecec8d94d39a1bfb824c12f0abf"
            }
          },
          "metadata": {}
        }
      ]
    },
    {
      "cell_type": "markdown",
      "source": [
        "The **AutoTokenizer** class belongs to a larger set of “auto” classes whose job is to automatically retrieve the model’s configuration, pretrained weights, or vocabulary from the name of the checkpoint.\n",
        "<br> if you wish to load the specific **class manually** you can do so as well. For example, we could have loaded the **DistilBERT tokenizer** as follows:"
      ],
      "metadata": {
        "id": "BczTL58OYhtS"
      }
    },
    {
      "cell_type": "code",
      "source": [
        "#@ DISTILBERT TOKENIZER INITIALIZATION\n",
        "distilbert_tokenizer = DistilBertTokenizer.from_pretrained(model_ckpt)          # DistilBertTokenier initialization"
      ],
      "metadata": {
        "id": "Q5Z_Oa8eYNVL"
      },
      "execution_count": 28,
      "outputs": []
    },
    {
      "cell_type": "code",
      "source": [
        "#@ IMPLEMENTATION OF BERT TOKENIZER\n",
        "encoded_text = tokenizer(text)                                                  # Initializing tokenization\n",
        "print(encoded_text)                                                             # Inspection\n",
        "tokens = tokenizer.convert_ids_to_tokens(encoded_text.input_ids)                # Converting ids into tokens\n",
        "print(tokens)                                                                   # Inspecting the output\n",
        "print(tokenizer.convert_tokens_to_string(tokens))                               # Converting tokens into string"
      ],
      "metadata": {
        "colab": {
          "base_uri": "https://localhost:8080/"
        },
        "id": "3lnolm9saET0",
        "outputId": "57fac9e5-0faa-4b91-d295-ce9484697aa9"
      },
      "execution_count": 29,
      "outputs": [
        {
          "output_type": "stream",
          "name": "stdout",
          "text": [
            "{'input_ids': [101, 19204, 6026, 3793, 2003, 1037, 4563, 4708, 1997, 17953, 2361, 102], 'attention_mask': [1, 1, 1, 1, 1, 1, 1, 1, 1, 1, 1, 1]}\n",
            "['[CLS]', 'token', '##izing', 'text', 'is', 'a', 'core', 'task', 'of', 'nl', '##p', '[SEP]']\n",
            "[CLS] tokenizing text is a core task of nlp [SEP]\n"
          ]
        }
      ]
    },
    {
      "cell_type": "markdown",
      "source": [
        "- some special [CLS] and [SEP] tokens have\n",
        "been added to the start and end of the sequence. These tokens differ from model to model, but their main role is to indicate the start and end of a sequence.\n",
        "- the\n",
        "tokens have each been lowercased, which is a feature of this particular checkpoint.\n",
        "- we can see that “tokenizing” and “NLP” have been split into two tokens,\n",
        "which makes sense since they are not common words. The ## prefix in ##izing and ##p means that the preceding string is not whitespace;"
      ],
      "metadata": {
        "id": "T1W93E6Sba90"
      }
    },
    {
      "cell_type": "markdown",
      "source": [
        "**any token with this prefix\n",
        "should be merged with the previous token when you convert the tokens back to a\n",
        "string.**"
      ],
      "metadata": {
        "id": "yL7V5m-DcBwK"
      }
    },
    {
      "cell_type": "code",
      "source": [
        "#@ INSPECTING FEATURES OF TOKENIZER\n",
        "print(tokenizer.vocab_size)                                                     # Vocabulary size\n",
        "print(tokenizer.model_max_length)                                               # Inspecting model's maxmimum context size\n",
        "print(tokenizer.model_input_names)                                              # Inspecting keys        \n"
      ],
      "metadata": {
        "colab": {
          "base_uri": "https://localhost:8080/"
        },
        "id": "uKBcJRVzak4K",
        "outputId": "56ae416a-091e-4e3c-e6a0-a336cbb26afc"
      },
      "execution_count": 30,
      "outputs": [
        {
          "output_type": "stream",
          "name": "stdout",
          "text": [
            "30522\n",
            "512\n",
            "['input_ids', 'attention_mask']\n"
          ]
        }
      ]
    },
    {
      "cell_type": "markdown",
      "source": [
        "**Tokenizing the Whole Dataset**"
      ],
      "metadata": {
        "id": "0NXZx2_Pdf1n"
      }
    },
    {
      "cell_type": "code",
      "source": [
        "#@ FUNCTION TO TOKENIZE THE WHOLE DATASET\n",
        "def tokenize(batch):\n",
        "  return tokenizer(batch[\"text\"], padding=True, truncation=True)\n",
        "print(tokenize(emotions[\"train\"][:2]))"
      ],
      "metadata": {
        "colab": {
          "base_uri": "https://localhost:8080/"
        },
        "id": "MajfrhnicOxc",
        "outputId": "17749c48-52f2-4966-ce87-e2eb71c7b291"
      },
      "execution_count": 31,
      "outputs": [
        {
          "output_type": "stream",
          "name": "stdout",
          "text": [
            "{'input_ids': [[101, 1045, 2134, 2102, 2514, 26608, 102, 0, 0, 0, 0, 0, 0, 0, 0, 0, 0, 0, 0, 0, 0, 0, 0], [101, 1045, 2064, 2175, 2013, 3110, 2061, 20625, 2000, 2061, 9636, 17772, 2074, 2013, 2108, 2105, 2619, 2040, 14977, 1998, 2003, 8300, 102]], 'attention_mask': [[1, 1, 1, 1, 1, 1, 1, 0, 0, 0, 0, 0, 0, 0, 0, 0, 0, 0, 0, 0, 0, 0, 0], [1, 1, 1, 1, 1, 1, 1, 1, 1, 1, 1, 1, 1, 1, 1, 1, 1, 1, 1, 1, 1, 1, 1]]}\n"
          ]
        }
      ]
    },
    {
      "cell_type": "markdown",
      "source": [
        "📒 **Note**: \n",
        "<br> The result of padding: the first element of input_ids is shorter than\n",
        "the second, so zeros have been added to that element to make them the same length.\n",
        "![image.png](data:image/png;base64,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)"
      ],
      "metadata": {
        "id": "nYqniXHpeoSC"
      }
    },
    {
      "cell_type": "code",
      "source": [
        "#@ TOKENIZING THE WHOLE DATASET\n",
        "emotions_encoded = emotions.map(tokenize, batched=True, batch_size=None)        # Encoding whole dataset\n",
        "print(emotions_encoded[\"train\"].column_names)\n"
      ],
      "metadata": {
        "colab": {
          "base_uri": "https://localhost:8080/",
          "height": 131,
          "referenced_widgets": [
            "d7123512e09e4db5964c88eeca967da5",
            "a3a0198e423b4a8da4b680c24f00edb8",
            "86657178a0e04da48d046801c8c45b96",
            "422132fd00ac45b28e979ed35dc31b02",
            "1dbf66fd6ff848c0b277f459417d3ab2",
            "ccd5216677a54d1d804e2b1552208060",
            "52dd33db85fb4f81be3185dce92021a2",
            "d6a7405c283b4c478b47e32af548daea",
            "dddf7d340bcb4305a123619331024db0",
            "653a6c1960ea4ee48250d8c158527353",
            "dc5ad744e5094214a709be6e43eb4095",
            "e5f43cc68ec94268afa74c156d2b9003",
            "933cdc48ac6248e1b2fc58a888553c4e",
            "a1edc65cfa904293ae03c508f3eec86c",
            "b6b9ee57ac184bab871395adf902789b",
            "d0f1ae5542ce4f9881987a81cde7d74d",
            "ac3cca923dad4bbaab3418f5f1c4602f",
            "472a2940d459416e95e6bb36a3554e8e",
            "0537f5997e514e8dac7ec33693004789",
            "99bac1b7aede4b45a8a4527f4be082c5",
            "29e7ed200f054faa928787d06720d86c",
            "7021611535294b8f95ce8f994970deac",
            "775d3562dca04ea6b11366b27826909a",
            "a04d759325b9473386a7117ea50d11c2",
            "34cb75e7340e4428bd6a6248b8b4550c",
            "3665103d427d40c393db4ca88135c3fb",
            "c7857e2b0984440dad0c65e55a633bd0",
            "766fc4148f1c4dedbbab6cb6a09e1b54",
            "444d808d0e2d4ea98bbadfd605a38fa0",
            "04100c73f975411697b308cfbf1ee91e",
            "75aeaffec5334e3eaeb36b1594dd9b1c",
            "4648b20bbb6946b0b376229394608fde",
            "b4411360f33f432896b2411bc2b3d4fa"
          ]
        },
        "id": "PA0I993UeJ3M",
        "outputId": "2cb8646b-cc5b-45cb-9190-f1e9ddd0d78e"
      },
      "execution_count": 32,
      "outputs": [
        {
          "output_type": "display_data",
          "data": {
            "text/plain": [
              "  0%|          | 0/1 [00:00<?, ?ba/s]"
            ],
            "application/vnd.jupyter.widget-view+json": {
              "version_major": 2,
              "version_minor": 0,
              "model_id": "d7123512e09e4db5964c88eeca967da5"
            }
          },
          "metadata": {}
        },
        {
          "output_type": "display_data",
          "data": {
            "text/plain": [
              "  0%|          | 0/1 [00:00<?, ?ba/s]"
            ],
            "application/vnd.jupyter.widget-view+json": {
              "version_major": 2,
              "version_minor": 0,
              "model_id": "e5f43cc68ec94268afa74c156d2b9003"
            }
          },
          "metadata": {}
        },
        {
          "output_type": "display_data",
          "data": {
            "text/plain": [
              "  0%|          | 0/1 [00:00<?, ?ba/s]"
            ],
            "application/vnd.jupyter.widget-view+json": {
              "version_major": 2,
              "version_minor": 0,
              "model_id": "775d3562dca04ea6b11366b27826909a"
            }
          },
          "metadata": {}
        },
        {
          "output_type": "stream",
          "name": "stdout",
          "text": [
            "['text', 'label', 'input_ids', 'attention_mask']\n"
          ]
        }
      ]
    },
    {
      "cell_type": "markdown",
      "source": [
        "**Transformers as Feature Extractors**"
      ],
      "metadata": {
        "id": "TAiocc33hF0x"
      }
    },
    {
      "cell_type": "code",
      "source": [
        "#@ TRANSFORMERS AS A FEATURE EXTRACTORS\n",
        "model_ckpt = \"distilbert-base-uncased\"\n",
        "device = torch.device(\"cuda\" if torch.cuda.is_available() else \"cpu\")\n",
        "model = AutoModel.from_pretrained(model_ckpt).to(device)\n",
        "#@ IF TENSORFLOW IS USED\n",
        "# from transformers import TFAutoModel\n",
        "# tf_model = TFAutoModel.from_pretrained(model_ckpt)"
      ],
      "metadata": {
        "colab": {
          "base_uri": "https://localhost:8080/",
          "height": 123,
          "referenced_widgets": [
            "82a0c42b52f1423cbc5e2390db1c2020",
            "48df43ce5ed3411dbf7f017dc3414a8e",
            "5e7109490a504984996ca89c0f10af35",
            "cfc3b201e3644b9590b99513a392a846",
            "e1ca93584c444e3aa9f405f276a8834e",
            "68eea1e8e4bf42fcbc1b2b256e4ca408",
            "86d7d33196b64d4d96b01433d09b7751",
            "e8beb701b4244910aeaf97661e587533",
            "971399c9f7e74122ac0b8834bd8c2a23",
            "54597ee6a0694abeb53ff4121b8080b0",
            "c17af72aa88a4d0299bf545d715b7f28"
          ]
        },
        "id": "0GRX8ub6fyeB",
        "outputId": "d392d8f4-6edb-454b-ead8-dcf0b1596ff9"
      },
      "execution_count": 33,
      "outputs": [
        {
          "output_type": "display_data",
          "data": {
            "text/plain": [
              "Downloading:   0%|          | 0.00/268M [00:00<?, ?B/s]"
            ],
            "application/vnd.jupyter.widget-view+json": {
              "version_major": 2,
              "version_minor": 0,
              "model_id": "82a0c42b52f1423cbc5e2390db1c2020"
            }
          },
          "metadata": {}
        },
        {
          "output_type": "stream",
          "name": "stderr",
          "text": [
            "Some weights of the model checkpoint at distilbert-base-uncased were not used when initializing DistilBertModel: ['vocab_transform.weight', 'vocab_projector.bias', 'vocab_transform.bias', 'vocab_projector.weight', 'vocab_layer_norm.weight', 'vocab_layer_norm.bias']\n",
            "- This IS expected if you are initializing DistilBertModel from the checkpoint of a model trained on another task or with another architecture (e.g. initializing a BertForSequenceClassification model from a BertForPreTraining model).\n",
            "- This IS NOT expected if you are initializing DistilBertModel from the checkpoint of a model that you expect to be exactly identical (initializing a BertForSequenceClassification model from a BertForSequenceClassification model).\n"
          ]
        }
      ]
    },
    {
      "cell_type": "code",
      "source": [
        "#@ INITIALIZING TOKENIZATION: EXAMPLE\n",
        "text = \"I want to visit Nepal.\"\n",
        "inputs = tokenizer(text, return_tensors=\"pt\")                                   # Getting encoded tensors\n",
        "print(f\"input tensor shape: {inputs['input_ids'].size()}\")\n"
      ],
      "metadata": {
        "colab": {
          "base_uri": "https://localhost:8080/"
        },
        "id": "Uc-dwDVgjjon",
        "outputId": "afebde11-ee3d-410f-d7d0-a2ca7b7b9555"
      },
      "execution_count": 34,
      "outputs": [
        {
          "output_type": "stream",
          "name": "stdout",
          "text": [
            "input tensor shape: torch.Size([1, 8])\n"
          ]
        }
      ]
    },
    {
      "cell_type": "markdown",
      "source": [
        "Tensor shape [batch_size, n_tokens]"
      ],
      "metadata": {
        "id": "V1AdREgemdPW"
      }
    },
    {
      "cell_type": "code",
      "source": [
        "#@ IMPLEMENTATION OF THE MODEL\n",
        "inputs = {k:v.to(device) for k,v in inputs.items()}                             # Initializing gpu tensors\n",
        "with torch.no_grad():                                                           \n",
        "  outputs = model(**inputs)\n",
        "print(outputs)"
      ],
      "metadata": {
        "colab": {
          "base_uri": "https://localhost:8080/"
        },
        "id": "I1qfGRAMk54q",
        "outputId": "b7591911-1153-4852-c214-509cca244652"
      },
      "execution_count": 35,
      "outputs": [
        {
          "output_type": "stream",
          "name": "stdout",
          "text": [
            "BaseModelOutput(last_hidden_state=tensor([[[ 0.1546, -0.0911, -0.0231,  ..., -0.0712,  0.3609,  0.1749],\n",
            "         [ 0.6993, -0.0682, -0.2175,  ...,  0.0278,  0.4809,  0.1841],\n",
            "         [ 0.7189,  0.0244,  0.6199,  ..., -0.5452,  0.0448,  0.0669],\n",
            "         ...,\n",
            "         [ 0.8427, -0.0212, -0.3295,  ..., -0.4322, -0.2421, -0.3725],\n",
            "         [ 0.6529, -0.0734, -0.4964,  ...,  0.1613, -0.2189, -0.7544],\n",
            "         [ 0.6215,  0.1734,  0.0506,  ...,  0.1288, -0.0066, -0.5436]]],\n",
            "       device='cuda:0'), hidden_states=None, attentions=None)\n"
          ]
        }
      ]
    },
    {
      "cell_type": "code",
      "source": [
        "#@ INSPECTING MODEL OUTPUT\n",
        "print(outputs.last_hidden_state.size())\n",
        "print(outputs.last_hidden_state[:,0].size())\n"
      ],
      "metadata": {
        "colab": {
          "base_uri": "https://localhost:8080/"
        },
        "id": "My2lfefDm6SF",
        "outputId": "792fa48e-7b1c-4f4a-fa75-5bbedf83cdaf"
      },
      "execution_count": 36,
      "outputs": [
        {
          "output_type": "stream",
          "name": "stdout",
          "text": [
            "torch.Size([1, 8, 768])\n",
            "torch.Size([1, 768])\n"
          ]
        }
      ]
    },
    {
      "cell_type": "markdown",
      "source": [
        "So now lets extract last hidden state for whole dataset by creating a new hidden_state column that stores all these vectos."
      ],
      "metadata": {
        "id": "gei5QI2noHDz"
      }
    },
    {
      "cell_type": "code",
      "source": [
        "#@ EXTRACTING HIDDEN STATES FROM WHOLE DATASET\n",
        "def extract_hidden_states(batch):\n",
        "  # Place model inputs on GPU\n",
        "  inputs = {k:v.to(device) for k,v in batch.items()\n",
        "            if k in tokenizer.model_input_names}\n",
        "  # Extract last hidden states\n",
        "  with torch.no_grad():\n",
        "    last_hidden_state = model(**inputs).last_hidden_state\n",
        "  # Return vector for [CLS] token\n",
        "  return {\"hidden_state\": last_hidden_state[:,0].cpu().numpy()}"
      ],
      "metadata": {
        "id": "wI59u0YTnrAE"
      },
      "execution_count": 37,
      "outputs": []
    },
    {
      "cell_type": "code",
      "source": [
        "#@ EXTRACTING HIDDEN STATES FROM WHOLE DATASET\n",
        "emotions_encoded.set_format(\"torch\",\n",
        "                            columns=[\"input_ids\", \"attention_mask\", \"label\"])\n",
        "emotions_hidden = emotions_encoded.map(extract_hidden_states, batched=True)\n",
        "emotions_hidden[\"train\"].column_names"
      ],
      "metadata": {
        "colab": {
          "base_uri": "https://localhost:8080/",
          "height": 131,
          "referenced_widgets": [
            "0a24308c22124ac7bc20e46a69357e7d",
            "f7c78bf5c08143b4b97f561f5a1b5da0",
            "86fd061ef6ae49c6a51ea5901d6be129",
            "04f7a7b26cae4e9fb887922775e910e4",
            "e8145e2b735e4d6cb61f59815798bbba",
            "33827772ec61406fb66a4b55625c52b3",
            "4c8edf0383c04897a582a2940b778b40",
            "e9fabc66ef6141e285512e3ac2496375",
            "6cec306411c44236a91c6bbbe7d93073",
            "97af1f16e18e4fb29841c8fa418687c9",
            "9e043b9650c245009a0cbba2abef3717",
            "7e8ec97915ce4e0ea9c5475779b02e1a",
            "7618d9e976084f9082ffd8c46d43ef45",
            "ede9d89507154764aee72d6c33112ae2",
            "a0d954804eda421ebe4bc83e54903e15",
            "5598bcb2250a4b6b8ed05dd5792fab2b",
            "988063f6b7fd48c68a857a38f5addf55",
            "87e0b9d59bbe4fb69f25702b7c396ecc",
            "484e55717e59477c9cbc72281bc1eb4f",
            "9a493cc859eb480ca4a944a2dbf99a0e",
            "3d12ad3b958b43b8a0ddc7abae6f726d",
            "1b759f1a263645b490e1e46ab854b8b2",
            "43d28dd8332345c0b9646a4452eca529",
            "abcdc42ff98d4e04b8ce5db58a6069e9",
            "41b22bd4c15840aabc06651bd594af7a",
            "d105b9390f2149b49b4e6754b9c1a6a5",
            "2dec214308a1455b80c7a2b7e553b5ee",
            "829ca7c87e9e401786e7faf5388d5542",
            "8f8945fe32564f3f9044b51b8b92af2c",
            "2ca0cfaa426841e59a807a664dc678ae",
            "3396e6d0c69e479ba7c2803f30da5865",
            "13b36e56c3924c2ea1defeb583e826f8",
            "18319234f0bf46f79746a5bad5c82b0e"
          ]
        },
        "id": "Z-YtAjwppVGr",
        "outputId": "147e7479-dad1-4bf4-b602-2ea5d7b6b380"
      },
      "execution_count": 38,
      "outputs": [
        {
          "output_type": "display_data",
          "data": {
            "text/plain": [
              "  0%|          | 0/16 [00:00<?, ?ba/s]"
            ],
            "application/vnd.jupyter.widget-view+json": {
              "version_major": 2,
              "version_minor": 0,
              "model_id": "0a24308c22124ac7bc20e46a69357e7d"
            }
          },
          "metadata": {}
        },
        {
          "output_type": "display_data",
          "data": {
            "text/plain": [
              "  0%|          | 0/2 [00:00<?, ?ba/s]"
            ],
            "application/vnd.jupyter.widget-view+json": {
              "version_major": 2,
              "version_minor": 0,
              "model_id": "7e8ec97915ce4e0ea9c5475779b02e1a"
            }
          },
          "metadata": {}
        },
        {
          "output_type": "display_data",
          "data": {
            "text/plain": [
              "  0%|          | 0/2 [00:00<?, ?ba/s]"
            ],
            "application/vnd.jupyter.widget-view+json": {
              "version_major": 2,
              "version_minor": 0,
              "model_id": "43d28dd8332345c0b9646a4452eca529"
            }
          },
          "metadata": {}
        },
        {
          "output_type": "execute_result",
          "data": {
            "text/plain": [
              "['text', 'label', 'input_ids', 'attention_mask', 'hidden_state']"
            ]
          },
          "metadata": {},
          "execution_count": 38
        }
      ]
    },
    {
      "cell_type": "markdown",
      "source": [
        "**Creating a feature matrix**\n",
        "<br> hidden states as an input features\n",
        "<br> labels as targets"
      ],
      "metadata": {
        "id": "BSab-aoYkKoe"
      }
    },
    {
      "cell_type": "code",
      "source": [
        "#@ CREATING FEATURES MATRIX\n",
        "X_train = np.array(emotions_hidden[\"train\"][\"hidden_state\"])                    # Inspecting training sets\n",
        "X_valid = np.array(emotions_hidden[\"validation\"][\"hidden_state\"])               # Inspecting validation sets    \n",
        "y_train = np.array(emotions_hidden[\"train\"][\"label\"])                           # Inspecting training labels\n",
        "y_valid = np.array(emotions_hidden[\"validation\"][\"label\"])                      # Inspecting validation labels\n",
        "X_train.shape, X_valid.shape                                                    # Inspecting size"
      ],
      "metadata": {
        "colab": {
          "base_uri": "https://localhost:8080/"
        },
        "id": "_ROml0ngkQTc",
        "outputId": "952b87f7-fa03-4c1a-c035-4fd4332ed7f7"
      },
      "execution_count": 39,
      "outputs": [
        {
          "output_type": "execute_result",
          "data": {
            "text/plain": [
              "((16000, 768), (2000, 768))"
            ]
          },
          "metadata": {},
          "execution_count": 39
        }
      ]
    },
    {
      "cell_type": "markdown",
      "source": [
        "**Visualizing datasets**"
      ],
      "metadata": {
        "id": "Ezz8aqG3pYBK"
      }
    },
    {
      "cell_type": "code",
      "source": [
        "#@ VISUALIZATION OF TRAINING DATASETS\n",
        "X_scaled = MinMaxScaler().fit_transform(X_train)                                # Scale features to [0,1] range\n",
        "mapper = UMAP(n_components=2, metric=\"cosine\").fit(X_scaled)                    # Initialze and fit UMAP\n",
        "df_emb = pd.DataFrame(mapper.embedding_, columns=[\"X\", \"Y\"])                    # Create a DataFrame of 2D Embeddings\n",
        "df_emb[\"label\"] = y_train\n",
        "df_emb.head()\n"
      ],
      "metadata": {
        "colab": {
          "base_uri": "https://localhost:8080/",
          "height": 206
        },
        "id": "OKaJs5ODpVEC",
        "outputId": "722d0bf8-cd36-4b0e-8adb-e55a4de8b269"
      },
      "execution_count": 40,
      "outputs": [
        {
          "output_type": "execute_result",
          "data": {
            "text/plain": [
              "          X         Y  label\n",
              "0  4.140328  6.606538      0\n",
              "1 -3.057151  6.175980      0\n",
              "2  5.260786  3.183974      3\n",
              "3 -2.438195  4.027859      2\n",
              "4 -3.392851  4.192081      3"
            ],
            "text/html": [
              "\n",
              "  <div id=\"df-9d5704a3-9f96-4f23-badb-035b760b058b\">\n",
              "    <div class=\"colab-df-container\">\n",
              "      <div>\n",
              "<style scoped>\n",
              "    .dataframe tbody tr th:only-of-type {\n",
              "        vertical-align: middle;\n",
              "    }\n",
              "\n",
              "    .dataframe tbody tr th {\n",
              "        vertical-align: top;\n",
              "    }\n",
              "\n",
              "    .dataframe thead th {\n",
              "        text-align: right;\n",
              "    }\n",
              "</style>\n",
              "<table border=\"1\" class=\"dataframe\">\n",
              "  <thead>\n",
              "    <tr style=\"text-align: right;\">\n",
              "      <th></th>\n",
              "      <th>X</th>\n",
              "      <th>Y</th>\n",
              "      <th>label</th>\n",
              "    </tr>\n",
              "  </thead>\n",
              "  <tbody>\n",
              "    <tr>\n",
              "      <th>0</th>\n",
              "      <td>4.140328</td>\n",
              "      <td>6.606538</td>\n",
              "      <td>0</td>\n",
              "    </tr>\n",
              "    <tr>\n",
              "      <th>1</th>\n",
              "      <td>-3.057151</td>\n",
              "      <td>6.175980</td>\n",
              "      <td>0</td>\n",
              "    </tr>\n",
              "    <tr>\n",
              "      <th>2</th>\n",
              "      <td>5.260786</td>\n",
              "      <td>3.183974</td>\n",
              "      <td>3</td>\n",
              "    </tr>\n",
              "    <tr>\n",
              "      <th>3</th>\n",
              "      <td>-2.438195</td>\n",
              "      <td>4.027859</td>\n",
              "      <td>2</td>\n",
              "    </tr>\n",
              "    <tr>\n",
              "      <th>4</th>\n",
              "      <td>-3.392851</td>\n",
              "      <td>4.192081</td>\n",
              "      <td>3</td>\n",
              "    </tr>\n",
              "  </tbody>\n",
              "</table>\n",
              "</div>\n",
              "      <button class=\"colab-df-convert\" onclick=\"convertToInteractive('df-9d5704a3-9f96-4f23-badb-035b760b058b')\"\n",
              "              title=\"Convert this dataframe to an interactive table.\"\n",
              "              style=\"display:none;\">\n",
              "        \n",
              "  <svg xmlns=\"http://www.w3.org/2000/svg\" height=\"24px\"viewBox=\"0 0 24 24\"\n",
              "       width=\"24px\">\n",
              "    <path d=\"M0 0h24v24H0V0z\" fill=\"none\"/>\n",
              "    <path d=\"M18.56 5.44l.94 2.06.94-2.06 2.06-.94-2.06-.94-.94-2.06-.94 2.06-2.06.94zm-11 1L8.5 8.5l.94-2.06 2.06-.94-2.06-.94L8.5 2.5l-.94 2.06-2.06.94zm10 10l.94 2.06.94-2.06 2.06-.94-2.06-.94-.94-2.06-.94 2.06-2.06.94z\"/><path d=\"M17.41 7.96l-1.37-1.37c-.4-.4-.92-.59-1.43-.59-.52 0-1.04.2-1.43.59L10.3 9.45l-7.72 7.72c-.78.78-.78 2.05 0 2.83L4 21.41c.39.39.9.59 1.41.59.51 0 1.02-.2 1.41-.59l7.78-7.78 2.81-2.81c.8-.78.8-2.07 0-2.86zM5.41 20L4 18.59l7.72-7.72 1.47 1.35L5.41 20z\"/>\n",
              "  </svg>\n",
              "      </button>\n",
              "      \n",
              "  <style>\n",
              "    .colab-df-container {\n",
              "      display:flex;\n",
              "      flex-wrap:wrap;\n",
              "      gap: 12px;\n",
              "    }\n",
              "\n",
              "    .colab-df-convert {\n",
              "      background-color: #E8F0FE;\n",
              "      border: none;\n",
              "      border-radius: 50%;\n",
              "      cursor: pointer;\n",
              "      display: none;\n",
              "      fill: #1967D2;\n",
              "      height: 32px;\n",
              "      padding: 0 0 0 0;\n",
              "      width: 32px;\n",
              "    }\n",
              "\n",
              "    .colab-df-convert:hover {\n",
              "      background-color: #E2EBFA;\n",
              "      box-shadow: 0px 1px 2px rgba(60, 64, 67, 0.3), 0px 1px 3px 1px rgba(60, 64, 67, 0.15);\n",
              "      fill: #174EA6;\n",
              "    }\n",
              "\n",
              "    [theme=dark] .colab-df-convert {\n",
              "      background-color: #3B4455;\n",
              "      fill: #D2E3FC;\n",
              "    }\n",
              "\n",
              "    [theme=dark] .colab-df-convert:hover {\n",
              "      background-color: #434B5C;\n",
              "      box-shadow: 0px 1px 3px 1px rgba(0, 0, 0, 0.15);\n",
              "      filter: drop-shadow(0px 1px 2px rgba(0, 0, 0, 0.3));\n",
              "      fill: #FFFFFF;\n",
              "    }\n",
              "  </style>\n",
              "\n",
              "      <script>\n",
              "        const buttonEl =\n",
              "          document.querySelector('#df-9d5704a3-9f96-4f23-badb-035b760b058b button.colab-df-convert');\n",
              "        buttonEl.style.display =\n",
              "          google.colab.kernel.accessAllowed ? 'block' : 'none';\n",
              "\n",
              "        async function convertToInteractive(key) {\n",
              "          const element = document.querySelector('#df-9d5704a3-9f96-4f23-badb-035b760b058b');\n",
              "          const dataTable =\n",
              "            await google.colab.kernel.invokeFunction('convertToInteractive',\n",
              "                                                     [key], {});\n",
              "          if (!dataTable) return;\n",
              "\n",
              "          const docLinkHtml = 'Like what you see? Visit the ' +\n",
              "            '<a target=\"_blank\" href=https://colab.research.google.com/notebooks/data_table.ipynb>data table notebook</a>'\n",
              "            + ' to learn more about interactive tables.';\n",
              "          element.innerHTML = '';\n",
              "          dataTable['output_type'] = 'display_data';\n",
              "          await google.colab.output.renderOutput(dataTable, element);\n",
              "          const docLink = document.createElement('div');\n",
              "          docLink.innerHTML = docLinkHtml;\n",
              "          element.appendChild(docLink);\n",
              "        }\n",
              "      </script>\n",
              "    </div>\n",
              "  </div>\n",
              "  "
            ]
          },
          "metadata": {},
          "execution_count": 40
        }
      ]
    },
    {
      "cell_type": "code",
      "source": [
        "#@ VISUALIZE THE DATASET\n",
        "fig, axes = plt.subplots(2, 3, figsize=(7,5))\n",
        "axes = axes.flatten()\n",
        "cmaps = [\"Greys\", \"Blues\", \"Oranges\", \"Reds\", \"Purples\",\"Greens\"]\n",
        "labels = emotions[\"train\"].features[\"label\"].names\n",
        "for i, (label, cmap) in enumerate(zip(labels, cmaps)):\n",
        "  df_emb_sub = df_emb.query(f\"label == {i}\")\n",
        "  axes[i].hexbin(df_emb_sub[\"X\"], df_emb_sub[\"Y\"], cmap=cmap,\n",
        "                gridsize=20, linewidths=(0,))\n",
        "  axes[i].set_title(label)\n",
        "  axes[i].set_xticks([]), axes[i].set_yticks([])\n",
        "plt.tight_layout()\n",
        "plt.show()"
      ],
      "metadata": {
        "colab": {
          "base_uri": "https://localhost:8080/",
          "height": 369
        },
        "id": "lcLHDirjty5X",
        "outputId": "de98fa3c-5171-41d4-9291-6a45bcc69209"
      },
      "execution_count": 41,
      "outputs": [
        {
          "output_type": "display_data",
          "data": {
            "text/plain": [
              "<Figure size 504x360 with 6 Axes>"
            ],
            "image/png": "[encoded data removed]"
          },
          "metadata": {}
        }
      ]
    },
    {
      "cell_type": "markdown",
      "source": [
        "**Training a simple classifier**"
      ],
      "metadata": {
        "id": "W7QDX1Js0uBl"
      }
    },
    {
      "cell_type": "code",
      "source": [
        "lr_clf = LogisticRegression(max_iter=3000)\n",
        "lr_clf.fit(X_train, y_train)\n",
        "lr_clf.score(X_valid, y_valid)"
      ],
      "metadata": {
        "colab": {
          "base_uri": "https://localhost:8080/"
        },
        "id": "x_XY_EcU0aIz",
        "outputId": "e2d81a03-d4a7-48ad-adc4-97bc773438f4"
      },
      "execution_count": 42,
      "outputs": [
        {
          "output_type": "execute_result",
          "data": {
            "text/plain": [
              "0.633"
            ]
          },
          "metadata": {},
          "execution_count": 42
        }
      ]
    },
    {
      "cell_type": "code",
      "source": [
        "#@ TRAINING DUMMY CLASSIFIERS\n",
        "dummy_clf = DummyClassifier(strategy=\"most_frequent\")\n",
        "dummy_clf.fit(X_train, y_train)\n",
        "dummy_clf.score(X_valid, y_valid)"
      ],
      "metadata": {
        "colab": {
          "base_uri": "https://localhost:8080/"
        },
        "id": "aTfa9CJw1JFU",
        "outputId": "2902b957-5ad5-4046-9975-2d02c0b4ce92"
      },
      "execution_count": 43,
      "outputs": [
        {
          "output_type": "execute_result",
          "data": {
            "text/plain": [
              "0.352"
            ]
          },
          "metadata": {},
          "execution_count": 43
        }
      ]
    },
    {
      "cell_type": "code",
      "source": [
        "#@ INSPECTING CONFUSION MATRIX\n",
        "def plot_confusion_matrix(y_preds, y_true, labels):\n",
        "  cm = confusion_matrix(y_true, y_preds, normalize=\"true\")\n",
        "  fig, ax = plt.subplots(figsize=(6, 6))\n",
        "  disp = ConfusionMatrixDisplay(confusion_matrix=cm, display_labels=labels)\n",
        "  disp.plot(cmap=\"Blues\", values_format=\".2f\", ax=ax, colorbar=False)\n",
        "  plt.title(\"Normalized confusion matrix\")\n",
        "  plt.show()\n",
        "\n",
        "#@ INSPECTING CONFUSION MATRIX\n",
        "y_preds = lr_clf.predict(X_valid)\n",
        "plot_confusion_matrix(y_preds, y_valid, labels)"
      ],
      "metadata": {
        "colab": {
          "base_uri": "https://localhost:8080/",
          "height": 404
        },
        "id": "Qk-dX7Jd25bk",
        "outputId": "ecbe0fa3-ae4c-423b-c67b-c4b5906a5d6e"
      },
      "execution_count": 44,
      "outputs": [
        {
          "output_type": "display_data",
          "data": {
            "text/plain": [
              "<Figure size 432x432 with 1 Axes>"
            ],
            "image/png": "[encoded data removed]"
          },
          "metadata": {
            "needs_background": "light"
          }
        }
      ]
    },
    {
      "cell_type": "markdown",
      "source": [
        "**Fine-Tuning Transformers**\n",
        "<br> No need to use the hidden states as fixed features.\n",
        "<br> When using the fine-tuning approach the whole DistilBERT model is trained\n",
        "along with the classification head"
      ],
      "metadata": {
        "id": "1_nYK5z63jlm"
      }
    },
    {
      "cell_type": "code",
      "source": [
        "#@ IMPORTING THE LIBRARY FRO FINE-TUNING WITH DISTILBERT\n",
        "from transformers import AutoModelForSequenceClassification\n"
      ],
      "metadata": {
        "id": "0f5nBwX-3QkC"
      },
      "execution_count": 45,
      "outputs": []
    },
    {
      "cell_type": "code",
      "source": [
        "#@ INITIALIZING PRETRAINED MODEL\n",
        "num_labels = 6\n",
        "model = (AutoModelForSequenceClassification\n",
        "         .from_pretrained(model_ckpt, num_labels=num_labels)\n",
        "         .to(device))"
      ],
      "metadata": {
        "colab": {
          "base_uri": "https://localhost:8080/"
        },
        "id": "lX9QS1RF4SMV",
        "outputId": "0b217622-a13a-434c-b9dd-00ff92a30111"
      },
      "execution_count": 46,
      "outputs": [
        {
          "output_type": "stream",
          "name": "stderr",
          "text": [
            "Some weights of the model checkpoint at distilbert-base-uncased were not used when initializing DistilBertForSequenceClassification: ['vocab_transform.weight', 'vocab_projector.bias', 'vocab_transform.bias', 'vocab_projector.weight', 'vocab_layer_norm.weight', 'vocab_layer_norm.bias']\n",
            "- This IS expected if you are initializing DistilBertForSequenceClassification from the checkpoint of a model trained on another task or with another architecture (e.g. initializing a BertForSequenceClassification model from a BertForPreTraining model).\n",
            "- This IS NOT expected if you are initializing DistilBertForSequenceClassification from the checkpoint of a model that you expect to be exactly identical (initializing a BertForSequenceClassification model from a BertForSequenceClassification model).\n",
            "Some weights of DistilBertForSequenceClassification were not initialized from the model checkpoint at distilbert-base-uncased and are newly initialized: ['classifier.weight', 'pre_classifier.bias', 'classifier.bias', 'pre_classifier.weight']\n",
            "You should probably TRAIN this model on a down-stream task to be able to use it for predictions and inference.\n"
          ]
        }
      ]
    },
    {
      "cell_type": "markdown",
      "source": [
        "**Defining the performance metrics**"
      ],
      "metadata": {
        "id": "4sXKGxgW41a4"
      }
    },
    {
      "cell_type": "code",
      "source": [
        "#@ IMPORTING THE LIBRARY\n",
        "from sklearn.metrics import accuracy_score, f1_score"
      ],
      "metadata": {
        "id": "tmsnbgtb4pS1"
      },
      "execution_count": 47,
      "outputs": []
    },
    {
      "cell_type": "code",
      "source": [
        "#@ FUNCTION TO COMPUTE METRICS\n",
        "def compute_metrics(pred):\n",
        "  labels = pred.label_ids\n",
        "  preds = pred.predictions.argmax(-1)\n",
        "  f1 = f1_score(labels, preds, average=\"weighted\")\n",
        "  acc = accuracy_score(labels, preds)\n",
        "  return {\"accuracy\": acc, \"f1\": f1}"
      ],
      "metadata": {
        "id": "KfCjA-CW6De2"
      },
      "execution_count": 48,
      "outputs": []
    },
    {
      "cell_type": "markdown",
      "source": [
        "**Training the model**"
      ],
      "metadata": {
        "id": "U6abP8oVBFzW"
      }
    },
    {
      "cell_type": "code",
      "source": [
        "#@ IMPORTING LIBRARY\n",
        "from transformers import Trainer, TrainingArguments\n",
        "from transformers import Trainer\n",
        "from huggingface_hub import notebook_login"
      ],
      "metadata": {
        "id": "PrXrh5DmBQF4"
      },
      "execution_count": 49,
      "outputs": []
    },
    {
      "cell_type": "code",
      "source": [
        "#@ INITIALIZING TRAINING ARGUMENTS\n",
        "batch_size = 64\n",
        "logging_steps = len(emotions_encoded[\"train\"]) // batch_size\n",
        "model_name = f\"{model_ckpt}-finetuned-emotion\"\n",
        "training_args = TrainingArguments(output_dir=model_name,\n",
        "                num_train_epochs=2,\n",
        "                learning_rate=2e-5,\n",
        "                per_device_train_batch_size=batch_size,\n",
        "                per_device_eval_batch_size=batch_size,\n",
        "                weight_decay=0.01,\n",
        "                evaluation_strategy=\"epoch\",\n",
        "                disable_tqdm=False,\n",
        "                logging_steps=logging_steps,\n",
        "                push_to_hub=False,\n",
        "                log_level=\"error\")"
      ],
      "metadata": {
        "id": "nzKSOmpzA9Z-"
      },
      "execution_count": 50,
      "outputs": []
    },
    {
      "cell_type": "code",
      "source": [
        "#@ TRAINING MODEL:\n",
        "trainer = Trainer(model=model, args=training_args,\n",
        "                  compute_metrics=compute_metrics,\n",
        "                  train_dataset=emotions_encoded[\"train\"],\n",
        "                  eval_dataset=emotions_encoded[\"validation\"],\n",
        "                  tokenizer=distilbert_tokenizer)                                      # Initializing trainer.\n",
        "trainer.train(); "
      ],
      "metadata": {
        "colab": {
          "base_uri": "https://localhost:8080/",
          "height": 194
        },
        "id": "xROfGNH9Bin4",
        "outputId": "5df0f8dd-ea80-4f0a-f114-13d07f1dd208"
      },
      "execution_count": 51,
      "outputs": [
        {
          "output_type": "stream",
          "name": "stderr",
          "text": [
            "/usr/local/lib/python3.7/dist-packages/transformers/optimization.py:310: FutureWarning: This implementation of AdamW is deprecated and will be removed in a future version. Use the PyTorch implementation torch.optim.AdamW instead, or set `no_deprecation_warning=True` to disable this warning\n",
            "  FutureWarning,\n"
          ]
        },
        {
          "output_type": "display_data",
          "data": {
            "text/plain": [
              "<IPython.core.display.HTML object>"
            ],
            "text/html": [
              "\n",
              "    <div>\n",
              "      \n",
              "      <progress value='500' max='500' style='width:300px; height:20px; vertical-align: middle;'></progress>\n",
              "      [500/500 03:53, Epoch 2/2]\n",
              "    </div>\n",
              "    <table border=\"1\" class=\"dataframe\">\n",
              "  <thead>\n",
              " <tr style=\"text-align: left;\">\n",
              "      <th>Epoch</th>\n",
              "      <th>Training Loss</th>\n",
              "      <th>Validation Loss</th>\n",
              "      <th>Accuracy</th>\n",
              "      <th>F1</th>\n",
              "    </tr>\n",
              "  </thead>\n",
              "  <tbody>\n",
              "    <tr>\n",
              "      <td>1</td>\n",
              "      <td>0.886600</td>\n",
              "      <td>0.344583</td>\n",
              "      <td>0.897000</td>\n",
              "      <td>0.892615</td>\n",
              "    </tr>\n",
              "    <tr>\n",
              "      <td>2</td>\n",
              "      <td>0.267600</td>\n",
              "      <td>0.223830</td>\n",
              "      <td>0.926500</td>\n",
              "      <td>0.926471</td>\n",
              "    </tr>\n",
              "  </tbody>\n",
              "</table><p>"
            ]
          },
          "metadata": {}
        }
      ]
    },
    {
      "cell_type": "code",
      "source": [
        "#@ INITIALIZING MODEL EVALUATION: \n",
        "preds_output = trainer.predict(emotions_encoded[\"validation\"])                  # Generating predictions.\n",
        "print(preds_output.metrics)                                                     # Inspecting metrics."
      ],
      "metadata": {
        "id": "gy0Z2xoDByGI",
        "colab": {
          "base_uri": "https://localhost:8080/",
          "height": 55
        },
        "outputId": "f224ad00-4058-450f-b4aa-3859a6142ef8"
      },
      "execution_count": 52,
      "outputs": [
        {
          "output_type": "display_data",
          "data": {
            "text/plain": [
              "<IPython.core.display.HTML object>"
            ],
            "text/html": []
          },
          "metadata": {}
        },
        {
          "output_type": "stream",
          "name": "stdout",
          "text": [
            "{'test_loss': 0.223830446600914, 'test_accuracy': 0.9265, 'test_f1': 0.9264711252078356, 'test_runtime': 4.4318, 'test_samples_per_second': 451.288, 'test_steps_per_second': 7.221}\n"
          ]
        }
      ]
    },
    {
      "cell_type": "code",
      "source": [
        "#@ PLOTTING CONFUSION MATRIX:\n",
        "y_preds = np.argmax(preds_output.predictions, axis=1)                           # Generating predictions.\n",
        "plot_confusion_matrix(y_preds, y_valid, labels)                                 # Plotting confusion matrix."
      ],
      "metadata": {
        "id": "yeFQaoRgDKOu",
        "colab": {
          "base_uri": "https://localhost:8080/",
          "height": 404
        },
        "outputId": "b3f7ecde-1635-43e5-ac30-e4fc732b289f"
      },
      "execution_count": 53,
      "outputs": [
        {
          "output_type": "display_data",
          "data": {
            "text/plain": [
              "<Figure size 432x432 with 1 Axes>"
            ],
            "image/png": "[encoded data removed]"
          },
          "metadata": {
            "needs_background": "light"
          }
        }
      ]
    },
    {
      "cell_type": "code",
      "source": [
        "#@ DEFINING FUNCTION FOR ERROR ANALYSIS:\n",
        "def forward_pass_with_label(batch):                             # Defining function. \n",
        "    inputs = {k:v.to(device) for k,v in batch.items()\n",
        "              if k in tokenizer.model_input_names}              # Placing into gpu.\n",
        "    \n",
        "    with torch.no_grad():\n",
        "        output = model(**inputs)                                # Getting output predictions.\n",
        "        pred_label = torch.argmax(output.logits, axis=-1)       # Getting predictions label.\n",
        "        loss = F.cross_entropy(output.logits, \n",
        "                               batch[\"label\"].to(device),\n",
        "                               reduction=\"none\")                # Calculating loss. \n",
        "        return {\"loss\": loss.cpu().numpy(),\n",
        "                \"predicted_label\": pred_label.cpu().numpy()}    # Placing outputs on cpu."
      ],
      "metadata": {
        "id": "yijDSx8bDNRe"
      },
      "execution_count": 54,
      "outputs": []
    },
    {
      "cell_type": "code",
      "source": [
        "#@ COMPUTING LOSS:\n",
        "emotions_encoded[\"validation\"] = emotions_encoded[\"validation\"].map(\n",
        "    forward_pass_with_label, batched=True, batch_size=16\n",
        ")                                                                               # Implementation.\n",
        "emotions_encoded.set_format(\"pandas\")                                           # Changing format.\n",
        "cols = [\"text\", \"label\", \"predicted_label\", \"loss\"]                             # Initialization. \n",
        "df_test = emotions_encoded[\"validation\"][:][cols]                               # Initializing dataframe.\n",
        "df_test[\"label\"] = df_test[\"label\"].apply(label_int2str)                        # Converting integers into strings.\n",
        "df_test[\"predicted_label\"] = df_test[\"predicted_label\"].apply(label_int2str)    # Converting integers into strings.\n",
        "df_test.sort_values(\"loss\", ascending=False).head()                             # Inspection.\n"
      ],
      "metadata": {
        "id": "iQZEST-bDRG9",
        "colab": {
          "base_uri": "https://localhost:8080/",
          "height": 238,
          "referenced_widgets": [
            "6127125dbcb4426d832786cd67975d58",
            "29b791a65e8c4c968e67c0e0d525a0c0",
            "920798a0723a4c16a518190e09575850",
            "92c40b52600c49578150f49f65939d3c",
            "dd1be4ed12d5470c999638a89a656652",
            "5ac2a2e7a51c4d319820efead304eac4",
            "9105922afbf24235a82ec56229351250",
            "8f7de3de3abe4f13a6795adc03a86ab9",
            "d05f8c62fcd247ccb00e218b62acee14",
            "95b6b3b79a3141218a60b61d02efef3d",
            "2e7904cc1b3945be9152d4ba17df5851"
          ]
        },
        "outputId": "c735c60e-6291-4bae-a961-ad73745e267d"
      },
      "execution_count": 55,
      "outputs": [
        {
          "output_type": "display_data",
          "data": {
            "text/plain": [
              "  0%|          | 0/125 [00:00<?, ?ba/s]"
            ],
            "application/vnd.jupyter.widget-view+json": {
              "version_major": 2,
              "version_minor": 0,
              "model_id": "6127125dbcb4426d832786cd67975d58"
            }
          },
          "metadata": {}
        },
        {
          "output_type": "execute_result",
          "data": {
            "text/plain": [
              "                                                   text     label  \\\n",
              "882   i feel badly about reneging on my commitment t...      love   \n",
              "465   i would eventually go in to these stores but i...       joy   \n",
              "1801  i feel that he was being overshadowed by the s...      love   \n",
              "1274  i am going to several holiday parties and i ca...       joy   \n",
              "1950  i as representative of everything thats wrong ...  surprise   \n",
              "\n",
              "     predicted_label      loss  \n",
              "882          sadness  5.324295  \n",
              "465             fear  5.289501  \n",
              "1801         sadness  5.161278  \n",
              "1274         sadness  5.103940  \n",
              "1950         sadness  5.053280  "
            ],
            "text/html": [
              "\n",
              "  <div id=\"df-d25782ce-ff1b-4105-bb3d-137b174485ef\">\n",
              "    <div class=\"colab-df-container\">\n",
              "      <div>\n",
              "<style scoped>\n",
              "    .dataframe tbody tr th:only-of-type {\n",
              "        vertical-align: middle;\n",
              "    }\n",
              "\n",
              "    .dataframe tbody tr th {\n",
              "        vertical-align: top;\n",
              "    }\n",
              "\n",
              "    .dataframe thead th {\n",
              "        text-align: right;\n",
              "    }\n",
              "</style>\n",
              "<table border=\"1\" class=\"dataframe\">\n",
              "  <thead>\n",
              "    <tr style=\"text-align: right;\">\n",
              "      <th></th>\n",
              "      <th>text</th>\n",
              "      <th>label</th>\n",
              "      <th>predicted_label</th>\n",
              "      <th>loss</th>\n",
              "    </tr>\n",
              "  </thead>\n",
              "  <tbody>\n",
              "    <tr>\n",
              "      <th>882</th>\n",
              "      <td>i feel badly about reneging on my commitment t...</td>\n",
              "      <td>love</td>\n",
              "      <td>sadness</td>\n",
              "      <td>5.324295</td>\n",
              "    </tr>\n",
              "    <tr>\n",
              "      <th>465</th>\n",
              "      <td>i would eventually go in to these stores but i...</td>\n",
              "      <td>joy</td>\n",
              "      <td>fear</td>\n",
              "      <td>5.289501</td>\n",
              "    </tr>\n",
              "    <tr>\n",
              "      <th>1801</th>\n",
              "      <td>i feel that he was being overshadowed by the s...</td>\n",
              "      <td>love</td>\n",
              "      <td>sadness</td>\n",
              "      <td>5.161278</td>\n",
              "    </tr>\n",
              "    <tr>\n",
              "      <th>1274</th>\n",
              "      <td>i am going to several holiday parties and i ca...</td>\n",
              "      <td>joy</td>\n",
              "      <td>sadness</td>\n",
              "      <td>5.103940</td>\n",
              "    </tr>\n",
              "    <tr>\n",
              "      <th>1950</th>\n",
              "      <td>i as representative of everything thats wrong ...</td>\n",
              "      <td>surprise</td>\n",
              "      <td>sadness</td>\n",
              "      <td>5.053280</td>\n",
              "    </tr>\n",
              "  </tbody>\n",
              "</table>\n",
              "</div>\n",
              "      <button class=\"colab-df-convert\" onclick=\"convertToInteractive('df-d25782ce-ff1b-4105-bb3d-137b174485ef')\"\n",
              "              title=\"Convert this dataframe to an interactive table.\"\n",
              "              style=\"display:none;\">\n",
              "        \n",
              "  <svg xmlns=\"http://www.w3.org/2000/svg\" height=\"24px\"viewBox=\"0 0 24 24\"\n",
              "       width=\"24px\">\n",
              "    <path d=\"M0 0h24v24H0V0z\" fill=\"none\"/>\n",
              "    <path d=\"M18.56 5.44l.94 2.06.94-2.06 2.06-.94-2.06-.94-.94-2.06-.94 2.06-2.06.94zm-11 1L8.5 8.5l.94-2.06 2.06-.94-2.06-.94L8.5 2.5l-.94 2.06-2.06.94zm10 10l.94 2.06.94-2.06 2.06-.94-2.06-.94-.94-2.06-.94 2.06-2.06.94z\"/><path d=\"M17.41 7.96l-1.37-1.37c-.4-.4-.92-.59-1.43-.59-.52 0-1.04.2-1.43.59L10.3 9.45l-7.72 7.72c-.78.78-.78 2.05 0 2.83L4 21.41c.39.39.9.59 1.41.59.51 0 1.02-.2 1.41-.59l7.78-7.78 2.81-2.81c.8-.78.8-2.07 0-2.86zM5.41 20L4 18.59l7.72-7.72 1.47 1.35L5.41 20z\"/>\n",
              "  </svg>\n",
              "      </button>\n",
              "      \n",
              "  <style>\n",
              "    .colab-df-container {\n",
              "      display:flex;\n",
              "      flex-wrap:wrap;\n",
              "      gap: 12px;\n",
              "    }\n",
              "\n",
              "    .colab-df-convert {\n",
              "      background-color: #E8F0FE;\n",
              "      border: none;\n",
              "      border-radius: 50%;\n",
              "      cursor: pointer;\n",
              "      display: none;\n",
              "      fill: #1967D2;\n",
              "      height: 32px;\n",
              "      padding: 0 0 0 0;\n",
              "      width: 32px;\n",
              "    }\n",
              "\n",
              "    .colab-df-convert:hover {\n",
              "      background-color: #E2EBFA;\n",
              "      box-shadow: 0px 1px 2px rgba(60, 64, 67, 0.3), 0px 1px 3px 1px rgba(60, 64, 67, 0.15);\n",
              "      fill: #174EA6;\n",
              "    }\n",
              "\n",
              "    [theme=dark] .colab-df-convert {\n",
              "      background-color: #3B4455;\n",
              "      fill: #D2E3FC;\n",
              "    }\n",
              "\n",
              "    [theme=dark] .colab-df-convert:hover {\n",
              "      background-color: #434B5C;\n",
              "      box-shadow: 0px 1px 3px 1px rgba(0, 0, 0, 0.15);\n",
              "      filter: drop-shadow(0px 1px 2px rgba(0, 0, 0, 0.3));\n",
              "      fill: #FFFFFF;\n",
              "    }\n",
              "  </style>\n",
              "\n",
              "      <script>\n",
              "        const buttonEl =\n",
              "          document.querySelector('#df-d25782ce-ff1b-4105-bb3d-137b174485ef button.colab-df-convert');\n",
              "        buttonEl.style.display =\n",
              "          google.colab.kernel.accessAllowed ? 'block' : 'none';\n",
              "\n",
              "        async function convertToInteractive(key) {\n",
              "          const element = document.querySelector('#df-d25782ce-ff1b-4105-bb3d-137b174485ef');\n",
              "          const dataTable =\n",
              "            await google.colab.kernel.invokeFunction('convertToInteractive',\n",
              "                                                     [key], {});\n",
              "          if (!dataTable) return;\n",
              "\n",
              "          const docLinkHtml = 'Like what you see? Visit the ' +\n",
              "            '<a target=\"_blank\" href=https://colab.research.google.com/notebooks/data_table.ipynb>data table notebook</a>'\n",
              "            + ' to learn more about interactive tables.';\n",
              "          element.innerHTML = '';\n",
              "          dataTable['output_type'] = 'display_data';\n",
              "          await google.colab.output.renderOutput(dataTable, element);\n",
              "          const docLink = document.createElement('div');\n",
              "          docLink.innerHTML = docLinkHtml;\n",
              "          element.appendChild(docLink);\n",
              "        }\n",
              "      </script>\n",
              "    </div>\n",
              "  </div>\n",
              "  "
            ]
          },
          "metadata": {},
          "execution_count": 55
        }
      ]
    },
    {
      "cell_type": "code",
      "source": [
        "#@ INSPECTION:\n",
        "df_test.sort_values(\"loss\", ascending=True).head()                             # Inspection."
      ],
      "metadata": {
        "id": "wr8vxcB1DWSw",
        "colab": {
          "base_uri": "https://localhost:8080/",
          "height": 206
        },
        "outputId": "8a6a834a-76d4-4580-bf59-475cd0e156d5"
      },
      "execution_count": 56,
      "outputs": [
        {
          "output_type": "execute_result",
          "data": {
            "text/plain": [
              "                                                   text    label  \\\n",
              "1601  i feel so ungrateful when thinking saying thes...  sadness   \n",
              "69    i have no extra money im worried all of the ti...  sadness   \n",
              "1368  i started this blog with pure intentions i mus...  sadness   \n",
              "697   i was missing him desperately and feeling idio...  sadness   \n",
              "392   i remember feeling disheartened one day when w...  sadness   \n",
              "\n",
              "     predicted_label      loss  \n",
              "1601         sadness  0.019291  \n",
              "69           sadness  0.019291  \n",
              "1368         sadness  0.019411  \n",
              "697          sadness  0.019540  \n",
              "392          sadness  0.019571  "
            ],
            "text/html": [
              "\n",
              "  <div id=\"df-a718ddad-6fba-4193-8923-4cdcb382bc1f\">\n",
              "    <div class=\"colab-df-container\">\n",
              "      <div>\n",
              "<style scoped>\n",
              "    .dataframe tbody tr th:only-of-type {\n",
              "        vertical-align: middle;\n",
              "    }\n",
              "\n",
              "    .dataframe tbody tr th {\n",
              "        vertical-align: top;\n",
              "    }\n",
              "\n",
              "    .dataframe thead th {\n",
              "        text-align: right;\n",
              "    }\n",
              "</style>\n",
              "<table border=\"1\" class=\"dataframe\">\n",
              "  <thead>\n",
              "    <tr style=\"text-align: right;\">\n",
              "      <th></th>\n",
              "      <th>text</th>\n",
              "      <th>label</th>\n",
              "      <th>predicted_label</th>\n",
              "      <th>loss</th>\n",
              "    </tr>\n",
              "  </thead>\n",
              "  <tbody>\n",
              "    <tr>\n",
              "      <th>1601</th>\n",
              "      <td>i feel so ungrateful when thinking saying thes...</td>\n",
              "      <td>sadness</td>\n",
              "      <td>sadness</td>\n",
              "      <td>0.019291</td>\n",
              "    </tr>\n",
              "    <tr>\n",
              "      <th>69</th>\n",
              "      <td>i have no extra money im worried all of the ti...</td>\n",
              "      <td>sadness</td>\n",
              "      <td>sadness</td>\n",
              "      <td>0.019291</td>\n",
              "    </tr>\n",
              "    <tr>\n",
              "      <th>1368</th>\n",
              "      <td>i started this blog with pure intentions i mus...</td>\n",
              "      <td>sadness</td>\n",
              "      <td>sadness</td>\n",
              "      <td>0.019411</td>\n",
              "    </tr>\n",
              "    <tr>\n",
              "      <th>697</th>\n",
              "      <td>i was missing him desperately and feeling idio...</td>\n",
              "      <td>sadness</td>\n",
              "      <td>sadness</td>\n",
              "      <td>0.019540</td>\n",
              "    </tr>\n",
              "    <tr>\n",
              "      <th>392</th>\n",
              "      <td>i remember feeling disheartened one day when w...</td>\n",
              "      <td>sadness</td>\n",
              "      <td>sadness</td>\n",
              "      <td>0.019571</td>\n",
              "    </tr>\n",
              "  </tbody>\n",
              "</table>\n",
              "</div>\n",
              "      <button class=\"colab-df-convert\" onclick=\"convertToInteractive('df-a718ddad-6fba-4193-8923-4cdcb382bc1f')\"\n",
              "              title=\"Convert this dataframe to an interactive table.\"\n",
              "              style=\"display:none;\">\n",
              "        \n",
              "  <svg xmlns=\"http://www.w3.org/2000/svg\" height=\"24px\"viewBox=\"0 0 24 24\"\n",
              "       width=\"24px\">\n",
              "    <path d=\"M0 0h24v24H0V0z\" fill=\"none\"/>\n",
              "    <path d=\"M18.56 5.44l.94 2.06.94-2.06 2.06-.94-2.06-.94-.94-2.06-.94 2.06-2.06.94zm-11 1L8.5 8.5l.94-2.06 2.06-.94-2.06-.94L8.5 2.5l-.94 2.06-2.06.94zm10 10l.94 2.06.94-2.06 2.06-.94-2.06-.94-.94-2.06-.94 2.06-2.06.94z\"/><path d=\"M17.41 7.96l-1.37-1.37c-.4-.4-.92-.59-1.43-.59-.52 0-1.04.2-1.43.59L10.3 9.45l-7.72 7.72c-.78.78-.78 2.05 0 2.83L4 21.41c.39.39.9.59 1.41.59.51 0 1.02-.2 1.41-.59l7.78-7.78 2.81-2.81c.8-.78.8-2.07 0-2.86zM5.41 20L4 18.59l7.72-7.72 1.47 1.35L5.41 20z\"/>\n",
              "  </svg>\n",
              "      </button>\n",
              "      \n",
              "  <style>\n",
              "    .colab-df-container {\n",
              "      display:flex;\n",
              "      flex-wrap:wrap;\n",
              "      gap: 12px;\n",
              "    }\n",
              "\n",
              "    .colab-df-convert {\n",
              "      background-color: #E8F0FE;\n",
              "      border: none;\n",
              "      border-radius: 50%;\n",
              "      cursor: pointer;\n",
              "      display: none;\n",
              "      fill: #1967D2;\n",
              "      height: 32px;\n",
              "      padding: 0 0 0 0;\n",
              "      width: 32px;\n",
              "    }\n",
              "\n",
              "    .colab-df-convert:hover {\n",
              "      background-color: #E2EBFA;\n",
              "      box-shadow: 0px 1px 2px rgba(60, 64, 67, 0.3), 0px 1px 3px 1px rgba(60, 64, 67, 0.15);\n",
              "      fill: #174EA6;\n",
              "    }\n",
              "\n",
              "    [theme=dark] .colab-df-convert {\n",
              "      background-color: #3B4455;\n",
              "      fill: #D2E3FC;\n",
              "    }\n",
              "\n",
              "    [theme=dark] .colab-df-convert:hover {\n",
              "      background-color: #434B5C;\n",
              "      box-shadow: 0px 1px 3px 1px rgba(0, 0, 0, 0.15);\n",
              "      filter: drop-shadow(0px 1px 2px rgba(0, 0, 0, 0.3));\n",
              "      fill: #FFFFFF;\n",
              "    }\n",
              "  </style>\n",
              "\n",
              "      <script>\n",
              "        const buttonEl =\n",
              "          document.querySelector('#df-a718ddad-6fba-4193-8923-4cdcb382bc1f button.colab-df-convert');\n",
              "        buttonEl.style.display =\n",
              "          google.colab.kernel.accessAllowed ? 'block' : 'none';\n",
              "\n",
              "        async function convertToInteractive(key) {\n",
              "          const element = document.querySelector('#df-a718ddad-6fba-4193-8923-4cdcb382bc1f');\n",
              "          const dataTable =\n",
              "            await google.colab.kernel.invokeFunction('convertToInteractive',\n",
              "                                                     [key], {});\n",
              "          if (!dataTable) return;\n",
              "\n",
              "          const docLinkHtml = 'Like what you see? Visit the ' +\n",
              "            '<a target=\"_blank\" href=https://colab.research.google.com/notebooks/data_table.ipynb>data table notebook</a>'\n",
              "            + ' to learn more about interactive tables.';\n",
              "          element.innerHTML = '';\n",
              "          dataTable['output_type'] = 'display_data';\n",
              "          await google.colab.output.renderOutput(dataTable, element);\n",
              "          const docLink = document.createElement('div');\n",
              "          docLink.innerHTML = docLinkHtml;\n",
              "          element.appendChild(docLink);\n",
              "        }\n",
              "      </script>\n",
              "    </div>\n",
              "  </div>\n",
              "  "
            ]
          },
          "metadata": {},
          "execution_count": 56
        }
      ]
    }
  ]
}